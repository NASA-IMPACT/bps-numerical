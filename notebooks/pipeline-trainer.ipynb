{
 "cells": [
  {
   "cell_type": "code",
   "execution_count": null,
   "id": "bc9e4454",
   "metadata": {},
   "outputs": [],
   "source": [
    "%reload_ext autoreload\n",
    "%autoreload 2"
   ]
  },
  {
   "cell_type": "code",
   "execution_count": 2,
   "id": "617429cb",
   "metadata": {},
   "outputs": [],
   "source": [
    "import numpy as np\n",
    "import pandas as pd\n",
    "import matplotlib.pyplot as plt\n",
    "import seaborn as sns\n",
    "import plotly.express as px\n",
    "\n",
    "import random\n",
    "\n",
    "%matplotlib inline"
   ]
  },
  {
   "cell_type": "code",
   "execution_count": 3,
   "id": "2d21a78a",
   "metadata": {},
   "outputs": [],
   "source": [
    "import sys\n",
    "\n",
    "sys.path.append(\"./\")\n",
    "sys.path.append(\"../code/\")\n",
    "sys.path.append(\"./code/\")"
   ]
  },
  {
   "cell_type": "markdown",
   "id": "cb58ab98",
   "metadata": {},
   "source": [
    "# Data Loader"
   ]
  },
  {
   "cell_type": "code",
   "execution_count": 4,
   "id": "8656fa35",
   "metadata": {},
   "outputs": [],
   "source": [
    "from bps_numerical.preprocessing import merge_gene_phenotype, standardize_gene_data"
   ]
  },
  {
   "cell_type": "code",
   "execution_count": 5,
   "id": "427c905a",
   "metadata": {},
   "outputs": [],
   "source": [
    "CSV_GENE = \"/Users/nishparadox/dev/uah/nasa-impact/gene-experiments/data/OneDrive_1_3-21-2022/gen.csv\"\n",
    "\n",
    "CSV_PHENOTYPE = \"/Users/nishparadox/dev/uah/nasa-impact/gene-experiments/data/OneDrive_1_3-21-2022/meta.csv\""
   ]
  },
  {
   "cell_type": "code",
   "execution_count": 6,
   "id": "c0c53f72",
   "metadata": {},
   "outputs": [],
   "source": [
    "# df_merged = merge_gene_phenotype(standardize_gene_data(CSV_GENE), CSV_PHENOTYPE)"
   ]
  },
  {
   "cell_type": "code",
   "execution_count": 7,
   "id": "27063b15",
   "metadata": {},
   "outputs": [
    {
     "name": "stderr",
     "output_type": "stream",
     "text": [
      "2022-07-01 15:07:49.214 | INFO     | bps_numerical.preprocessing:standardize_gene_data:27 - Standardizing gene data into proper format.\n"
     ]
    }
   ],
   "source": [
    "df_genes = standardize_gene_data(CSV_GENE)"
   ]
  },
  {
   "cell_type": "code",
   "execution_count": 8,
   "id": "a71bcd0d",
   "metadata": {},
   "outputs": [
    {
     "data": {
      "text/html": [
       "<div>\n",
       "<style scoped>\n",
       "    .dataframe tbody tr th:only-of-type {\n",
       "        vertical-align: middle;\n",
       "    }\n",
       "\n",
       "    .dataframe tbody tr th {\n",
       "        vertical-align: top;\n",
       "    }\n",
       "\n",
       "    .dataframe thead th {\n",
       "        text-align: right;\n",
       "    }\n",
       "</style>\n",
       "<table border=\"1\" class=\"dataframe\">\n",
       "  <thead>\n",
       "    <tr style=\"text-align: right;\">\n",
       "      <th></th>\n",
       "      <th>Sample</th>\n",
       "      <th>ENSMUSG00000099250</th>\n",
       "      <th>ENSMUSG00000064339</th>\n",
       "      <th>ENSMUSG00000099021</th>\n",
       "      <th>ENSMUSG00000064351</th>\n",
       "      <th>ENSMUSG00000065037</th>\n",
       "      <th>ENSMUSG00000064337</th>\n",
       "      <th>ENSMUSG00000100862</th>\n",
       "      <th>ENSMUSG00000029368</th>\n",
       "      <th>ENSMUSG00000064370</th>\n",
       "      <th>...</th>\n",
       "      <th>ENSMUSG00000013367</th>\n",
       "      <th>ENSMUSG00000008153</th>\n",
       "      <th>ENSMUSG00000013083</th>\n",
       "      <th>ENSMUSG00000013155</th>\n",
       "      <th>ENSMUSG00000012819</th>\n",
       "      <th>ENSMUSG00000010307</th>\n",
       "      <th>ENSMUSG00000011837</th>\n",
       "      <th>ENSMUSG00000012889</th>\n",
       "      <th>ENSMUSG00000001642</th>\n",
       "      <th>ENSMUSG00000006019</th>\n",
       "    </tr>\n",
       "  </thead>\n",
       "  <tbody>\n",
       "    <tr>\n",
       "      <th>1</th>\n",
       "      <td>GLDS_242_Mmus_C57_6J_LVR_GC_C2_Rep4_G5</td>\n",
       "      <td>4.565105</td>\n",
       "      <td>4.486067</td>\n",
       "      <td>4.22359</td>\n",
       "      <td>4.137298</td>\n",
       "      <td>3.773993</td>\n",
       "      <td>3.86423</td>\n",
       "      <td>3.093246</td>\n",
       "      <td>4.149449</td>\n",
       "      <td>3.38502</td>\n",
       "      <td>...</td>\n",
       "      <td>-0.748711</td>\n",
       "      <td>0.514245</td>\n",
       "      <td>-0.834259</td>\n",
       "      <td>-0.637977</td>\n",
       "      <td>-1.04317</td>\n",
       "      <td>0.360869</td>\n",
       "      <td>0.374517</td>\n",
       "      <td>-0.665341</td>\n",
       "      <td>0.748225</td>\n",
       "      <td>0.347033</td>\n",
       "    </tr>\n",
       "    <tr>\n",
       "      <th>2</th>\n",
       "      <td>GLDS_48_Mmus_C57_6J_LVR_FLT_C_Rep2_M26</td>\n",
       "      <td>0.563454</td>\n",
       "      <td>3.140386</td>\n",
       "      <td>0.778641</td>\n",
       "      <td>4.384875</td>\n",
       "      <td>0.745577</td>\n",
       "      <td>3.01786</td>\n",
       "      <td>4.037345</td>\n",
       "      <td>4.180711</td>\n",
       "      <td>4.089054</td>\n",
       "      <td>...</td>\n",
       "      <td>-0.15882</td>\n",
       "      <td>0.151228</td>\n",
       "      <td>-1.032761</td>\n",
       "      <td>-0.42141</td>\n",
       "      <td>-1.151805</td>\n",
       "      <td>0.205813</td>\n",
       "      <td>0.746601</td>\n",
       "      <td>-0.813002</td>\n",
       "      <td>0.670417</td>\n",
       "      <td>0.730899</td>\n",
       "    </tr>\n",
       "    <tr>\n",
       "      <th>3</th>\n",
       "      <td>GLDS_168_Mmus_C57_6J_LVR_RR1_FLT_ERCC_Rep5_M30</td>\n",
       "      <td>3.968279</td>\n",
       "      <td>3.490494</td>\n",
       "      <td>3.984012</td>\n",
       "      <td>3.721062</td>\n",
       "      <td>3.526439</td>\n",
       "      <td>2.489441</td>\n",
       "      <td>2.644076</td>\n",
       "      <td>4.093958</td>\n",
       "      <td>2.904823</td>\n",
       "      <td>...</td>\n",
       "      <td>-0.599768</td>\n",
       "      <td>-0.157375</td>\n",
       "      <td>-1.130212</td>\n",
       "      <td>-0.677432</td>\n",
       "      <td>-1.094534</td>\n",
       "      <td>0.10989</td>\n",
       "      <td>0.389537</td>\n",
       "      <td>-0.571371</td>\n",
       "      <td>0.592057</td>\n",
       "      <td>0.711531</td>\n",
       "    </tr>\n",
       "    <tr>\n",
       "      <th>4</th>\n",
       "      <td>GLDS_168_Mmus_C57_6J_LVR_RR1_FLT_noERCC_Rep2_M26</td>\n",
       "      <td>3.980689</td>\n",
       "      <td>3.333291</td>\n",
       "      <td>3.988481</td>\n",
       "      <td>3.494274</td>\n",
       "      <td>3.49009</td>\n",
       "      <td>2.370999</td>\n",
       "      <td>2.394222</td>\n",
       "      <td>4.108144</td>\n",
       "      <td>2.68952</td>\n",
       "      <td>...</td>\n",
       "      <td>-0.739483</td>\n",
       "      <td>-0.103737</td>\n",
       "      <td>-1.071226</td>\n",
       "      <td>-0.535766</td>\n",
       "      <td>-1.029838</td>\n",
       "      <td>0.178408</td>\n",
       "      <td>0.361334</td>\n",
       "      <td>-0.453689</td>\n",
       "      <td>0.657613</td>\n",
       "      <td>0.623739</td>\n",
       "    </tr>\n",
       "    <tr>\n",
       "      <th>5</th>\n",
       "      <td>GLDS_245_Mmus_C57_6T_LVR_GC_LAR_Rep4_G5</td>\n",
       "      <td>4.991286</td>\n",
       "      <td>4.222969</td>\n",
       "      <td>4.533385</td>\n",
       "      <td>3.712087</td>\n",
       "      <td>4.184306</td>\n",
       "      <td>3.324107</td>\n",
       "      <td>2.698993</td>\n",
       "      <td>4.135948</td>\n",
       "      <td>2.888685</td>\n",
       "      <td>...</td>\n",
       "      <td>-0.592125</td>\n",
       "      <td>0.2066</td>\n",
       "      <td>-1.019552</td>\n",
       "      <td>-0.606019</td>\n",
       "      <td>-1.187632</td>\n",
       "      <td>0.356565</td>\n",
       "      <td>0.547004</td>\n",
       "      <td>-0.900965</td>\n",
       "      <td>0.880465</td>\n",
       "      <td>0.414951</td>\n",
       "    </tr>\n",
       "  </tbody>\n",
       "</table>\n",
       "<p>5 rows × 25001 columns</p>\n",
       "</div>"
      ],
      "text/plain": [
       "                                             Sample ENSMUSG00000099250  \\\n",
       "1            GLDS_242_Mmus_C57_6J_LVR_GC_C2_Rep4_G5           4.565105   \n",
       "2            GLDS_48_Mmus_C57_6J_LVR_FLT_C_Rep2_M26           0.563454   \n",
       "3    GLDS_168_Mmus_C57_6J_LVR_RR1_FLT_ERCC_Rep5_M30           3.968279   \n",
       "4  GLDS_168_Mmus_C57_6J_LVR_RR1_FLT_noERCC_Rep2_M26           3.980689   \n",
       "5           GLDS_245_Mmus_C57_6T_LVR_GC_LAR_Rep4_G5           4.991286   \n",
       "\n",
       "  ENSMUSG00000064339 ENSMUSG00000099021 ENSMUSG00000064351 ENSMUSG00000065037  \\\n",
       "1           4.486067            4.22359           4.137298           3.773993   \n",
       "2           3.140386           0.778641           4.384875           0.745577   \n",
       "3           3.490494           3.984012           3.721062           3.526439   \n",
       "4           3.333291           3.988481           3.494274            3.49009   \n",
       "5           4.222969           4.533385           3.712087           4.184306   \n",
       "\n",
       "  ENSMUSG00000064337 ENSMUSG00000100862 ENSMUSG00000029368 ENSMUSG00000064370  \\\n",
       "1            3.86423           3.093246           4.149449            3.38502   \n",
       "2            3.01786           4.037345           4.180711           4.089054   \n",
       "3           2.489441           2.644076           4.093958           2.904823   \n",
       "4           2.370999           2.394222           4.108144            2.68952   \n",
       "5           3.324107           2.698993           4.135948           2.888685   \n",
       "\n",
       "   ... ENSMUSG00000013367 ENSMUSG00000008153 ENSMUSG00000013083  \\\n",
       "1  ...          -0.748711           0.514245          -0.834259   \n",
       "2  ...           -0.15882           0.151228          -1.032761   \n",
       "3  ...          -0.599768          -0.157375          -1.130212   \n",
       "4  ...          -0.739483          -0.103737          -1.071226   \n",
       "5  ...          -0.592125             0.2066          -1.019552   \n",
       "\n",
       "  ENSMUSG00000013155 ENSMUSG00000012819 ENSMUSG00000010307 ENSMUSG00000011837  \\\n",
       "1          -0.637977           -1.04317           0.360869           0.374517   \n",
       "2           -0.42141          -1.151805           0.205813           0.746601   \n",
       "3          -0.677432          -1.094534            0.10989           0.389537   \n",
       "4          -0.535766          -1.029838           0.178408           0.361334   \n",
       "5          -0.606019          -1.187632           0.356565           0.547004   \n",
       "\n",
       "  ENSMUSG00000012889 ENSMUSG00000001642 ENSMUSG00000006019  \n",
       "1          -0.665341           0.748225           0.347033  \n",
       "2          -0.813002           0.670417           0.730899  \n",
       "3          -0.571371           0.592057           0.711531  \n",
       "4          -0.453689           0.657613           0.623739  \n",
       "5          -0.900965           0.880465           0.414951  \n",
       "\n",
       "[5 rows x 25001 columns]"
      ]
     },
     "execution_count": 8,
     "metadata": {},
     "output_type": "execute_result"
    }
   ],
   "source": [
    "df_genes.head()"
   ]
  },
  {
   "cell_type": "code",
   "execution_count": 9,
   "id": "c26f9391",
   "metadata": {},
   "outputs": [],
   "source": [
    "samples = df_genes.pop(\"Sample\")"
   ]
  },
  {
   "cell_type": "code",
   "execution_count": 10,
   "id": "3954bef2",
   "metadata": {},
   "outputs": [],
   "source": [
    "df_genes = df_genes.astype(float)"
   ]
  },
  {
   "cell_type": "code",
   "execution_count": 11,
   "id": "00e743a7",
   "metadata": {},
   "outputs": [
    {
     "data": {
      "text/plain": [
       "dtype('float64')"
      ]
     },
     "execution_count": 11,
     "metadata": {},
     "output_type": "execute_result"
    }
   ],
   "source": [
    "df_genes.iloc[0].dtype"
   ]
  },
  {
   "cell_type": "markdown",
   "id": "1e3bfc3a",
   "metadata": {},
   "source": [
    "# Feature Selection"
   ]
  },
  {
   "cell_type": "code",
   "execution_count": 12,
   "id": "b90d52a4",
   "metadata": {},
   "outputs": [],
   "source": [
    "from bps_numerical.clustering import CorrelationClusterer\n",
    "from bps_numerical.feature_selection import FirstFeatureSelector"
   ]
  },
  {
   "cell_type": "code",
   "execution_count": 13,
   "id": "c3a58e7f",
   "metadata": {},
   "outputs": [],
   "source": [
    "clusterer = CorrelationClusterer(\n",
    "    list(df_genes.columns),\n",
    "    cutoff_threshold=0.3,\n",
    "    debug=False\n",
    ")"
   ]
  },
  {
   "cell_type": "code",
   "execution_count": 14,
   "id": "b16e03e7",
   "metadata": {},
   "outputs": [],
   "source": [
    "fs = FirstFeatureSelector(clusterer=clusterer)"
   ]
  },
  {
   "cell_type": "code",
   "execution_count": 15,
   "id": "4bccff0b",
   "metadata": {},
   "outputs": [
    {
     "name": "stderr",
     "output_type": "stream",
     "text": [
      "2022-07-01 15:08:59.299 | DEBUG    | bps_numerical.clustering:cluster:62 - Computing correlation for (6832, 25000)\n",
      "2022-07-01 15:09:15.921 | INFO     | bps_numerical.clustering:_cluster:92 - Clustering in progress...\n",
      "2022-07-01 15:09:35.260 | DEBUG    | bps_numerical.clustering:cluster:86 - Took 19.338802814483643 seconds to form 9268 clusters...\n"
     ]
    }
   ],
   "source": [
    "cols_genes = fs.select_features(df_genes)"
   ]
  },
  {
   "cell_type": "code",
   "execution_count": 16,
   "id": "c943ea5c",
   "metadata": {},
   "outputs": [
    {
     "data": {
      "text/plain": [
       "9268"
      ]
     },
     "execution_count": 16,
     "metadata": {},
     "output_type": "execute_result"
    }
   ],
   "source": [
    "len(cols_genes)"
   ]
  },
  {
   "cell_type": "code",
   "execution_count": 17,
   "id": "03c820e4",
   "metadata": {},
   "outputs": [
    {
     "data": {
      "text/plain": [
       "['ENSMUSG00000099250',\n",
       " 'ENSMUSG00000064339',\n",
       " 'ENSMUSG00000064351',\n",
       " 'ENSMUSG00000029368',\n",
       " 'ENSMUSG00000098178',\n",
       " 'ENSMUSG00000037071',\n",
       " 'ENSMUSG00000106106',\n",
       " 'ENSMUSG00000105361',\n",
       " 'ENSMUSG00000020609',\n",
       " 'ENSMUSG00000032554']"
      ]
     },
     "execution_count": 17,
     "metadata": {},
     "output_type": "execute_result"
    }
   ],
   "source": [
    "cols_genes[:10]"
   ]
  },
  {
   "cell_type": "markdown",
   "id": "fd507d09",
   "metadata": {},
   "source": [
    "# Data Prep"
   ]
  },
  {
   "cell_type": "code",
   "execution_count": 18,
   "id": "5f15f109",
   "metadata": {},
   "outputs": [
    {
     "name": "stderr",
     "output_type": "stream",
     "text": [
      "2022-07-01 15:09:43.985 | INFO     | bps_numerical.preprocessing:merge_gene_phenotype:52 - Merging gene-phenotype dataframes...\n"
     ]
    }
   ],
   "source": [
    "df_merged = merge_gene_phenotype(\n",
    "    pd.concat([samples, df_genes[cols_genes]], axis=1),\n",
    "    CSV_PHENOTYPE,\n",
    "    \"Sample\",\n",
    ")"
   ]
  },
  {
   "cell_type": "code",
   "execution_count": 19,
   "id": "9039d9f7",
   "metadata": {},
   "outputs": [
    {
     "data": {
      "text/plain": [
       "(6832, 9281)"
      ]
     },
     "execution_count": 19,
     "metadata": {},
     "output_type": "execute_result"
    }
   ],
   "source": [
    "df_merged.shape"
   ]
  },
  {
   "cell_type": "code",
   "execution_count": 20,
   "id": "5ac6d994",
   "metadata": {},
   "outputs": [
    {
     "data": {
      "text/html": [
       "<div>\n",
       "<style scoped>\n",
       "    .dataframe tbody tr th:only-of-type {\n",
       "        vertical-align: middle;\n",
       "    }\n",
       "\n",
       "    .dataframe tbody tr th {\n",
       "        vertical-align: top;\n",
       "    }\n",
       "\n",
       "    .dataframe thead th {\n",
       "        text-align: right;\n",
       "    }\n",
       "</style>\n",
       "<table border=\"1\" class=\"dataframe\">\n",
       "  <thead>\n",
       "    <tr style=\"text-align: right;\">\n",
       "      <th></th>\n",
       "      <th>Sample</th>\n",
       "      <th>age</th>\n",
       "      <th>animalreturn</th>\n",
       "      <th>dataset</th>\n",
       "      <th>condition</th>\n",
       "      <th>duration</th>\n",
       "      <th>gender</th>\n",
       "      <th>libPrep</th>\n",
       "      <th>mission</th>\n",
       "      <th>preservation</th>\n",
       "      <th>...</th>\n",
       "      <th>ENSMUSG00000009585</th>\n",
       "      <th>ENSMUSG00000013921</th>\n",
       "      <th>ENSMUSG00000013611</th>\n",
       "      <th>ENSMUSG00000014554</th>\n",
       "      <th>ENSMUSG00000013523</th>\n",
       "      <th>ENSMUSG00000013418</th>\n",
       "      <th>ENSMUSG00000013415</th>\n",
       "      <th>ENSMUSG00000013353</th>\n",
       "      <th>ENSMUSG00000013158</th>\n",
       "      <th>ENSMUSG00000012819</th>\n",
       "    </tr>\n",
       "  </thead>\n",
       "  <tbody>\n",
       "    <tr>\n",
       "      <th>0</th>\n",
       "      <td>GLDS_242_Mmus_C57_6J_LVR_GC_C2_Rep4_G5</td>\n",
       "      <td>10</td>\n",
       "      <td>LAR</td>\n",
       "      <td>GLDS_242</td>\n",
       "      <td>GC</td>\n",
       "      <td>33</td>\n",
       "      <td>male</td>\n",
       "      <td>ribodepleted</td>\n",
       "      <td>RR9</td>\n",
       "      <td>immediate</td>\n",
       "      <td>...</td>\n",
       "      <td>0.582737</td>\n",
       "      <td>-0.595290</td>\n",
       "      <td>-1.150503</td>\n",
       "      <td>0.700040</td>\n",
       "      <td>-1.240282</td>\n",
       "      <td>-0.977355</td>\n",
       "      <td>-1.006752</td>\n",
       "      <td>-1.311184</td>\n",
       "      <td>-0.824456</td>\n",
       "      <td>-1.043170</td>\n",
       "    </tr>\n",
       "    <tr>\n",
       "      <th>1</th>\n",
       "      <td>GLDS_48_Mmus_C57_6J_LVR_FLT_C_Rep2_M26</td>\n",
       "      <td>16</td>\n",
       "      <td>ISST</td>\n",
       "      <td>GLDS_48</td>\n",
       "      <td>FLT</td>\n",
       "      <td>37</td>\n",
       "      <td>female</td>\n",
       "      <td>polyA</td>\n",
       "      <td>RR1_NASA</td>\n",
       "      <td>carcass</td>\n",
       "      <td>...</td>\n",
       "      <td>0.221626</td>\n",
       "      <td>-0.025088</td>\n",
       "      <td>-1.013243</td>\n",
       "      <td>0.856615</td>\n",
       "      <td>-1.134398</td>\n",
       "      <td>-1.024068</td>\n",
       "      <td>-0.838561</td>\n",
       "      <td>-1.241144</td>\n",
       "      <td>-0.981220</td>\n",
       "      <td>-1.151805</td>\n",
       "    </tr>\n",
       "    <tr>\n",
       "      <th>2</th>\n",
       "      <td>GLDS_168_Mmus_C57_6J_LVR_RR1_FLT_ERCC_Rep5_M30</td>\n",
       "      <td>16</td>\n",
       "      <td>ISST</td>\n",
       "      <td>GLDS_168</td>\n",
       "      <td>FLT</td>\n",
       "      <td>37</td>\n",
       "      <td>female</td>\n",
       "      <td>ribodepleted</td>\n",
       "      <td>RR1_NASA</td>\n",
       "      <td>carcass</td>\n",
       "      <td>...</td>\n",
       "      <td>0.420400</td>\n",
       "      <td>-0.474848</td>\n",
       "      <td>-1.127936</td>\n",
       "      <td>0.684060</td>\n",
       "      <td>-1.114766</td>\n",
       "      <td>-1.004149</td>\n",
       "      <td>-1.074711</td>\n",
       "      <td>-1.138751</td>\n",
       "      <td>-1.053856</td>\n",
       "      <td>-1.094534</td>\n",
       "    </tr>\n",
       "    <tr>\n",
       "      <th>3</th>\n",
       "      <td>GLDS_168_Mmus_C57_6J_LVR_RR1_FLT_noERCC_Rep2_M26</td>\n",
       "      <td>16</td>\n",
       "      <td>ISST</td>\n",
       "      <td>GLDS_168</td>\n",
       "      <td>FLT</td>\n",
       "      <td>37</td>\n",
       "      <td>female</td>\n",
       "      <td>ribodepleted</td>\n",
       "      <td>RR1_NASA</td>\n",
       "      <td>carcass</td>\n",
       "      <td>...</td>\n",
       "      <td>0.501785</td>\n",
       "      <td>-0.696546</td>\n",
       "      <td>-1.217986</td>\n",
       "      <td>0.700697</td>\n",
       "      <td>-1.137912</td>\n",
       "      <td>-1.112110</td>\n",
       "      <td>-1.107865</td>\n",
       "      <td>-1.070167</td>\n",
       "      <td>-1.217674</td>\n",
       "      <td>-1.029838</td>\n",
       "    </tr>\n",
       "    <tr>\n",
       "      <th>4</th>\n",
       "      <td>GLDS_245_Mmus_C57_6T_LVR_GC_LAR_Rep4_G5</td>\n",
       "      <td>32</td>\n",
       "      <td>LAR</td>\n",
       "      <td>GLDS_245</td>\n",
       "      <td>GC</td>\n",
       "      <td>29</td>\n",
       "      <td>female</td>\n",
       "      <td>ribodepleted</td>\n",
       "      <td>RR6</td>\n",
       "      <td>immediate</td>\n",
       "      <td>...</td>\n",
       "      <td>0.220479</td>\n",
       "      <td>-0.256057</td>\n",
       "      <td>-0.899914</td>\n",
       "      <td>0.755811</td>\n",
       "      <td>-1.138909</td>\n",
       "      <td>-0.896629</td>\n",
       "      <td>-0.961937</td>\n",
       "      <td>-1.059288</td>\n",
       "      <td>-1.152877</td>\n",
       "      <td>-1.187632</td>\n",
       "    </tr>\n",
       "  </tbody>\n",
       "</table>\n",
       "<p>5 rows × 9281 columns</p>\n",
       "</div>"
      ],
      "text/plain": [
       "                                             Sample  age animalreturn  \\\n",
       "0            GLDS_242_Mmus_C57_6J_LVR_GC_C2_Rep4_G5   10          LAR   \n",
       "1            GLDS_48_Mmus_C57_6J_LVR_FLT_C_Rep2_M26   16         ISST   \n",
       "2    GLDS_168_Mmus_C57_6J_LVR_RR1_FLT_ERCC_Rep5_M30   16         ISST   \n",
       "3  GLDS_168_Mmus_C57_6J_LVR_RR1_FLT_noERCC_Rep2_M26   16         ISST   \n",
       "4           GLDS_245_Mmus_C57_6T_LVR_GC_LAR_Rep4_G5   32          LAR   \n",
       "\n",
       "    dataset condition  duration  gender       libPrep   mission preservation  \\\n",
       "0  GLDS_242        GC        33    male  ribodepleted       RR9    immediate   \n",
       "1   GLDS_48       FLT        37  female         polyA  RR1_NASA      carcass   \n",
       "2  GLDS_168       FLT        37  female  ribodepleted  RR1_NASA      carcass   \n",
       "3  GLDS_168       FLT        37  female  ribodepleted  RR1_NASA      carcass   \n",
       "4  GLDS_245        GC        29  female  ribodepleted       RR6    immediate   \n",
       "\n",
       "   ... ENSMUSG00000009585 ENSMUSG00000013921 ENSMUSG00000013611  \\\n",
       "0  ...           0.582737          -0.595290          -1.150503   \n",
       "1  ...           0.221626          -0.025088          -1.013243   \n",
       "2  ...           0.420400          -0.474848          -1.127936   \n",
       "3  ...           0.501785          -0.696546          -1.217986   \n",
       "4  ...           0.220479          -0.256057          -0.899914   \n",
       "\n",
       "   ENSMUSG00000014554  ENSMUSG00000013523  ENSMUSG00000013418  \\\n",
       "0            0.700040           -1.240282           -0.977355   \n",
       "1            0.856615           -1.134398           -1.024068   \n",
       "2            0.684060           -1.114766           -1.004149   \n",
       "3            0.700697           -1.137912           -1.112110   \n",
       "4            0.755811           -1.138909           -0.896629   \n",
       "\n",
       "   ENSMUSG00000013415  ENSMUSG00000013353  ENSMUSG00000013158  \\\n",
       "0           -1.006752           -1.311184           -0.824456   \n",
       "1           -0.838561           -1.241144           -0.981220   \n",
       "2           -1.074711           -1.138751           -1.053856   \n",
       "3           -1.107865           -1.070167           -1.217674   \n",
       "4           -0.961937           -1.059288           -1.152877   \n",
       "\n",
       "   ENSMUSG00000012819  \n",
       "0           -1.043170  \n",
       "1           -1.151805  \n",
       "2           -1.094534  \n",
       "3           -1.029838  \n",
       "4           -1.187632  \n",
       "\n",
       "[5 rows x 9281 columns]"
      ]
     },
     "execution_count": 20,
     "metadata": {},
     "output_type": "execute_result"
    }
   ],
   "source": [
    "df_merged.head()"
   ]
  },
  {
   "cell_type": "code",
   "execution_count": 21,
   "id": "09eb44e9",
   "metadata": {},
   "outputs": [],
   "source": [
    "cols_phenotype = [\"condition\"]\n",
    "cols_to_use = cols_genes + cols_phenotype"
   ]
  },
  {
   "cell_type": "code",
   "execution_count": 22,
   "id": "c9b77699",
   "metadata": {},
   "outputs": [],
   "source": [
    "df_to_use = df_merged[cols_to_use]"
   ]
  },
  {
   "cell_type": "code",
   "execution_count": 23,
   "id": "4c12d691",
   "metadata": {},
   "outputs": [
    {
     "data": {
      "text/plain": [
       "condition\n",
       "FLT          3477\n",
       "GC           3355\n",
       "dtype: int64"
      ]
     },
     "execution_count": 23,
     "metadata": {},
     "output_type": "execute_result"
    }
   ],
   "source": [
    "df_to_use[cols_phenotype].value_counts()"
   ]
  },
  {
   "cell_type": "code",
   "execution_count": 24,
   "id": "0ea41e0b",
   "metadata": {},
   "outputs": [],
   "source": [
    "df_to_use = pd.get_dummies(df_to_use)"
   ]
  },
  {
   "cell_type": "code",
   "execution_count": 25,
   "id": "7ebcce5d",
   "metadata": {},
   "outputs": [
    {
     "data": {
      "text/plain": [
       "(6832, 9270)"
      ]
     },
     "execution_count": 25,
     "metadata": {},
     "output_type": "execute_result"
    }
   ],
   "source": [
    "df_to_use.shape"
   ]
  },
  {
   "cell_type": "code",
   "execution_count": 26,
   "id": "9389918a",
   "metadata": {},
   "outputs": [
    {
     "data": {
      "text/html": [
       "<div>\n",
       "<style scoped>\n",
       "    .dataframe tbody tr th:only-of-type {\n",
       "        vertical-align: middle;\n",
       "    }\n",
       "\n",
       "    .dataframe tbody tr th {\n",
       "        vertical-align: top;\n",
       "    }\n",
       "\n",
       "    .dataframe thead th {\n",
       "        text-align: right;\n",
       "    }\n",
       "</style>\n",
       "<table border=\"1\" class=\"dataframe\">\n",
       "  <thead>\n",
       "    <tr style=\"text-align: right;\">\n",
       "      <th></th>\n",
       "      <th>ENSMUSG00000099250</th>\n",
       "      <th>ENSMUSG00000064339</th>\n",
       "      <th>ENSMUSG00000064351</th>\n",
       "      <th>ENSMUSG00000029368</th>\n",
       "      <th>ENSMUSG00000098178</th>\n",
       "      <th>ENSMUSG00000037071</th>\n",
       "      <th>ENSMUSG00000106106</th>\n",
       "      <th>ENSMUSG00000105361</th>\n",
       "      <th>ENSMUSG00000020609</th>\n",
       "      <th>ENSMUSG00000032554</th>\n",
       "      <th>...</th>\n",
       "      <th>ENSMUSG00000013611</th>\n",
       "      <th>ENSMUSG00000014554</th>\n",
       "      <th>ENSMUSG00000013523</th>\n",
       "      <th>ENSMUSG00000013418</th>\n",
       "      <th>ENSMUSG00000013415</th>\n",
       "      <th>ENSMUSG00000013353</th>\n",
       "      <th>ENSMUSG00000013158</th>\n",
       "      <th>ENSMUSG00000012819</th>\n",
       "      <th>condition_FLT</th>\n",
       "      <th>condition_GC</th>\n",
       "    </tr>\n",
       "  </thead>\n",
       "  <tbody>\n",
       "    <tr>\n",
       "      <th>0</th>\n",
       "      <td>4.565105</td>\n",
       "      <td>4.486067</td>\n",
       "      <td>4.137298</td>\n",
       "      <td>4.149449</td>\n",
       "      <td>2.686711</td>\n",
       "      <td>3.704240</td>\n",
       "      <td>1.342527</td>\n",
       "      <td>-0.469961</td>\n",
       "      <td>3.456564</td>\n",
       "      <td>3.473342</td>\n",
       "      <td>...</td>\n",
       "      <td>-1.150503</td>\n",
       "      <td>0.700040</td>\n",
       "      <td>-1.240282</td>\n",
       "      <td>-0.977355</td>\n",
       "      <td>-1.006752</td>\n",
       "      <td>-1.311184</td>\n",
       "      <td>-0.824456</td>\n",
       "      <td>-1.043170</td>\n",
       "      <td>0</td>\n",
       "      <td>1</td>\n",
       "    </tr>\n",
       "    <tr>\n",
       "      <th>1</th>\n",
       "      <td>0.563454</td>\n",
       "      <td>3.140386</td>\n",
       "      <td>4.384875</td>\n",
       "      <td>4.180711</td>\n",
       "      <td>2.497359</td>\n",
       "      <td>2.849660</td>\n",
       "      <td>1.280951</td>\n",
       "      <td>-0.976236</td>\n",
       "      <td>2.765367</td>\n",
       "      <td>3.339221</td>\n",
       "      <td>...</td>\n",
       "      <td>-1.013243</td>\n",
       "      <td>0.856615</td>\n",
       "      <td>-1.134398</td>\n",
       "      <td>-1.024068</td>\n",
       "      <td>-0.838561</td>\n",
       "      <td>-1.241144</td>\n",
       "      <td>-0.981220</td>\n",
       "      <td>-1.151805</td>\n",
       "      <td>1</td>\n",
       "      <td>0</td>\n",
       "    </tr>\n",
       "    <tr>\n",
       "      <th>2</th>\n",
       "      <td>3.968279</td>\n",
       "      <td>3.490494</td>\n",
       "      <td>3.721062</td>\n",
       "      <td>4.093958</td>\n",
       "      <td>1.943452</td>\n",
       "      <td>3.477409</td>\n",
       "      <td>2.345267</td>\n",
       "      <td>1.763699</td>\n",
       "      <td>3.526118</td>\n",
       "      <td>3.562559</td>\n",
       "      <td>...</td>\n",
       "      <td>-1.127936</td>\n",
       "      <td>0.684060</td>\n",
       "      <td>-1.114766</td>\n",
       "      <td>-1.004149</td>\n",
       "      <td>-1.074711</td>\n",
       "      <td>-1.138751</td>\n",
       "      <td>-1.053856</td>\n",
       "      <td>-1.094534</td>\n",
       "      <td>1</td>\n",
       "      <td>0</td>\n",
       "    </tr>\n",
       "    <tr>\n",
       "      <th>3</th>\n",
       "      <td>3.980689</td>\n",
       "      <td>3.333291</td>\n",
       "      <td>3.494274</td>\n",
       "      <td>4.108144</td>\n",
       "      <td>2.104545</td>\n",
       "      <td>3.348338</td>\n",
       "      <td>2.658457</td>\n",
       "      <td>1.892642</td>\n",
       "      <td>3.504901</td>\n",
       "      <td>3.594130</td>\n",
       "      <td>...</td>\n",
       "      <td>-1.217986</td>\n",
       "      <td>0.700697</td>\n",
       "      <td>-1.137912</td>\n",
       "      <td>-1.112110</td>\n",
       "      <td>-1.107865</td>\n",
       "      <td>-1.070167</td>\n",
       "      <td>-1.217674</td>\n",
       "      <td>-1.029838</td>\n",
       "      <td>1</td>\n",
       "      <td>0</td>\n",
       "    </tr>\n",
       "    <tr>\n",
       "      <th>4</th>\n",
       "      <td>4.991286</td>\n",
       "      <td>4.222969</td>\n",
       "      <td>3.712087</td>\n",
       "      <td>4.135948</td>\n",
       "      <td>2.535683</td>\n",
       "      <td>3.040980</td>\n",
       "      <td>1.118650</td>\n",
       "      <td>0.347573</td>\n",
       "      <td>3.336408</td>\n",
       "      <td>3.650379</td>\n",
       "      <td>...</td>\n",
       "      <td>-0.899914</td>\n",
       "      <td>0.755811</td>\n",
       "      <td>-1.138909</td>\n",
       "      <td>-0.896629</td>\n",
       "      <td>-0.961937</td>\n",
       "      <td>-1.059288</td>\n",
       "      <td>-1.152877</td>\n",
       "      <td>-1.187632</td>\n",
       "      <td>0</td>\n",
       "      <td>1</td>\n",
       "    </tr>\n",
       "  </tbody>\n",
       "</table>\n",
       "<p>5 rows × 9270 columns</p>\n",
       "</div>"
      ],
      "text/plain": [
       "   ENSMUSG00000099250  ENSMUSG00000064339  ENSMUSG00000064351  \\\n",
       "0            4.565105            4.486067            4.137298   \n",
       "1            0.563454            3.140386            4.384875   \n",
       "2            3.968279            3.490494            3.721062   \n",
       "3            3.980689            3.333291            3.494274   \n",
       "4            4.991286            4.222969            3.712087   \n",
       "\n",
       "   ENSMUSG00000029368  ENSMUSG00000098178  ENSMUSG00000037071  \\\n",
       "0            4.149449            2.686711            3.704240   \n",
       "1            4.180711            2.497359            2.849660   \n",
       "2            4.093958            1.943452            3.477409   \n",
       "3            4.108144            2.104545            3.348338   \n",
       "4            4.135948            2.535683            3.040980   \n",
       "\n",
       "   ENSMUSG00000106106  ENSMUSG00000105361  ENSMUSG00000020609  \\\n",
       "0            1.342527           -0.469961            3.456564   \n",
       "1            1.280951           -0.976236            2.765367   \n",
       "2            2.345267            1.763699            3.526118   \n",
       "3            2.658457            1.892642            3.504901   \n",
       "4            1.118650            0.347573            3.336408   \n",
       "\n",
       "   ENSMUSG00000032554  ...  ENSMUSG00000013611  ENSMUSG00000014554  \\\n",
       "0            3.473342  ...           -1.150503            0.700040   \n",
       "1            3.339221  ...           -1.013243            0.856615   \n",
       "2            3.562559  ...           -1.127936            0.684060   \n",
       "3            3.594130  ...           -1.217986            0.700697   \n",
       "4            3.650379  ...           -0.899914            0.755811   \n",
       "\n",
       "   ENSMUSG00000013523  ENSMUSG00000013418  ENSMUSG00000013415  \\\n",
       "0           -1.240282           -0.977355           -1.006752   \n",
       "1           -1.134398           -1.024068           -0.838561   \n",
       "2           -1.114766           -1.004149           -1.074711   \n",
       "3           -1.137912           -1.112110           -1.107865   \n",
       "4           -1.138909           -0.896629           -0.961937   \n",
       "\n",
       "   ENSMUSG00000013353  ENSMUSG00000013158  ENSMUSG00000012819  condition_FLT  \\\n",
       "0           -1.311184           -0.824456           -1.043170              0   \n",
       "1           -1.241144           -0.981220           -1.151805              1   \n",
       "2           -1.138751           -1.053856           -1.094534              1   \n",
       "3           -1.070167           -1.217674           -1.029838              1   \n",
       "4           -1.059288           -1.152877           -1.187632              0   \n",
       "\n",
       "   condition_GC  \n",
       "0             1  \n",
       "1             0  \n",
       "2             0  \n",
       "3             0  \n",
       "4             1  \n",
       "\n",
       "[5 rows x 9270 columns]"
      ]
     },
     "execution_count": 26,
     "metadata": {},
     "output_type": "execute_result"
    }
   ],
   "source": [
    "df_to_use.head()"
   ]
  },
  {
   "cell_type": "code",
   "execution_count": 27,
   "id": "a4fdfd82",
   "metadata": {},
   "outputs": [
    {
     "data": {
      "text/plain": [
       "['condition_FLT', 'condition_GC']"
      ]
     },
     "execution_count": 27,
     "metadata": {},
     "output_type": "execute_result"
    }
   ],
   "source": [
    "labels = list(set(df_to_use.columns) - set(cols_genes) - set(cols_phenotype))\n",
    "labels"
   ]
  },
  {
   "cell_type": "markdown",
   "id": "0bec9258",
   "metadata": {},
   "source": [
    "# Trainer"
   ]
  },
  {
   "cell_type": "code",
   "execution_count": 38,
   "id": "bdd8cdb8",
   "metadata": {},
   "outputs": [],
   "source": [
    "from loguru import logger"
   ]
  },
  {
   "cell_type": "code",
   "execution_count": 37,
   "id": "4052185d",
   "metadata": {},
   "outputs": [],
   "source": [
    "from sklearn.base import BaseEstimator\n",
    "from sklearn.model_selection import train_test_split\n",
    "import xgboost"
   ]
  },
  {
   "cell_type": "code",
   "execution_count": 49,
   "id": "03a10923",
   "metadata": {},
   "outputs": [],
   "source": [
    "from typing import List, Type, Dict"
   ]
  },
  {
   "cell_type": "code",
   "execution_count": 50,
   "id": "356e172e",
   "metadata": {},
   "outputs": [],
   "source": [
    "import time"
   ]
  },
  {
   "cell_type": "code",
   "execution_count": 63,
   "id": "bd895c28",
   "metadata": {},
   "outputs": [],
   "source": [
    "class SingePhenotypeTrainer:\n",
    "    def __init__(\n",
    "        self, cols_genes: List[str],\n",
    "        phenotype:str,\n",
    "        model: Type[BaseEstimator],\n",
    "        debug: bool = False,\n",
    "    ) -> None:\n",
    "        self.cols_genes = list(cols_genes)\n",
    "        self.phenotype = phenotype\n",
    "        self.model = model or xgboost.XGBClassifier()\n",
    "        self.debug = debug\n",
    "        \n",
    "    def train(self, data: pd.DataFrame, test_size:float = 0.2):\n",
    "        target_counts = data[self.phenotype].value_counts()\n",
    "        data = data[self.cols_genes + [self.phenotype]]\n",
    "        data = pd.get_dummies(data)\n",
    "        \n",
    "        labels = list(set(df_to_use.columns) - set(cols_genes) - set(cols_phenotype))\n",
    "        \n",
    "        if self.debug:\n",
    "            logger.debug(f\"Target phenotype stats:: {target_counts}\")\n",
    "            logger.debug(f\"n genes = {len(self.cols_genes)} || Labels -> {labels}\")\n",
    "        \n",
    "        X_train, X_test, Y_train, Y_test = train_test_split(\n",
    "            data[self.cols_genes], \n",
    "            data[labels],\n",
    "            test_size=test_size,\n",
    "        )\n",
    "        tracker = self.fit(X_train, Y_train, X_test, Y_test)\n",
    "        tracker[\"labels\"] = labels\n",
    "        return tracker\n",
    "    \n",
    "    def fit(self, X_train, Y_train, X_test, Y_test) -> Dict[str, float]:\n",
    "        start = time.time()\n",
    "        logger.info(f\"Training...\")\n",
    "        \n",
    "        if self.debug:\n",
    "            logger.debug(f\"X_train={X_train.shape} | Y_train={Y_train.shape} | X_test={X_test.shape} | Y_test={Y_test.shape}\")\n",
    "            logger.debug(f\"Modle = {self.model}\")\n",
    "        \n",
    "        self.model.fit(X_train, Y_train)\n",
    "        metrics = {\n",
    "            \"train_score\": self.model.score(X_train, Y_train),\n",
    "            \"test_score\": self.model.score(X_test, Y_test)\n",
    "        }\n",
    "        \n",
    "        end = time.time()\n",
    "        logger.debug(f\"Training took {start-end} seconds.\")\n",
    "        return metrics"
   ]
  },
  {
   "cell_type": "code",
   "execution_count": 64,
   "id": "79472d6a",
   "metadata": {},
   "outputs": [],
   "source": [
    "model = xgboost.XGBClassifier()\n",
    "trainer = SingePhenotypeTrainer(\n",
    "    cols_genes=cols_genes,\n",
    "    phenotype=\"condition\",\n",
    "    model = model\n",
    ")"
   ]
  },
  {
   "cell_type": "code",
   "execution_count": 65,
   "id": "dac5e2f4",
   "metadata": {},
   "outputs": [
    {
     "name": "stderr",
     "output_type": "stream",
     "text": [
      "2022-07-01 15:32:56.114 | INFO     | __main__:fit:35 - Training...\n",
      "2022-07-01 15:33:34.102 | DEBUG    | __main__:fit:48 - Training took -37.98729705810547 seconds.\n"
     ]
    }
   ],
   "source": [
    "metrics = trainer.train(df_merged)"
   ]
  },
  {
   "cell_type": "code",
   "execution_count": 66,
   "id": "b5f15f9b",
   "metadata": {},
   "outputs": [
    {
     "data": {
      "text/plain": [
       "{'train_score': 1.0,\n",
       " 'test_score': 1.0,\n",
       " 'labels': ['condition_FLT', 'condition_GC']}"
      ]
     },
     "execution_count": 66,
     "metadata": {},
     "output_type": "execute_result"
    }
   ],
   "source": [
    "metrics"
   ]
  },
  {
   "cell_type": "markdown",
   "id": "6744524f",
   "metadata": {},
   "source": [
    "# Feature Scorer"
   ]
  },
  {
   "cell_type": "code",
   "execution_count": 73,
   "id": "3df540db",
   "metadata": {},
   "outputs": [],
   "source": [
    "from abc import ABC, abstractmethod\n",
    "\n",
    "from typing import List, Tuple, Optional\n",
    "class FeatureScorer(ABC):\n",
    "    def __init__(self, model: Type[BaseEstimator]) -> None:\n",
    "        self.model = model\n",
    "    \n",
    "    @abstractmethod\n",
    "    def get_features(self, *args, **kwargs) -> List[Tuple[str, float]]:\n",
    "        raise NotImplementedError()\n",
    "\n",
    "class SinglePhenotypeFeatureScorer(FeatureScorer):\n",
    "    \n",
    "    def get_features(self, top_k: int = 100, columns: Optional[List[str]]=None) -> List[Tuple[str, float]]:\n",
    "        cols = columns or self.model.feature_names_in_\n",
    "        importances = self.model.feature_importances_\n",
    "        indices = np.argsort(-importances)[:top_k]\n",
    "        cols = np.array(cols)[indices].tolist()\n",
    "        return list(zip(cols, importances[indices].tolist()))"
   ]
  },
  {
   "cell_type": "code",
   "execution_count": 74,
   "id": "5dbe08ac",
   "metadata": {},
   "outputs": [
    {
     "data": {
      "text/plain": [
       "[('ENSMUSG00000113575', 0.2343384325504303),\n",
       " ('ENSMUSG00000056999', 0.11355514824390411),\n",
       " ('ENSMUSG00000094320', 0.046360306441783905),\n",
       " ('ENSMUSG00000074373', 0.03878649324178696),\n",
       " ('ENSMUSG00000073000', 0.030737265944480896),\n",
       " ('ENSMUSG00000096688', 0.02965598925948143),\n",
       " ('ENSMUSG00000102135', 0.02877301163971424),\n",
       " ('ENSMUSG00000090176', 0.02293839305639267),\n",
       " ('ENSMUSG00000111528', 0.020082658156752586),\n",
       " ('ENSMUSG00000098013', 0.02006441541016102)]"
      ]
     },
     "execution_count": 74,
     "metadata": {},
     "output_type": "execute_result"
    }
   ],
   "source": [
    "SinglePhenotypeFeatureScorer(trainer.model).get_features(top_k=10)"
   ]
  }
 ],
 "metadata": {
  "kernelspec": {
   "display_name": "Python 3 (ipykernel)",
   "language": "python",
   "name": "python3"
  },
  "language_info": {
   "codemirror_mode": {
    "name": "ipython",
    "version": 3
   },
   "file_extension": ".py",
   "mimetype": "text/x-python",
   "name": "python",
   "nbconvert_exporter": "python",
   "pygments_lexer": "ipython3",
   "version": "3.9.11"
  }
 },
 "nbformat": 4,
 "nbformat_minor": 5
}
