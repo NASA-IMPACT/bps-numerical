{
 "cells": [
  {
   "cell_type": "code",
   "execution_count": 1,
   "id": "bc9e4454",
   "metadata": {},
   "outputs": [],
   "source": [
    "%reload_ext autoreload\n",
    "%autoreload 2"
   ]
  },
  {
   "cell_type": "code",
   "execution_count": 2,
   "id": "617429cb",
   "metadata": {},
   "outputs": [],
   "source": [
    "import numpy as np\n",
    "import pandas as pd\n",
    "import matplotlib.pyplot as plt\n",
    "import seaborn as sns\n",
    "import plotly.express as px\n",
    "\n",
    "import random\n",
    "\n",
    "%matplotlib inline"
   ]
  },
  {
   "cell_type": "code",
   "execution_count": 3,
   "id": "2d21a78a",
   "metadata": {},
   "outputs": [],
   "source": [
    "import sys\n",
    "\n",
    "sys.path.append(\"./\")\n",
    "sys.path.append(\"../code/\")\n",
    "sys.path.append(\"./code/\")"
   ]
  },
  {
   "cell_type": "markdown",
   "id": "cb58ab98",
   "metadata": {},
   "source": [
    "# Data Loader"
   ]
  },
  {
   "cell_type": "code",
   "execution_count": 4,
   "id": "8656fa35",
   "metadata": {},
   "outputs": [],
   "source": [
    "from bps_numerical.preprocessing import merge_gene_phenotype, standardize_gene_data"
   ]
  },
  {
   "cell_type": "code",
   "execution_count": 5,
   "id": "427c905a",
   "metadata": {},
   "outputs": [],
   "source": [
    "CSV_GENE = \"/Users/nishparadox/dev/uah/nasa-impact/gene-experiments/data/OneDrive_1_3-21-2022/gen.csv\"\n",
    "\n",
    "CSV_PHENOTYPE = \"/Users/nishparadox/dev/uah/nasa-impact/gene-experiments/data/OneDrive_1_3-21-2022/meta.csv\""
   ]
  },
  {
   "cell_type": "code",
   "execution_count": 6,
   "id": "c0c53f72",
   "metadata": {},
   "outputs": [],
   "source": [
    "# df_merged = merge_gene_phenotype(standardize_gene_data(CSV_GENE), CSV_PHENOTYPE)"
   ]
  },
  {
   "cell_type": "code",
   "execution_count": 7,
   "id": "27063b15",
   "metadata": {},
   "outputs": [
    {
     "name": "stderr",
     "output_type": "stream",
     "text": [
      "2022-07-06 16:56:54.021 | INFO     | bps_numerical.preprocessing:standardize_gene_data:27 - Standardizing gene data into proper format.\n"
     ]
    }
   ],
   "source": [
    "df_genes = standardize_gene_data(CSV_GENE)"
   ]
  },
  {
   "cell_type": "code",
   "execution_count": 8,
   "id": "a71bcd0d",
   "metadata": {},
   "outputs": [
    {
     "data": {
      "text/html": [
       "<div>\n",
       "<style scoped>\n",
       "    .dataframe tbody tr th:only-of-type {\n",
       "        vertical-align: middle;\n",
       "    }\n",
       "\n",
       "    .dataframe tbody tr th {\n",
       "        vertical-align: top;\n",
       "    }\n",
       "\n",
       "    .dataframe thead th {\n",
       "        text-align: right;\n",
       "    }\n",
       "</style>\n",
       "<table border=\"1\" class=\"dataframe\">\n",
       "  <thead>\n",
       "    <tr style=\"text-align: right;\">\n",
       "      <th></th>\n",
       "      <th>Sample</th>\n",
       "      <th>ENSMUSG00000099250</th>\n",
       "      <th>ENSMUSG00000064339</th>\n",
       "      <th>ENSMUSG00000099021</th>\n",
       "      <th>ENSMUSG00000064351</th>\n",
       "      <th>ENSMUSG00000065037</th>\n",
       "      <th>ENSMUSG00000064337</th>\n",
       "      <th>ENSMUSG00000100862</th>\n",
       "      <th>ENSMUSG00000029368</th>\n",
       "      <th>ENSMUSG00000064370</th>\n",
       "      <th>...</th>\n",
       "      <th>ENSMUSG00000013367</th>\n",
       "      <th>ENSMUSG00000008153</th>\n",
       "      <th>ENSMUSG00000013083</th>\n",
       "      <th>ENSMUSG00000013155</th>\n",
       "      <th>ENSMUSG00000012819</th>\n",
       "      <th>ENSMUSG00000010307</th>\n",
       "      <th>ENSMUSG00000011837</th>\n",
       "      <th>ENSMUSG00000012889</th>\n",
       "      <th>ENSMUSG00000001642</th>\n",
       "      <th>ENSMUSG00000006019</th>\n",
       "    </tr>\n",
       "  </thead>\n",
       "  <tbody>\n",
       "    <tr>\n",
       "      <th>1</th>\n",
       "      <td>GLDS_242_Mmus_C57_6J_LVR_GC_C2_Rep4_G5</td>\n",
       "      <td>4.565105</td>\n",
       "      <td>4.486067</td>\n",
       "      <td>4.22359</td>\n",
       "      <td>4.137298</td>\n",
       "      <td>3.773993</td>\n",
       "      <td>3.86423</td>\n",
       "      <td>3.093246</td>\n",
       "      <td>4.149449</td>\n",
       "      <td>3.38502</td>\n",
       "      <td>...</td>\n",
       "      <td>-0.748711</td>\n",
       "      <td>0.514245</td>\n",
       "      <td>-0.834259</td>\n",
       "      <td>-0.637977</td>\n",
       "      <td>-1.04317</td>\n",
       "      <td>0.360869</td>\n",
       "      <td>0.374517</td>\n",
       "      <td>-0.665341</td>\n",
       "      <td>0.748225</td>\n",
       "      <td>0.347033</td>\n",
       "    </tr>\n",
       "    <tr>\n",
       "      <th>2</th>\n",
       "      <td>GLDS_48_Mmus_C57_6J_LVR_FLT_C_Rep2_M26</td>\n",
       "      <td>0.563454</td>\n",
       "      <td>3.140386</td>\n",
       "      <td>0.778641</td>\n",
       "      <td>4.384875</td>\n",
       "      <td>0.745577</td>\n",
       "      <td>3.01786</td>\n",
       "      <td>4.037345</td>\n",
       "      <td>4.180711</td>\n",
       "      <td>4.089054</td>\n",
       "      <td>...</td>\n",
       "      <td>-0.15882</td>\n",
       "      <td>0.151228</td>\n",
       "      <td>-1.032761</td>\n",
       "      <td>-0.42141</td>\n",
       "      <td>-1.151805</td>\n",
       "      <td>0.205813</td>\n",
       "      <td>0.746601</td>\n",
       "      <td>-0.813002</td>\n",
       "      <td>0.670417</td>\n",
       "      <td>0.730899</td>\n",
       "    </tr>\n",
       "    <tr>\n",
       "      <th>3</th>\n",
       "      <td>GLDS_168_Mmus_C57_6J_LVR_RR1_FLT_ERCC_Rep5_M30</td>\n",
       "      <td>3.968279</td>\n",
       "      <td>3.490494</td>\n",
       "      <td>3.984012</td>\n",
       "      <td>3.721062</td>\n",
       "      <td>3.526439</td>\n",
       "      <td>2.489441</td>\n",
       "      <td>2.644076</td>\n",
       "      <td>4.093958</td>\n",
       "      <td>2.904823</td>\n",
       "      <td>...</td>\n",
       "      <td>-0.599768</td>\n",
       "      <td>-0.157375</td>\n",
       "      <td>-1.130212</td>\n",
       "      <td>-0.677432</td>\n",
       "      <td>-1.094534</td>\n",
       "      <td>0.10989</td>\n",
       "      <td>0.389537</td>\n",
       "      <td>-0.571371</td>\n",
       "      <td>0.592057</td>\n",
       "      <td>0.711531</td>\n",
       "    </tr>\n",
       "    <tr>\n",
       "      <th>4</th>\n",
       "      <td>GLDS_168_Mmus_C57_6J_LVR_RR1_FLT_noERCC_Rep2_M26</td>\n",
       "      <td>3.980689</td>\n",
       "      <td>3.333291</td>\n",
       "      <td>3.988481</td>\n",
       "      <td>3.494274</td>\n",
       "      <td>3.49009</td>\n",
       "      <td>2.370999</td>\n",
       "      <td>2.394222</td>\n",
       "      <td>4.108144</td>\n",
       "      <td>2.68952</td>\n",
       "      <td>...</td>\n",
       "      <td>-0.739483</td>\n",
       "      <td>-0.103737</td>\n",
       "      <td>-1.071226</td>\n",
       "      <td>-0.535766</td>\n",
       "      <td>-1.029838</td>\n",
       "      <td>0.178408</td>\n",
       "      <td>0.361334</td>\n",
       "      <td>-0.453689</td>\n",
       "      <td>0.657613</td>\n",
       "      <td>0.623739</td>\n",
       "    </tr>\n",
       "    <tr>\n",
       "      <th>5</th>\n",
       "      <td>GLDS_245_Mmus_C57_6T_LVR_GC_LAR_Rep4_G5</td>\n",
       "      <td>4.991286</td>\n",
       "      <td>4.222969</td>\n",
       "      <td>4.533385</td>\n",
       "      <td>3.712087</td>\n",
       "      <td>4.184306</td>\n",
       "      <td>3.324107</td>\n",
       "      <td>2.698993</td>\n",
       "      <td>4.135948</td>\n",
       "      <td>2.888685</td>\n",
       "      <td>...</td>\n",
       "      <td>-0.592125</td>\n",
       "      <td>0.2066</td>\n",
       "      <td>-1.019552</td>\n",
       "      <td>-0.606019</td>\n",
       "      <td>-1.187632</td>\n",
       "      <td>0.356565</td>\n",
       "      <td>0.547004</td>\n",
       "      <td>-0.900965</td>\n",
       "      <td>0.880465</td>\n",
       "      <td>0.414951</td>\n",
       "    </tr>\n",
       "  </tbody>\n",
       "</table>\n",
       "<p>5 rows × 25001 columns</p>\n",
       "</div>"
      ],
      "text/plain": [
       "                                             Sample ENSMUSG00000099250  \\\n",
       "1            GLDS_242_Mmus_C57_6J_LVR_GC_C2_Rep4_G5           4.565105   \n",
       "2            GLDS_48_Mmus_C57_6J_LVR_FLT_C_Rep2_M26           0.563454   \n",
       "3    GLDS_168_Mmus_C57_6J_LVR_RR1_FLT_ERCC_Rep5_M30           3.968279   \n",
       "4  GLDS_168_Mmus_C57_6J_LVR_RR1_FLT_noERCC_Rep2_M26           3.980689   \n",
       "5           GLDS_245_Mmus_C57_6T_LVR_GC_LAR_Rep4_G5           4.991286   \n",
       "\n",
       "  ENSMUSG00000064339 ENSMUSG00000099021 ENSMUSG00000064351 ENSMUSG00000065037  \\\n",
       "1           4.486067            4.22359           4.137298           3.773993   \n",
       "2           3.140386           0.778641           4.384875           0.745577   \n",
       "3           3.490494           3.984012           3.721062           3.526439   \n",
       "4           3.333291           3.988481           3.494274            3.49009   \n",
       "5           4.222969           4.533385           3.712087           4.184306   \n",
       "\n",
       "  ENSMUSG00000064337 ENSMUSG00000100862 ENSMUSG00000029368 ENSMUSG00000064370  \\\n",
       "1            3.86423           3.093246           4.149449            3.38502   \n",
       "2            3.01786           4.037345           4.180711           4.089054   \n",
       "3           2.489441           2.644076           4.093958           2.904823   \n",
       "4           2.370999           2.394222           4.108144            2.68952   \n",
       "5           3.324107           2.698993           4.135948           2.888685   \n",
       "\n",
       "   ... ENSMUSG00000013367 ENSMUSG00000008153 ENSMUSG00000013083  \\\n",
       "1  ...          -0.748711           0.514245          -0.834259   \n",
       "2  ...           -0.15882           0.151228          -1.032761   \n",
       "3  ...          -0.599768          -0.157375          -1.130212   \n",
       "4  ...          -0.739483          -0.103737          -1.071226   \n",
       "5  ...          -0.592125             0.2066          -1.019552   \n",
       "\n",
       "  ENSMUSG00000013155 ENSMUSG00000012819 ENSMUSG00000010307 ENSMUSG00000011837  \\\n",
       "1          -0.637977           -1.04317           0.360869           0.374517   \n",
       "2           -0.42141          -1.151805           0.205813           0.746601   \n",
       "3          -0.677432          -1.094534            0.10989           0.389537   \n",
       "4          -0.535766          -1.029838           0.178408           0.361334   \n",
       "5          -0.606019          -1.187632           0.356565           0.547004   \n",
       "\n",
       "  ENSMUSG00000012889 ENSMUSG00000001642 ENSMUSG00000006019  \n",
       "1          -0.665341           0.748225           0.347033  \n",
       "2          -0.813002           0.670417           0.730899  \n",
       "3          -0.571371           0.592057           0.711531  \n",
       "4          -0.453689           0.657613           0.623739  \n",
       "5          -0.900965           0.880465           0.414951  \n",
       "\n",
       "[5 rows x 25001 columns]"
      ]
     },
     "execution_count": 8,
     "metadata": {},
     "output_type": "execute_result"
    }
   ],
   "source": [
    "df_genes.head()"
   ]
  },
  {
   "cell_type": "code",
   "execution_count": 9,
   "id": "c26f9391",
   "metadata": {},
   "outputs": [],
   "source": [
    "samples = df_genes.pop(\"Sample\")"
   ]
  },
  {
   "cell_type": "code",
   "execution_count": 10,
   "id": "3954bef2",
   "metadata": {},
   "outputs": [],
   "source": [
    "df_genes = df_genes.astype(float)"
   ]
  },
  {
   "cell_type": "code",
   "execution_count": 11,
   "id": "00e743a7",
   "metadata": {},
   "outputs": [
    {
     "data": {
      "text/plain": [
       "dtype('float64')"
      ]
     },
     "execution_count": 11,
     "metadata": {},
     "output_type": "execute_result"
    }
   ],
   "source": [
    "df_genes.iloc[0].dtype"
   ]
  },
  {
   "cell_type": "markdown",
   "id": "1e3bfc3a",
   "metadata": {},
   "source": [
    "# Feature Selection"
   ]
  },
  {
   "cell_type": "code",
   "execution_count": 12,
   "id": "b90d52a4",
   "metadata": {},
   "outputs": [],
   "source": [
    "from bps_numerical.clustering import CorrelationClusterer\n",
    "from bps_numerical.feature_selection import FirstFeatureSelector"
   ]
  },
  {
   "cell_type": "code",
   "execution_count": 13,
   "id": "c3a58e7f",
   "metadata": {},
   "outputs": [],
   "source": [
    "clusterer = CorrelationClusterer(\n",
    "    list(df_genes.columns),\n",
    "    cutoff_threshold=0.3,\n",
    "    debug=False\n",
    ")"
   ]
  },
  {
   "cell_type": "code",
   "execution_count": 14,
   "id": "b16e03e7",
   "metadata": {},
   "outputs": [],
   "source": [
    "fs = FirstFeatureSelector(clusterer=clusterer)"
   ]
  },
  {
   "cell_type": "code",
   "execution_count": 15,
   "id": "4bccff0b",
   "metadata": {},
   "outputs": [
    {
     "name": "stderr",
     "output_type": "stream",
     "text": [
      "2022-07-06 16:57:22.650 | DEBUG    | bps_numerical.clustering:cluster:62 - Computing correlation for (6832, 25000)\n",
      "2022-07-06 16:57:40.829 | INFO     | bps_numerical.clustering:_cluster:91 - Clustering in progress...\n",
      "2022-07-06 16:58:00.326 | DEBUG    | bps_numerical.clustering:cluster:85 - Took 19.49661111831665 seconds to form 9268 clusters...\n"
     ]
    }
   ],
   "source": [
    "cols_genes = fs.select_features(df_genes)"
   ]
  },
  {
   "cell_type": "code",
   "execution_count": 16,
   "id": "c943ea5c",
   "metadata": {},
   "outputs": [
    {
     "data": {
      "text/plain": [
       "9268"
      ]
     },
     "execution_count": 16,
     "metadata": {},
     "output_type": "execute_result"
    }
   ],
   "source": [
    "len(cols_genes)"
   ]
  },
  {
   "cell_type": "code",
   "execution_count": 17,
   "id": "03c820e4",
   "metadata": {},
   "outputs": [
    {
     "data": {
      "text/plain": [
       "['ENSMUSG00000099250',\n",
       " 'ENSMUSG00000064339',\n",
       " 'ENSMUSG00000064351',\n",
       " 'ENSMUSG00000029368',\n",
       " 'ENSMUSG00000098178',\n",
       " 'ENSMUSG00000037071',\n",
       " 'ENSMUSG00000106106',\n",
       " 'ENSMUSG00000105361',\n",
       " 'ENSMUSG00000020609',\n",
       " 'ENSMUSG00000032554']"
      ]
     },
     "execution_count": 17,
     "metadata": {},
     "output_type": "execute_result"
    }
   ],
   "source": [
    "cols_genes[:10]"
   ]
  },
  {
   "cell_type": "markdown",
   "id": "fd507d09",
   "metadata": {},
   "source": [
    "# Data Prep"
   ]
  },
  {
   "cell_type": "code",
   "execution_count": 18,
   "id": "5f15f109",
   "metadata": {},
   "outputs": [
    {
     "name": "stderr",
     "output_type": "stream",
     "text": [
      "2022-07-06 16:58:00.599 | INFO     | bps_numerical.preprocessing:merge_gene_phenotype:52 - Merging gene-phenotype dataframes...\n"
     ]
    }
   ],
   "source": [
    "df_merged = merge_gene_phenotype(\n",
    "    pd.concat([samples, df_genes[cols_genes]], axis=1),\n",
    "    CSV_PHENOTYPE,\n",
    "    \"Sample\",\n",
    ")"
   ]
  },
  {
   "cell_type": "code",
   "execution_count": 19,
   "id": "9039d9f7",
   "metadata": {},
   "outputs": [
    {
     "data": {
      "text/plain": [
       "(6832, 9281)"
      ]
     },
     "execution_count": 19,
     "metadata": {},
     "output_type": "execute_result"
    }
   ],
   "source": [
    "df_merged.shape"
   ]
  },
  {
   "cell_type": "code",
   "execution_count": 20,
   "id": "5ac6d994",
   "metadata": {},
   "outputs": [
    {
     "data": {
      "text/html": [
       "<div>\n",
       "<style scoped>\n",
       "    .dataframe tbody tr th:only-of-type {\n",
       "        vertical-align: middle;\n",
       "    }\n",
       "\n",
       "    .dataframe tbody tr th {\n",
       "        vertical-align: top;\n",
       "    }\n",
       "\n",
       "    .dataframe thead th {\n",
       "        text-align: right;\n",
       "    }\n",
       "</style>\n",
       "<table border=\"1\" class=\"dataframe\">\n",
       "  <thead>\n",
       "    <tr style=\"text-align: right;\">\n",
       "      <th></th>\n",
       "      <th>Sample</th>\n",
       "      <th>age</th>\n",
       "      <th>animalreturn</th>\n",
       "      <th>dataset</th>\n",
       "      <th>condition</th>\n",
       "      <th>duration</th>\n",
       "      <th>gender</th>\n",
       "      <th>libPrep</th>\n",
       "      <th>mission</th>\n",
       "      <th>preservation</th>\n",
       "      <th>...</th>\n",
       "      <th>ENSMUSG00000009585</th>\n",
       "      <th>ENSMUSG00000013921</th>\n",
       "      <th>ENSMUSG00000013611</th>\n",
       "      <th>ENSMUSG00000014554</th>\n",
       "      <th>ENSMUSG00000013523</th>\n",
       "      <th>ENSMUSG00000013418</th>\n",
       "      <th>ENSMUSG00000013415</th>\n",
       "      <th>ENSMUSG00000013353</th>\n",
       "      <th>ENSMUSG00000013158</th>\n",
       "      <th>ENSMUSG00000012819</th>\n",
       "    </tr>\n",
       "  </thead>\n",
       "  <tbody>\n",
       "    <tr>\n",
       "      <th>0</th>\n",
       "      <td>GLDS_242_Mmus_C57_6J_LVR_GC_C2_Rep4_G5</td>\n",
       "      <td>10</td>\n",
       "      <td>LAR</td>\n",
       "      <td>GLDS_242</td>\n",
       "      <td>GC</td>\n",
       "      <td>33</td>\n",
       "      <td>male</td>\n",
       "      <td>ribodepleted</td>\n",
       "      <td>RR9</td>\n",
       "      <td>immediate</td>\n",
       "      <td>...</td>\n",
       "      <td>0.582737</td>\n",
       "      <td>-0.595290</td>\n",
       "      <td>-1.150503</td>\n",
       "      <td>0.700040</td>\n",
       "      <td>-1.240282</td>\n",
       "      <td>-0.977355</td>\n",
       "      <td>-1.006752</td>\n",
       "      <td>-1.311184</td>\n",
       "      <td>-0.824456</td>\n",
       "      <td>-1.043170</td>\n",
       "    </tr>\n",
       "    <tr>\n",
       "      <th>1</th>\n",
       "      <td>GLDS_48_Mmus_C57_6J_LVR_FLT_C_Rep2_M26</td>\n",
       "      <td>16</td>\n",
       "      <td>ISST</td>\n",
       "      <td>GLDS_48</td>\n",
       "      <td>FLT</td>\n",
       "      <td>37</td>\n",
       "      <td>female</td>\n",
       "      <td>polyA</td>\n",
       "      <td>RR1_NASA</td>\n",
       "      <td>carcass</td>\n",
       "      <td>...</td>\n",
       "      <td>0.221626</td>\n",
       "      <td>-0.025088</td>\n",
       "      <td>-1.013243</td>\n",
       "      <td>0.856615</td>\n",
       "      <td>-1.134398</td>\n",
       "      <td>-1.024068</td>\n",
       "      <td>-0.838561</td>\n",
       "      <td>-1.241144</td>\n",
       "      <td>-0.981220</td>\n",
       "      <td>-1.151805</td>\n",
       "    </tr>\n",
       "    <tr>\n",
       "      <th>2</th>\n",
       "      <td>GLDS_168_Mmus_C57_6J_LVR_RR1_FLT_ERCC_Rep5_M30</td>\n",
       "      <td>16</td>\n",
       "      <td>ISST</td>\n",
       "      <td>GLDS_168</td>\n",
       "      <td>FLT</td>\n",
       "      <td>37</td>\n",
       "      <td>female</td>\n",
       "      <td>ribodepleted</td>\n",
       "      <td>RR1_NASA</td>\n",
       "      <td>carcass</td>\n",
       "      <td>...</td>\n",
       "      <td>0.420400</td>\n",
       "      <td>-0.474848</td>\n",
       "      <td>-1.127936</td>\n",
       "      <td>0.684060</td>\n",
       "      <td>-1.114766</td>\n",
       "      <td>-1.004149</td>\n",
       "      <td>-1.074711</td>\n",
       "      <td>-1.138751</td>\n",
       "      <td>-1.053856</td>\n",
       "      <td>-1.094534</td>\n",
       "    </tr>\n",
       "    <tr>\n",
       "      <th>3</th>\n",
       "      <td>GLDS_168_Mmus_C57_6J_LVR_RR1_FLT_noERCC_Rep2_M26</td>\n",
       "      <td>16</td>\n",
       "      <td>ISST</td>\n",
       "      <td>GLDS_168</td>\n",
       "      <td>FLT</td>\n",
       "      <td>37</td>\n",
       "      <td>female</td>\n",
       "      <td>ribodepleted</td>\n",
       "      <td>RR1_NASA</td>\n",
       "      <td>carcass</td>\n",
       "      <td>...</td>\n",
       "      <td>0.501785</td>\n",
       "      <td>-0.696546</td>\n",
       "      <td>-1.217986</td>\n",
       "      <td>0.700697</td>\n",
       "      <td>-1.137912</td>\n",
       "      <td>-1.112110</td>\n",
       "      <td>-1.107865</td>\n",
       "      <td>-1.070167</td>\n",
       "      <td>-1.217674</td>\n",
       "      <td>-1.029838</td>\n",
       "    </tr>\n",
       "    <tr>\n",
       "      <th>4</th>\n",
       "      <td>GLDS_245_Mmus_C57_6T_LVR_GC_LAR_Rep4_G5</td>\n",
       "      <td>32</td>\n",
       "      <td>LAR</td>\n",
       "      <td>GLDS_245</td>\n",
       "      <td>GC</td>\n",
       "      <td>29</td>\n",
       "      <td>female</td>\n",
       "      <td>ribodepleted</td>\n",
       "      <td>RR6</td>\n",
       "      <td>immediate</td>\n",
       "      <td>...</td>\n",
       "      <td>0.220479</td>\n",
       "      <td>-0.256057</td>\n",
       "      <td>-0.899914</td>\n",
       "      <td>0.755811</td>\n",
       "      <td>-1.138909</td>\n",
       "      <td>-0.896629</td>\n",
       "      <td>-0.961937</td>\n",
       "      <td>-1.059288</td>\n",
       "      <td>-1.152877</td>\n",
       "      <td>-1.187632</td>\n",
       "    </tr>\n",
       "  </tbody>\n",
       "</table>\n",
       "<p>5 rows × 9281 columns</p>\n",
       "</div>"
      ],
      "text/plain": [
       "                                             Sample  age animalreturn  \\\n",
       "0            GLDS_242_Mmus_C57_6J_LVR_GC_C2_Rep4_G5   10          LAR   \n",
       "1            GLDS_48_Mmus_C57_6J_LVR_FLT_C_Rep2_M26   16         ISST   \n",
       "2    GLDS_168_Mmus_C57_6J_LVR_RR1_FLT_ERCC_Rep5_M30   16         ISST   \n",
       "3  GLDS_168_Mmus_C57_6J_LVR_RR1_FLT_noERCC_Rep2_M26   16         ISST   \n",
       "4           GLDS_245_Mmus_C57_6T_LVR_GC_LAR_Rep4_G5   32          LAR   \n",
       "\n",
       "    dataset condition  duration  gender       libPrep   mission preservation  \\\n",
       "0  GLDS_242        GC        33    male  ribodepleted       RR9    immediate   \n",
       "1   GLDS_48       FLT        37  female         polyA  RR1_NASA      carcass   \n",
       "2  GLDS_168       FLT        37  female  ribodepleted  RR1_NASA      carcass   \n",
       "3  GLDS_168       FLT        37  female  ribodepleted  RR1_NASA      carcass   \n",
       "4  GLDS_245        GC        29  female  ribodepleted       RR6    immediate   \n",
       "\n",
       "   ... ENSMUSG00000009585 ENSMUSG00000013921 ENSMUSG00000013611  \\\n",
       "0  ...           0.582737          -0.595290          -1.150503   \n",
       "1  ...           0.221626          -0.025088          -1.013243   \n",
       "2  ...           0.420400          -0.474848          -1.127936   \n",
       "3  ...           0.501785          -0.696546          -1.217986   \n",
       "4  ...           0.220479          -0.256057          -0.899914   \n",
       "\n",
       "   ENSMUSG00000014554  ENSMUSG00000013523  ENSMUSG00000013418  \\\n",
       "0            0.700040           -1.240282           -0.977355   \n",
       "1            0.856615           -1.134398           -1.024068   \n",
       "2            0.684060           -1.114766           -1.004149   \n",
       "3            0.700697           -1.137912           -1.112110   \n",
       "4            0.755811           -1.138909           -0.896629   \n",
       "\n",
       "   ENSMUSG00000013415  ENSMUSG00000013353  ENSMUSG00000013158  \\\n",
       "0           -1.006752           -1.311184           -0.824456   \n",
       "1           -0.838561           -1.241144           -0.981220   \n",
       "2           -1.074711           -1.138751           -1.053856   \n",
       "3           -1.107865           -1.070167           -1.217674   \n",
       "4           -0.961937           -1.059288           -1.152877   \n",
       "\n",
       "   ENSMUSG00000012819  \n",
       "0           -1.043170  \n",
       "1           -1.151805  \n",
       "2           -1.094534  \n",
       "3           -1.029838  \n",
       "4           -1.187632  \n",
       "\n",
       "[5 rows x 9281 columns]"
      ]
     },
     "execution_count": 20,
     "metadata": {},
     "output_type": "execute_result"
    }
   ],
   "source": [
    "df_merged.head()"
   ]
  },
  {
   "cell_type": "code",
   "execution_count": 48,
   "id": "09eb44e9",
   "metadata": {},
   "outputs": [],
   "source": [
    "# cols_phenotype = [\"condition\"]\n",
    "# cols_to_use = cols_genes + cols_phenotype"
   ]
  },
  {
   "cell_type": "code",
   "execution_count": 49,
   "id": "c9b77699",
   "metadata": {},
   "outputs": [],
   "source": [
    "# df_to_use = df_merged[cols_to_use]"
   ]
  },
  {
   "cell_type": "code",
   "execution_count": 50,
   "id": "4c12d691",
   "metadata": {},
   "outputs": [],
   "source": [
    "# df_to_use[cols_phenotype].value_counts()"
   ]
  },
  {
   "cell_type": "code",
   "execution_count": 51,
   "id": "0ea41e0b",
   "metadata": {},
   "outputs": [],
   "source": [
    "# df_to_use = pd.get_dummies(df_to_use)"
   ]
  },
  {
   "cell_type": "code",
   "execution_count": 52,
   "id": "7ebcce5d",
   "metadata": {},
   "outputs": [],
   "source": [
    "# df_to_use.shape"
   ]
  },
  {
   "cell_type": "code",
   "execution_count": 53,
   "id": "9389918a",
   "metadata": {},
   "outputs": [],
   "source": [
    "# df_to_use.head()"
   ]
  },
  {
   "cell_type": "code",
   "execution_count": 54,
   "id": "a4fdfd82",
   "metadata": {},
   "outputs": [],
   "source": [
    "# labels = list(set(df_to_use.columns) - set(cols_genes) - set(cols_phenotype))\n",
    "# labels"
   ]
  },
  {
   "cell_type": "markdown",
   "id": "0bec9258",
   "metadata": {},
   "source": [
    "# Trainer"
   ]
  },
  {
   "cell_type": "code",
   "execution_count": 21,
   "id": "bdd8cdb8",
   "metadata": {},
   "outputs": [],
   "source": [
    "from loguru import logger"
   ]
  },
  {
   "cell_type": "code",
   "execution_count": 22,
   "id": "4052185d",
   "metadata": {},
   "outputs": [],
   "source": [
    "from sklearn.base import BaseEstimator\n",
    "from sklearn.model_selection import train_test_split\n",
    "import xgboost"
   ]
  },
  {
   "cell_type": "code",
   "execution_count": 27,
   "id": "03a10923",
   "metadata": {},
   "outputs": [],
   "source": [
    "from typing import List, Type, Dict, Optional, Tuple, Union\n",
    "from abc import ABC, abstractmethod"
   ]
  },
  {
   "cell_type": "code",
   "execution_count": 28,
   "id": "356e172e",
   "metadata": {},
   "outputs": [],
   "source": [
    "import time"
   ]
  },
  {
   "cell_type": "code",
   "execution_count": 35,
   "id": "a86dbcf3",
   "metadata": {},
   "outputs": [],
   "source": [
    "from tqdm import tqdm"
   ]
  },
  {
   "cell_type": "code",
   "execution_count": 29,
   "id": "580d88b8",
   "metadata": {},
   "outputs": [],
   "source": [
    "class AbstractPhenotypeClassifier(ABC):\n",
    "    def __init__(\n",
    "        self,\n",
    "        cols_genes: List[str],\n",
    "        debug: bool = False\n",
    "    ) -> None:\n",
    "        self.cols_genes = list(cols_genes)\n",
    "        self.debug = debug\n",
    "    \n",
    "    @abstractmethod\n",
    "    def train(self, data: pd.DataFrame, test_size:float = 0.2, **kwargs) -> dict:\n",
    "        raise NotImplementedError()\n",
    "\n",
    "    def fit(\n",
    "        self,\n",
    "        model: Type[BaseEstimator],\n",
    "        X_train,\n",
    "        Y_train,\n",
    "        X_test,\n",
    "        Y_test\n",
    "    ) -> Dict[str, float]:\n",
    "        start = time.time()\n",
    "        \n",
    "        if self.debug:\n",
    "            logger.debug(f\"X_train={X_train.shape} | Y_train={Y_train.shape} | X_test={X_test.shape} | Y_test={Y_test.shape}\")\n",
    "            logger.debug(f\"Model = {model}\")\n",
    "        \n",
    "        model.fit(X_train, Y_train)\n",
    "        metrics = {\n",
    "            \"train_score\": self.model.score(X_train, Y_train),\n",
    "            \"test_score\": self.model.score(X_test, Y_test)\n",
    "        }\n",
    "        \n",
    "        end = time.time()\n",
    "        logger.debug(f\"Training took {start-end} seconds.\")\n",
    "        return metrics"
   ]
  },
  {
   "cell_type": "code",
   "execution_count": 30,
   "id": "bd895c28",
   "metadata": {},
   "outputs": [],
   "source": [
    "class SinglePhenotypeClassifier(AbstractPhenotypeClassifier):\n",
    "    \"\"\"\n",
    "        Trains only single class\n",
    "    \"\"\"\n",
    "    def __init__(\n",
    "        self, cols_genes: List[str],\n",
    "        phenotype:str,\n",
    "        model: Optional[Type[BaseEstimator]]=None,\n",
    "        debug: bool = False,\n",
    "    ) -> None:\n",
    "        super().__init__(cols_genes, debug)\n",
    "        self.phenotype = phenotype\n",
    "        self.model = model or xgboost.XGBClassifier()\n",
    "        \n",
    "    def train(self, data: pd.DataFrame, test_size:float = 0.2):\n",
    "        target_counts = data[self.phenotype].value_counts()\n",
    "        data = data[self.cols_genes + [self.phenotype]]\n",
    "        data = pd.get_dummies(data)\n",
    "        \n",
    "        labels = list(set(data.columns) - set(self.cols_genes) - set([self.phenotype]))\n",
    "        \n",
    "        if self.debug:\n",
    "            logger.debug(f\"Target phenotype stats:: {target_counts}\")\n",
    "            logger.debug(f\"n genes = {len(self.cols_genes)} || Labels -> {labels}\")\n",
    "        \n",
    "        X_train, X_test, Y_train, Y_test = train_test_split(\n",
    "            data[self.cols_genes], \n",
    "            data[labels],\n",
    "            test_size=test_size,\n",
    "        )\n",
    "        tracker = self.fit(self.model, X_train, Y_train, X_test, Y_test)\n",
    "        tracker[\"labels\"] = labels\n",
    "        return tracker"
   ]
  },
  {
   "cell_type": "code",
   "execution_count": 32,
   "id": "79472d6a",
   "metadata": {},
   "outputs": [],
   "source": [
    "# model = xgboost.XGBClassifier()\n",
    "clf = SinglePhenotypeClassifier(\n",
    "    cols_genes=cols_genes,\n",
    "    phenotype=\"condition\",\n",
    "#     model = model\n",
    ")"
   ]
  },
  {
   "cell_type": "code",
   "execution_count": 33,
   "id": "dac5e2f4",
   "metadata": {},
   "outputs": [
    {
     "name": "stderr",
     "output_type": "stream",
     "text": [
      "2022-07-06 16:59:49.982 | DEBUG    | __main__:fit:35 - Training took -39.4359028339386 seconds.\n"
     ]
    }
   ],
   "source": [
    "tracker_single = clf.train(df_merged)"
   ]
  },
  {
   "cell_type": "code",
   "execution_count": 34,
   "id": "b5f15f9b",
   "metadata": {},
   "outputs": [
    {
     "data": {
      "text/plain": [
       "{'train_score': 1.0,\n",
       " 'test_score': 1.0,\n",
       " 'labels': ['condition_FLT', 'condition_GC']}"
      ]
     },
     "execution_count": 34,
     "metadata": {},
     "output_type": "execute_result"
    }
   ],
   "source": [
    "tracker_single"
   ]
  },
  {
   "cell_type": "markdown",
   "id": "478e515e",
   "metadata": {},
   "source": [
    "# Multiple phenotypes"
   ]
  },
  {
   "cell_type": "code",
   "execution_count": 37,
   "id": "af6bb5df",
   "metadata": {},
   "outputs": [],
   "source": [
    "class MultiPhenotypeIsolatedClassifier:\n",
    "    \"\"\"\n",
    "        Trains N different independent multi-class model.\n",
    "        Same train/test data is used for each of the model.\n",
    "    \"\"\"\n",
    "    def __init__(\n",
    "        self, cols_genes: List[str],\n",
    "        classifiers: List[SinglePhenotypeClassifier],\n",
    "        debug: bool = False,\n",
    "    ) -> None:\n",
    "        self.cols_genes = list(cols_genes)\n",
    "        self.classifiers = classifiers\n",
    "        self.debug = debug\n",
    "        \n",
    "    def train(self, data: pd.DataFrame, test_size:float = 0.2):\n",
    "        target_columns_full = list(set(data.columns) - set(self.cols_genes))\n",
    "        data_x = data[self.cols_genes]\n",
    "        data_y_full = data[target_columns_full]\n",
    "        \n",
    "        X_train, X_test, Y_train_full, Y_test_full = train_test_split(\n",
    "            data_x, data_y_full, test_size=test_size\n",
    "        )\n",
    "        \n",
    "        tracker = {}\n",
    "        for clf in tqdm(self.classifiers):\n",
    "            logger.info(f\"Training for phenotype={clf.phenotype}\")\n",
    "            tracker[clf.phenotype] = {}\n",
    "            Y_train = pd.get_dummies(Y_train_full[[clf.phenotype]])\n",
    "            Y_test = pd.get_dummies(Y_test_full[[clf.phenotype]])\n",
    "            \n",
    "            labels = list(Y_train.columns)\n",
    "            tracker[clf.phenotype][\"labels\"] = labels\n",
    "            \n",
    "            if self.debug:\n",
    "                logger.debug(f\"Target phenotype stats:: {Y_train_full[clf.phenotype].value_counts()}\")\n",
    "                logger.debug(f\"n genes = {len(self.cols_genes)} || Labels -> {labels}\")\n",
    "            metrics = clf.fit(clf.model, X_train, Y_train, X_test, Y_test)\n",
    "            tracker[clf.phenotype].update(metrics)\n",
    "\n",
    "        return tracker"
   ]
  },
  {
   "cell_type": "code",
   "execution_count": 38,
   "id": "d29bb788",
   "metadata": {},
   "outputs": [],
   "source": [
    "clf_condition = SinglePhenotypeClassifier(cols_genes, \"condition\")\n",
    "clf_strain = SinglePhenotypeClassifier(cols_genes, \"strain\")\n",
    "trainer = MultiPhenotypeIsolatedClassifier(\n",
    "    cols_genes=cols_genes,\n",
    "    classifiers=[clf_condition, clf_strain],\n",
    "    debug=True,\n",
    ")"
   ]
  },
  {
   "cell_type": "code",
   "execution_count": 39,
   "id": "880d5c4b",
   "metadata": {},
   "outputs": [
    {
     "name": "stderr",
     "output_type": "stream",
     "text": [
      "  0%|                                                                         | 0/2 [00:00<?, ?it/s]2022-07-06 17:01:25.814 | INFO     | __main__:train:26 - Training for phenotype=condition\n",
      "2022-07-06 17:01:25.821 | DEBUG    | __main__:train:35 - Target phenotype stats:: FLT    2769\n",
      "GC     2696\n",
      "Name: condition, dtype: int64\n",
      "2022-07-06 17:01:25.821 | DEBUG    | __main__:train:36 - n genes = 9268 || Labels -> ['condition_FLT', 'condition_GC']\n",
      "2022-07-06 17:02:05.070 | DEBUG    | __main__:fit:35 - Training took -39.24852204322815 seconds.\n",
      " 50%|████████████████████████████████▌                                | 1/2 [00:39<00:39, 39.26s/it]2022-07-06 17:02:05.071 | INFO     | __main__:train:26 - Training for phenotype=strain\n",
      "2022-07-06 17:02:05.073 | DEBUG    | __main__:train:35 - Target phenotype stats:: C57BL6J    2297\n",
      "C57BL6T    2186\n",
      "BALBcT      982\n",
      "Name: strain, dtype: int64\n",
      "2022-07-06 17:02:05.074 | DEBUG    | __main__:train:36 - n genes = 9268 || Labels -> ['strain_BALBcT', 'strain_C57BL6J', 'strain_C57BL6T']\n",
      "2022-07-06 17:02:39.505 | DEBUG    | __main__:fit:35 - Training took -34.43128800392151 seconds.\n",
      "100%|█████████████████████████████████████████████████████████████████| 2/2 [01:13<00:00, 36.85s/it]\n"
     ]
    }
   ],
   "source": [
    "tracker_multi = trainer.train(df_merged)"
   ]
  },
  {
   "cell_type": "code",
   "execution_count": 40,
   "id": "b980cc70",
   "metadata": {},
   "outputs": [
    {
     "data": {
      "text/plain": [
       "{'condition': {'labels': ['condition_FLT', 'condition_GC'],\n",
       "  'train_score': 1.0,\n",
       "  'test_score': 1.0},\n",
       " 'strain': {'labels': ['strain_BALBcT', 'strain_C57BL6J', 'strain_C57BL6T'],\n",
       "  'train_score': 1.0,\n",
       "  'test_score': 1.0}}"
      ]
     },
     "execution_count": 40,
     "metadata": {},
     "output_type": "execute_result"
    }
   ],
   "source": [
    "tracker_multi"
   ]
  },
  {
   "cell_type": "markdown",
   "id": "6744524f",
   "metadata": {},
   "source": [
    "# Feature Scorer"
   ]
  },
  {
   "cell_type": "code",
   "execution_count": 41,
   "id": "3df540db",
   "metadata": {},
   "outputs": [],
   "source": [
    "from abc import ABC, abstractmethod\n",
    "\n",
    "from typing import List, Tuple, Optional, Union\n",
    "from functools import partial\n",
    "\n",
    "\n",
    "class FeatureScorer(ABC):\n",
    "    @abstractmethod\n",
    "    def get_features(\n",
    "        self,\n",
    "        top_k: int=100,\n",
    "        columns: Optional[List[str]]=None,\n",
    "        **kwargs,\n",
    "    ) -> List[Tuple[str, float]]:\n",
    "        raise NotImplementedError()\n",
    "    \n",
    "    @staticmethod\n",
    "    def get_top_k_features(model: Type[BaseEstimator], top_k: int=25) -> List[Tuple[str, float]]:\n",
    "        cols = list(model.feature_names_in_)\n",
    "        importances = model.feature_importances_\n",
    "        indices = np.argsort(-importances)[:top_k]\n",
    "        cols = np.array(cols)[indices].tolist()\n",
    "        return list(zip(cols, importances[indices].tolist()))\n",
    "\n",
    "class PhenotypeFeatureScorer(FeatureScorer):\n",
    "    \n",
    "    def __init__(\n",
    "        self,\n",
    "        *classifiers: Tuple[Union[Type[AbstractPhenotypeClassifier], Type[BaseEstimator]]]):\n",
    "        clfs = []\n",
    "        for clf in classifiers:\n",
    "            if isinstance(clf, BaseEstimator):\n",
    "                clf = [clf]\n",
    "            elif isinstance(clf, SinglePhenotypeClassifier):\n",
    "                clf = [clf.model]\n",
    "            elif isinstance(clf, MultiPhenotypeIsolatedClassifier):\n",
    "                clf = list(map(lambda m: m.model, clf.classifiers))\n",
    "            clfs.extend(clf)\n",
    "\n",
    "        self.models = clfs\n",
    "    \n",
    "    def get_features(\n",
    "        self,\n",
    "        top_k: int = 100,\n",
    "        columns: Optional[List[str]]=None\n",
    "    ) -> List[Tuple[str, float]]:\n",
    "        if len(self.models) == 1:\n",
    "            return self.get_top_k_features(self.models[0], top_k=top_k)\n",
    "        _get_top_k = partial(self.get_top_k_features, top_k=top_k)\n",
    "        features = list(map(lambda model: _get_top_k(model=model), self.models))\n",
    "        return self._get_common_features(*features)\n",
    "    \n",
    " \n",
    "    def _get_common_features(self, *features_list: List[List[Tuple[str, float]]]) -> List[Tuple[str, float]]:\n",
    "        \"\"\"\n",
    "            Get common features across multiple feature list.\n",
    "\n",
    "            Score is computed as an average between all the common feature scores.\n",
    "        \"\"\"\n",
    "        if len(features_list) == 1:\n",
    "            return features_list[0]\n",
    "\n",
    "        _mapify = lambda fts: dict(fts)\n",
    "\n",
    "        features_first = _mapify(features_list[0])\n",
    "        common = set(features_first.keys())\n",
    "        scoremap = features_first.copy()\n",
    "\n",
    "        for features in features_list[1:]:\n",
    "            fmap = _mapify(features)\n",
    "            common = common.intersection(fmap.keys())\n",
    "            scoremap = dict(map(lambda c: (c, (scoremap[c] + fmap[c]) ), common ))\n",
    "\n",
    "        scoremap = {name: score/len(features_list) for name, score in scoremap.items()}\n",
    "        return sorted(list(scoremap.items()), key=lambda x: x[1], reverse=True)"
   ]
  },
  {
   "cell_type": "code",
   "execution_count": 43,
   "id": "5dbe08ac",
   "metadata": {},
   "outputs": [
    {
     "data": {
      "text/plain": [
       "[('ENSMUSG00000113575', 0.21387459337711334),\n",
       " ('ENSMUSG00000056999', 0.11115298420190811),\n",
       " ('ENSMUSG00000094320', 0.049476105719804764),\n",
       " ('ENSMUSG00000085525', 0.04489143192768097),\n",
       " ('ENSMUSG00000096688', 0.040039513260126114),\n",
       " ('ENSMUSG00000074373', 0.03194975107908249),\n",
       " ('ENSMUSG00000043419', 0.02486453205347061),\n",
       " ('ENSMUSG00000073000', 0.023583795875310898),\n",
       " ('ENSMUSG00000041301', 0.02337309531867504),\n",
       " ('ENSMUSG00000098013', 0.022237593308091164)]"
      ]
     },
     "execution_count": 43,
     "metadata": {},
     "output_type": "execute_result"
    }
   ],
   "source": [
    "PhenotypeFeatureScorer(clf).get_features(top_k=10)"
   ]
  },
  {
   "cell_type": "code",
   "execution_count": 47,
   "id": "706bd83b",
   "metadata": {},
   "outputs": [
    {
     "data": {
      "text/plain": [
       "[('ENSMUSG00000073000', 0.022389674559235573),\n",
       " ('ENSMUSG00000096688', 0.00980288372375071),\n",
       " ('ENSMUSG00000062760', 0.009700256399810314),\n",
       " ('ENSMUSG00000066684', 0.005973309278488159),\n",
       " ('ENSMUSG00000003721', 0.0032816575840115547),\n",
       " ('ENSMUSG00000064247', 0.0030975351110100746),\n",
       " ('ENSMUSG00000105361', 0.0030182661721482873),\n",
       " ('ENSMUSG00000064141', 0.0020064348354935646),\n",
       " ('ENSMUSG00000063145', 0.0008055564248934388),\n",
       " ('ENSMUSG00000063314', 0.0006467075436376035),\n",
       " ('ENSMUSG00000067121', 0.0006041311426088214),\n",
       " ('ENSMUSG00000064339', 0.0005786036890640389),\n",
       " ('ENSMUSG00000070942', 0.0005528900655917823),\n",
       " ('ENSMUSG00000067608', 0.0005370465805754066),\n",
       " ('ENSMUSG00000065378', 0.0005124860908836126),\n",
       " ('ENSMUSG00000062553', 0.000477122695883736),\n",
       " ('ENSMUSG00000098178', 0.0003968417368014343),\n",
       " ('ENSMUSG00000079547', 0.0001626703560759779),\n",
       " ('ENSMUSG00000062458', 2.9954266210552305e-05),\n",
       " ('ENSMUSG00000065952', 0.0),\n",
       " ('ENSMUSG00000063615', 0.0),\n",
       " ('ENSMUSG00000065254', 0.0),\n",
       " ('ENSMUSG00000073226', 0.0),\n",
       " ('ENSMUSG00000063646', 0.0),\n",
       " ('ENSMUSG00000063434', 0.0),\n",
       " ('ENSMUSG00000064158', 0.0),\n",
       " ('ENSMUSG00000071516', 0.0),\n",
       " ('ENSMUSG00000066148', 0.0),\n",
       " ('ENSMUSG00000064858', 0.0),\n",
       " ('ENSMUSG00000066513', 0.0),\n",
       " ('ENSMUSG00000062846', 0.0),\n",
       " ('ENSMUSG00000064065', 0.0),\n",
       " ('ENSMUSG00000066392', 0.0),\n",
       " ('ENSMUSG00000063903', 0.0),\n",
       " ('ENSMUSG00000062818', 0.0),\n",
       " ('ENSMUSG00000065272', 0.0),\n",
       " ('ENSMUSG00000065045', 0.0),\n",
       " ('ENSMUSG00000066007', 0.0),\n",
       " ('ENSMUSG00000063160', 0.0),\n",
       " ('ENSMUSG00000062826', 0.0),\n",
       " ('ENSMUSG00000064672', 0.0),\n",
       " ('ENSMUSG00000065124', 0.0),\n",
       " ('ENSMUSG00000052131', 0.0),\n",
       " ('ENSMUSG00000073293', 0.0),\n",
       " ('ENSMUSG00000071311', 0.0),\n",
       " ('ENSMUSG00000064410', 0.0),\n",
       " ('ENSMUSG00000063157', 0.0),\n",
       " ('ENSMUSG00000062896', 0.0),\n",
       " ('ENSMUSG00000073295', 0.0),\n",
       " ('ENSMUSG00000066672', 0.0),\n",
       " ('ENSMUSG00000073407', 0.0),\n",
       " ('ENSMUSG00000063875', 0.0),\n",
       " ('ENSMUSG00000063535', 0.0),\n",
       " ('ENSMUSG00000065628', 0.0),\n",
       " ('ENSMUSG00000066180', 0.0),\n",
       " ('ENSMUSG00000066197', 0.0),\n",
       " ('ENSMUSG00000066170', 0.0),\n",
       " ('ENSMUSG00000065100', 0.0),\n",
       " ('ENSMUSG00000073063', 0.0),\n",
       " ('ENSMUSG00000066372', 0.0),\n",
       " ('ENSMUSG00000063442', 0.0),\n",
       " ('ENSMUSG00000072761', 0.0),\n",
       " ('ENSMUSG00000063529', 0.0),\n",
       " ('ENSMUSG00000065939', 0.0),\n",
       " ('ENSMUSG00000066800', 0.0),\n",
       " ('ENSMUSG00000065050', 0.0),\n",
       " ('ENSMUSG00000065881', 0.0),\n",
       " ('ENSMUSG00000073433', 0.0),\n",
       " ('ENSMUSG00000073405', 0.0),\n",
       " ('ENSMUSG00000072660', 0.0),\n",
       " ('ENSMUSG00000073413', 0.0),\n",
       " ('ENSMUSG00000065191', 0.0),\n",
       " ('ENSMUSG00000064115', 0.0),\n",
       " ('ENSMUSG00000073590', 0.0),\n",
       " ('ENSMUSG00000065669', 0.0),\n",
       " ('ENSMUSG00000073198', 0.0),\n",
       " ('ENSMUSG00000062515', 0.0),\n",
       " ('ENSMUSG00000066553', 0.0),\n",
       " ('ENSMUSG00000062961', 0.0),\n",
       " ('ENSMUSG00000073414', 0.0),\n",
       " ('ENSMUSG00000065295', 0.0),\n",
       " ('ENSMUSG00000073399', 0.0),\n",
       " ('ENSMUSG00000064890', 0.0),\n",
       " ('ENSMUSG00000033965', 0.0),\n",
       " ('ENSMUSG00000072672', 0.0),\n",
       " ('ENSMUSG00000072966', 0.0),\n",
       " ('ENSMUSG00000071470', 0.0),\n",
       " ('ENSMUSG00000063767', 0.0),\n",
       " ('ENSMUSG00000063234', 0.0),\n",
       " ('ENSMUSG00000063821', 0.0),\n",
       " ('ENSMUSG00000051495', 0.0),\n",
       " ('ENSMUSG00000073144', 0.0),\n",
       " ('ENSMUSG00000072812', 0.0),\n",
       " ('ENSMUSG00000071714', 0.0),\n",
       " ('ENSMUSG00000064125', 0.0),\n",
       " ('ENSMUSG00000072618', 0.0),\n",
       " ('ENSMUSG00000064943', 0.0),\n",
       " ('ENSMUSG00000065899', 0.0),\n",
       " ('ENSMUSG00000067722', 0.0),\n",
       " ('ENSMUSG00000064829', 0.0),\n",
       " ('ENSMUSG00000063386', 0.0),\n",
       " ('ENSMUSG00000064105', 0.0),\n",
       " ('ENSMUSG00000064778', 0.0),\n",
       " ('ENSMUSG00000071506', 0.0),\n",
       " ('ENSMUSG00000073557', 0.0),\n",
       " ('ENSMUSG00000072919', 0.0),\n",
       " ('ENSMUSG00000064280', 0.0),\n",
       " ('ENSMUSG00000065773', 0.0),\n",
       " ('ENSMUSG00000072875', 0.0),\n",
       " ('ENSMUSG00000063296', 0.0),\n",
       " ('ENSMUSG00000072723', 0.0),\n",
       " ('ENSMUSG00000063586', 0.0),\n",
       " ('ENSMUSG00000064968', 0.0),\n",
       " ('ENSMUSG00000063245', 0.0),\n",
       " ('ENSMUSG00000021097', 0.0),\n",
       " ('ENSMUSG00000063698', 0.0),\n",
       " ('ENSMUSG00000063820', 0.0),\n",
       " ('ENSMUSG00000072573', 0.0),\n",
       " ('ENSMUSG00000065287', 0.0),\n",
       " ('ENSMUSG00000066129', 0.0),\n",
       " ('ENSMUSG00000073437', 0.0),\n",
       " ('ENSMUSG00000066554', 0.0),\n",
       " ('ENSMUSG00000072675', 0.0),\n",
       " ('ENSMUSG00000062939', 0.0),\n",
       " ('ENSMUSG00000063739', 0.0),\n",
       " ('ENSMUSG00000063455', 0.0),\n",
       " ('ENSMUSG00000073775', 0.0),\n",
       " ('ENSMUSG00000065162', 0.0),\n",
       " ('ENSMUSG00000063060', 0.0),\n",
       " ('ENSMUSG00000064923', 0.0),\n",
       " ('ENSMUSG00000073633', 0.0),\n",
       " ('ENSMUSG00000064508', 0.0),\n",
       " ('ENSMUSG00000078517', 0.0),\n",
       " ('ENSMUSG00000063626', 0.0),\n",
       " ('ENSMUSG00000066477', 0.0),\n",
       " ('ENSMUSG00000065273', 0.0),\n",
       " ('ENSMUSG00000066407', 0.0),\n",
       " ('ENSMUSG00000064725', 0.0),\n",
       " ('ENSMUSG00000068742', 0.0),\n",
       " ('ENSMUSG00000073094', 0.0),\n",
       " ('ENSMUSG00000067995', 0.0),\n",
       " ('ENSMUSG00000064032', 0.0),\n",
       " ('ENSMUSG00000063975', 0.0),\n",
       " ('ENSMUSG00000072769', 0.0),\n",
       " ('ENSMUSG00000063687', 0.0),\n",
       " ('ENSMUSG00000064453', 0.0),\n",
       " ('ENSMUSG00000071604', 0.0),\n",
       " ('ENSMUSG00000072945', 0.0),\n",
       " ('ENSMUSG00000064202', 0.0),\n",
       " ('ENSMUSG00000065847', 0.0),\n",
       " ('ENSMUSG00000071369', 0.0),\n",
       " ('ENSMUSG00000072673', 0.0),\n",
       " ('ENSMUSG00000063594', 0.0),\n",
       " ('ENSMUSG00000028517', 0.0),\n",
       " ('ENSMUSG00000071531', 0.0),\n",
       " ('ENSMUSG00000064823', 0.0),\n",
       " ('ENSMUSG00000064772', 0.0),\n",
       " ('ENSMUSG00000064179', 0.0),\n",
       " ('ENSMUSG00000066009', 0.0),\n",
       " ('ENSMUSG00000066113', 0.0),\n",
       " ('ENSMUSG00000034858', 0.0),\n",
       " ('ENSMUSG00000063887', 0.0),\n",
       " ('ENSMUSG00000072978', 0.0),\n",
       " ('ENSMUSG00000047446', 0.0),\n",
       " ('ENSMUSG00000069601', 0.0),\n",
       " ('ENSMUSG00000063018', 0.0),\n",
       " ('ENSMUSG00000073599', 0.0),\n",
       " ('ENSMUSG00000061780', 0.0),\n",
       " ('ENSMUSG00000068011', 0.0),\n",
       " ('ENSMUSG00000064837', 0.0),\n",
       " ('ENSMUSG00000064450', 0.0),\n",
       " ('ENSMUSG00000073197', 0.0),\n",
       " ('ENSMUSG00000073130', 0.0),\n",
       " ('ENSMUSG00000063011', 0.0),\n",
       " ('ENSMUSG00000065642', 0.0),\n",
       " ('ENSMUSG00000065738', 0.0),\n",
       " ('ENSMUSG00000066108', 0.0),\n",
       " ('ENSMUSG00000070780', 0.0),\n",
       " ('ENSMUSG00000065818', 0.0),\n",
       " ('ENSMUSG00000065591', 0.0),\n",
       " ('ENSMUSG00000067567', 0.0),\n",
       " ('ENSMUSG00000070939', 0.0),\n",
       " ('ENSMUSG00000065663', 0.0),\n",
       " ('ENSMUSG00000062874', 0.0),\n",
       " ('ENSMUSG00000065219', 0.0),\n",
       " ('ENSMUSG00000063885', 0.0),\n",
       " ('ENSMUSG00000073233', 0.0),\n",
       " ('ENSMUSG00000064927', 0.0),\n",
       " ('ENSMUSG00000063522', 0.0),\n",
       " ('ENSMUSG00000062588', 0.0),\n",
       " ('ENSMUSG00000064343', 0.0),\n",
       " ('ENSMUSG00000064609', 0.0),\n",
       " ('ENSMUSG00000071491', 0.0),\n",
       " ('ENSMUSG00000073755', 0.0),\n",
       " ('ENSMUSG00000071151', 0.0),\n",
       " ('ENSMUSG00000064057', 0.0),\n",
       " ('ENSMUSG00000066364', 0.0),\n",
       " ('ENSMUSG00000065061', 0.0),\n",
       " ('ENSMUSG00000063506', 0.0),\n",
       " ('ENSMUSG00000072962', 0.0),\n",
       " ('ENSMUSG00000063632', 0.0),\n",
       " ('ENSMUSG00000071537', 0.0),\n",
       " ('ENSMUSG00000057933', 0.0),\n",
       " ('ENSMUSG00000069895', 0.0),\n",
       " ('ENSMUSG00000065463', 0.0),\n",
       " ('ENSMUSG00000063754', 0.0),\n",
       " ('ENSMUSG00000073400', 0.0),\n",
       " ('ENSMUSG00000066152', 0.0),\n",
       " ('ENSMUSG00000068921', 0.0),\n",
       " ('ENSMUSG00000073067', 0.0),\n",
       " ('ENSMUSG00000065629', 0.0),\n",
       " ('ENSMUSG00000069255', 0.0),\n",
       " ('ENSMUSG00000065808', 0.0),\n",
       " ('ENSMUSG00000073119', 0.0),\n",
       " ('ENSMUSG00000020483', 0.0),\n",
       " ('ENSMUSG00000072663', 0.0),\n",
       " ('ENSMUSG00000063953', 0.0),\n",
       " ('ENSMUSG00000066440', 0.0),\n",
       " ('ENSMUSG00000064580', 0.0),\n",
       " ('ENSMUSG00000063193', 0.0),\n",
       " ('ENSMUSG00000065327', 0.0),\n",
       " ('ENSMUSG00000063328', 0.0),\n",
       " ('ENSMUSG00000063873', 0.0),\n",
       " ('ENSMUSG00000072884', 0.0),\n",
       " ('ENSMUSG00000034707', 0.0),\n",
       " ('ENSMUSG00000062758', 0.0),\n",
       " ('ENSMUSG00000062661', 0.0),\n",
       " ('ENSMUSG00000072683', 0.0),\n",
       " ('ENSMUSG00000064602', 0.0),\n",
       " ('ENSMUSG00000064147', 0.0),\n",
       " ('ENSMUSG00000066097', 0.0),\n",
       " ('ENSMUSG00000063415', 0.0),\n",
       " ('ENSMUSG00000064043', 0.0),\n",
       " ('ENSMUSG00000065196', 0.0),\n",
       " ('ENSMUSG00000064330', 0.0),\n",
       " ('ENSMUSG00000072662', 0.0),\n",
       " ('ENSMUSG00000064140', 0.0),\n",
       " ('ENSMUSG00000073478', 0.0),\n",
       " ('ENSMUSG00000066245', 0.0),\n",
       " ('ENSMUSG00000073647', 0.0),\n",
       " ('ENSMUSG00000066363', 0.0),\n",
       " ('ENSMUSG00000073102', 0.0),\n",
       " ('ENSMUSG00000070972', 0.0),\n",
       " ('ENSMUSG00000063564', 0.0),\n",
       " ('ENSMUSG00000064405', 0.0),\n",
       " ('ENSMUSG00000073460', 0.0),\n",
       " ('ENSMUSG00000069844', 0.0),\n",
       " ('ENSMUSG00000064647', 0.0),\n",
       " ('ENSMUSG00000064329', 0.0),\n",
       " ('ENSMUSG00000062704', 0.0),\n",
       " ('ENSMUSG00000064284', 0.0),\n",
       " ('ENSMUSG00000065913', 0.0),\n",
       " ('ENSMUSG00000064281', 0.0),\n",
       " ('ENSMUSG00000063087', 0.0),\n",
       " ('ENSMUSG00000025791', 0.0),\n",
       " ('ENSMUSG00000063177', 0.0),\n",
       " ('ENSMUSG00000064542', 0.0),\n",
       " ('ENSMUSG00000063446', 0.0),\n",
       " ('ENSMUSG00000072898', 0.0),\n",
       " ('ENSMUSG00000064023', 0.0),\n",
       " ('ENSMUSG00000074476', 0.0),\n",
       " ('ENSMUSG00000074748', 0.0),\n",
       " ('ENSMUSG00000072944', 0.0)]"
      ]
     },
     "execution_count": 47,
     "metadata": {},
     "output_type": "execute_result"
    }
   ],
   "source": [
    "PhenotypeFeatureScorer(trainer).get_features(top_k=500)"
   ]
  },
  {
   "cell_type": "code",
   "execution_count": null,
   "id": "db52f3fc",
   "metadata": {},
   "outputs": [],
   "source": []
  }
 ],
 "metadata": {
  "kernelspec": {
   "display_name": "Python 3 (ipykernel)",
   "language": "python",
   "name": "python3"
  },
  "language_info": {
   "codemirror_mode": {
    "name": "ipython",
    "version": 3
   },
   "file_extension": ".py",
   "mimetype": "text/x-python",
   "name": "python",
   "nbconvert_exporter": "python",
   "pygments_lexer": "ipython3",
   "version": "3.9.11"
  }
 },
 "nbformat": 4,
 "nbformat_minor": 5
}
