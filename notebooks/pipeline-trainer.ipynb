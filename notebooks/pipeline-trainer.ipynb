{
 "cells": [
  {
   "cell_type": "code",
   "execution_count": 1,
   "id": "bc9e4454",
   "metadata": {},
   "outputs": [],
   "source": [
    "%reload_ext autoreload\n",
    "%autoreload 2"
   ]
  },
  {
   "cell_type": "code",
   "execution_count": 2,
   "id": "617429cb",
   "metadata": {},
   "outputs": [],
   "source": [
    "import numpy as np\n",
    "import pandas as pd\n",
    "import matplotlib.pyplot as plt\n",
    "import seaborn as sns\n",
    "import plotly.express as px\n",
    "\n",
    "import random\n",
    "\n",
    "%matplotlib inline"
   ]
  },
  {
   "cell_type": "code",
   "execution_count": 3,
   "id": "2d21a78a",
   "metadata": {},
   "outputs": [],
   "source": [
    "import sys\n",
    "\n",
    "sys.path.append(\"./\")\n",
    "sys.path.append(\"../code/\")\n",
    "sys.path.append(\"./code/\")"
   ]
  },
  {
   "cell_type": "markdown",
   "id": "cb58ab98",
   "metadata": {},
   "source": [
    "# Data Loader"
   ]
  },
  {
   "cell_type": "code",
   "execution_count": 4,
   "id": "8656fa35",
   "metadata": {},
   "outputs": [],
   "source": [
    "from bps_numerical.preprocessing import merge_gene_phenotype, standardize_gene_data"
   ]
  },
  {
   "cell_type": "code",
   "execution_count": 5,
   "id": "427c905a",
   "metadata": {},
   "outputs": [],
   "source": [
    "CSV_GENE = \"/Users/nishparadox/dev/uah/nasa-impact/gene-experiments/data/OneDrive_1_3-21-2022/gen.csv\"\n",
    "\n",
    "CSV_PHENOTYPE = \"/Users/nishparadox/dev/uah/nasa-impact/gene-experiments/data/OneDrive_1_3-21-2022/meta.csv\""
   ]
  },
  {
   "cell_type": "code",
   "execution_count": 6,
   "id": "c0c53f72",
   "metadata": {},
   "outputs": [],
   "source": [
    "# df_merged = merge_gene_phenotype(standardize_gene_data(CSV_GENE), CSV_PHENOTYPE)"
   ]
  },
  {
   "cell_type": "code",
   "execution_count": 7,
   "id": "27063b15",
   "metadata": {},
   "outputs": [
    {
     "name": "stderr",
     "output_type": "stream",
     "text": [
      "2022-07-07 14:17:13.480 | INFO     | bps_numerical.preprocessing:standardize_gene_data:27 - Standardizing gene data into proper format.\n"
     ]
    }
   ],
   "source": [
    "df_genes = standardize_gene_data(CSV_GENE)"
   ]
  },
  {
   "cell_type": "code",
   "execution_count": 8,
   "id": "a71bcd0d",
   "metadata": {},
   "outputs": [
    {
     "data": {
      "text/html": [
       "<div>\n",
       "<style scoped>\n",
       "    .dataframe tbody tr th:only-of-type {\n",
       "        vertical-align: middle;\n",
       "    }\n",
       "\n",
       "    .dataframe tbody tr th {\n",
       "        vertical-align: top;\n",
       "    }\n",
       "\n",
       "    .dataframe thead th {\n",
       "        text-align: right;\n",
       "    }\n",
       "</style>\n",
       "<table border=\"1\" class=\"dataframe\">\n",
       "  <thead>\n",
       "    <tr style=\"text-align: right;\">\n",
       "      <th></th>\n",
       "      <th>Sample</th>\n",
       "      <th>ENSMUSG00000099250</th>\n",
       "      <th>ENSMUSG00000064339</th>\n",
       "      <th>ENSMUSG00000099021</th>\n",
       "      <th>ENSMUSG00000064351</th>\n",
       "      <th>ENSMUSG00000065037</th>\n",
       "      <th>ENSMUSG00000064337</th>\n",
       "      <th>ENSMUSG00000100862</th>\n",
       "      <th>ENSMUSG00000029368</th>\n",
       "      <th>ENSMUSG00000064370</th>\n",
       "      <th>...</th>\n",
       "      <th>ENSMUSG00000013367</th>\n",
       "      <th>ENSMUSG00000008153</th>\n",
       "      <th>ENSMUSG00000013083</th>\n",
       "      <th>ENSMUSG00000013155</th>\n",
       "      <th>ENSMUSG00000012819</th>\n",
       "      <th>ENSMUSG00000010307</th>\n",
       "      <th>ENSMUSG00000011837</th>\n",
       "      <th>ENSMUSG00000012889</th>\n",
       "      <th>ENSMUSG00000001642</th>\n",
       "      <th>ENSMUSG00000006019</th>\n",
       "    </tr>\n",
       "  </thead>\n",
       "  <tbody>\n",
       "    <tr>\n",
       "      <th>1</th>\n",
       "      <td>GLDS_242_Mmus_C57_6J_LVR_GC_C2_Rep4_G5</td>\n",
       "      <td>4.565105</td>\n",
       "      <td>4.486067</td>\n",
       "      <td>4.22359</td>\n",
       "      <td>4.137298</td>\n",
       "      <td>3.773993</td>\n",
       "      <td>3.86423</td>\n",
       "      <td>3.093246</td>\n",
       "      <td>4.149449</td>\n",
       "      <td>3.38502</td>\n",
       "      <td>...</td>\n",
       "      <td>-0.748711</td>\n",
       "      <td>0.514245</td>\n",
       "      <td>-0.834259</td>\n",
       "      <td>-0.637977</td>\n",
       "      <td>-1.04317</td>\n",
       "      <td>0.360869</td>\n",
       "      <td>0.374517</td>\n",
       "      <td>-0.665341</td>\n",
       "      <td>0.748225</td>\n",
       "      <td>0.347033</td>\n",
       "    </tr>\n",
       "    <tr>\n",
       "      <th>2</th>\n",
       "      <td>GLDS_48_Mmus_C57_6J_LVR_FLT_C_Rep2_M26</td>\n",
       "      <td>0.563454</td>\n",
       "      <td>3.140386</td>\n",
       "      <td>0.778641</td>\n",
       "      <td>4.384875</td>\n",
       "      <td>0.745577</td>\n",
       "      <td>3.01786</td>\n",
       "      <td>4.037345</td>\n",
       "      <td>4.180711</td>\n",
       "      <td>4.089054</td>\n",
       "      <td>...</td>\n",
       "      <td>-0.15882</td>\n",
       "      <td>0.151228</td>\n",
       "      <td>-1.032761</td>\n",
       "      <td>-0.42141</td>\n",
       "      <td>-1.151805</td>\n",
       "      <td>0.205813</td>\n",
       "      <td>0.746601</td>\n",
       "      <td>-0.813002</td>\n",
       "      <td>0.670417</td>\n",
       "      <td>0.730899</td>\n",
       "    </tr>\n",
       "    <tr>\n",
       "      <th>3</th>\n",
       "      <td>GLDS_168_Mmus_C57_6J_LVR_RR1_FLT_ERCC_Rep5_M30</td>\n",
       "      <td>3.968279</td>\n",
       "      <td>3.490494</td>\n",
       "      <td>3.984012</td>\n",
       "      <td>3.721062</td>\n",
       "      <td>3.526439</td>\n",
       "      <td>2.489441</td>\n",
       "      <td>2.644076</td>\n",
       "      <td>4.093958</td>\n",
       "      <td>2.904823</td>\n",
       "      <td>...</td>\n",
       "      <td>-0.599768</td>\n",
       "      <td>-0.157375</td>\n",
       "      <td>-1.130212</td>\n",
       "      <td>-0.677432</td>\n",
       "      <td>-1.094534</td>\n",
       "      <td>0.10989</td>\n",
       "      <td>0.389537</td>\n",
       "      <td>-0.571371</td>\n",
       "      <td>0.592057</td>\n",
       "      <td>0.711531</td>\n",
       "    </tr>\n",
       "    <tr>\n",
       "      <th>4</th>\n",
       "      <td>GLDS_168_Mmus_C57_6J_LVR_RR1_FLT_noERCC_Rep2_M26</td>\n",
       "      <td>3.980689</td>\n",
       "      <td>3.333291</td>\n",
       "      <td>3.988481</td>\n",
       "      <td>3.494274</td>\n",
       "      <td>3.49009</td>\n",
       "      <td>2.370999</td>\n",
       "      <td>2.394222</td>\n",
       "      <td>4.108144</td>\n",
       "      <td>2.68952</td>\n",
       "      <td>...</td>\n",
       "      <td>-0.739483</td>\n",
       "      <td>-0.103737</td>\n",
       "      <td>-1.071226</td>\n",
       "      <td>-0.535766</td>\n",
       "      <td>-1.029838</td>\n",
       "      <td>0.178408</td>\n",
       "      <td>0.361334</td>\n",
       "      <td>-0.453689</td>\n",
       "      <td>0.657613</td>\n",
       "      <td>0.623739</td>\n",
       "    </tr>\n",
       "    <tr>\n",
       "      <th>5</th>\n",
       "      <td>GLDS_245_Mmus_C57_6T_LVR_GC_LAR_Rep4_G5</td>\n",
       "      <td>4.991286</td>\n",
       "      <td>4.222969</td>\n",
       "      <td>4.533385</td>\n",
       "      <td>3.712087</td>\n",
       "      <td>4.184306</td>\n",
       "      <td>3.324107</td>\n",
       "      <td>2.698993</td>\n",
       "      <td>4.135948</td>\n",
       "      <td>2.888685</td>\n",
       "      <td>...</td>\n",
       "      <td>-0.592125</td>\n",
       "      <td>0.2066</td>\n",
       "      <td>-1.019552</td>\n",
       "      <td>-0.606019</td>\n",
       "      <td>-1.187632</td>\n",
       "      <td>0.356565</td>\n",
       "      <td>0.547004</td>\n",
       "      <td>-0.900965</td>\n",
       "      <td>0.880465</td>\n",
       "      <td>0.414951</td>\n",
       "    </tr>\n",
       "  </tbody>\n",
       "</table>\n",
       "<p>5 rows × 25001 columns</p>\n",
       "</div>"
      ],
      "text/plain": [
       "                                             Sample ENSMUSG00000099250  \\\n",
       "1            GLDS_242_Mmus_C57_6J_LVR_GC_C2_Rep4_G5           4.565105   \n",
       "2            GLDS_48_Mmus_C57_6J_LVR_FLT_C_Rep2_M26           0.563454   \n",
       "3    GLDS_168_Mmus_C57_6J_LVR_RR1_FLT_ERCC_Rep5_M30           3.968279   \n",
       "4  GLDS_168_Mmus_C57_6J_LVR_RR1_FLT_noERCC_Rep2_M26           3.980689   \n",
       "5           GLDS_245_Mmus_C57_6T_LVR_GC_LAR_Rep4_G5           4.991286   \n",
       "\n",
       "  ENSMUSG00000064339 ENSMUSG00000099021 ENSMUSG00000064351 ENSMUSG00000065037  \\\n",
       "1           4.486067            4.22359           4.137298           3.773993   \n",
       "2           3.140386           0.778641           4.384875           0.745577   \n",
       "3           3.490494           3.984012           3.721062           3.526439   \n",
       "4           3.333291           3.988481           3.494274            3.49009   \n",
       "5           4.222969           4.533385           3.712087           4.184306   \n",
       "\n",
       "  ENSMUSG00000064337 ENSMUSG00000100862 ENSMUSG00000029368 ENSMUSG00000064370  \\\n",
       "1            3.86423           3.093246           4.149449            3.38502   \n",
       "2            3.01786           4.037345           4.180711           4.089054   \n",
       "3           2.489441           2.644076           4.093958           2.904823   \n",
       "4           2.370999           2.394222           4.108144            2.68952   \n",
       "5           3.324107           2.698993           4.135948           2.888685   \n",
       "\n",
       "   ... ENSMUSG00000013367 ENSMUSG00000008153 ENSMUSG00000013083  \\\n",
       "1  ...          -0.748711           0.514245          -0.834259   \n",
       "2  ...           -0.15882           0.151228          -1.032761   \n",
       "3  ...          -0.599768          -0.157375          -1.130212   \n",
       "4  ...          -0.739483          -0.103737          -1.071226   \n",
       "5  ...          -0.592125             0.2066          -1.019552   \n",
       "\n",
       "  ENSMUSG00000013155 ENSMUSG00000012819 ENSMUSG00000010307 ENSMUSG00000011837  \\\n",
       "1          -0.637977           -1.04317           0.360869           0.374517   \n",
       "2           -0.42141          -1.151805           0.205813           0.746601   \n",
       "3          -0.677432          -1.094534            0.10989           0.389537   \n",
       "4          -0.535766          -1.029838           0.178408           0.361334   \n",
       "5          -0.606019          -1.187632           0.356565           0.547004   \n",
       "\n",
       "  ENSMUSG00000012889 ENSMUSG00000001642 ENSMUSG00000006019  \n",
       "1          -0.665341           0.748225           0.347033  \n",
       "2          -0.813002           0.670417           0.730899  \n",
       "3          -0.571371           0.592057           0.711531  \n",
       "4          -0.453689           0.657613           0.623739  \n",
       "5          -0.900965           0.880465           0.414951  \n",
       "\n",
       "[5 rows x 25001 columns]"
      ]
     },
     "execution_count": 8,
     "metadata": {},
     "output_type": "execute_result"
    }
   ],
   "source": [
    "df_genes.head()"
   ]
  },
  {
   "cell_type": "code",
   "execution_count": 9,
   "id": "c26f9391",
   "metadata": {},
   "outputs": [],
   "source": [
    "samples = df_genes.pop(\"Sample\")"
   ]
  },
  {
   "cell_type": "code",
   "execution_count": 10,
   "id": "3954bef2",
   "metadata": {},
   "outputs": [],
   "source": [
    "df_genes = df_genes.astype(float)"
   ]
  },
  {
   "cell_type": "code",
   "execution_count": 11,
   "id": "00e743a7",
   "metadata": {},
   "outputs": [
    {
     "data": {
      "text/plain": [
       "dtype('float64')"
      ]
     },
     "execution_count": 11,
     "metadata": {},
     "output_type": "execute_result"
    }
   ],
   "source": [
    "df_genes.iloc[0].dtype"
   ]
  },
  {
   "cell_type": "markdown",
   "id": "1e3bfc3a",
   "metadata": {},
   "source": [
    "# Feature Selection"
   ]
  },
  {
   "cell_type": "code",
   "execution_count": 12,
   "id": "b90d52a4",
   "metadata": {},
   "outputs": [],
   "source": [
    "from bps_numerical.clustering import CorrelationClusterer\n",
    "from bps_numerical.feature_selection import FirstFeatureSelector"
   ]
  },
  {
   "cell_type": "code",
   "execution_count": 13,
   "id": "c3a58e7f",
   "metadata": {},
   "outputs": [],
   "source": [
    "clusterer = CorrelationClusterer(\n",
    "    list(df_genes.columns),\n",
    "    cutoff_threshold=0.3,\n",
    "    debug=False\n",
    ")"
   ]
  },
  {
   "cell_type": "code",
   "execution_count": 14,
   "id": "b16e03e7",
   "metadata": {},
   "outputs": [],
   "source": [
    "fs = FirstFeatureSelector(clusterer=clusterer)"
   ]
  },
  {
   "cell_type": "code",
   "execution_count": 15,
   "id": "4bccff0b",
   "metadata": {},
   "outputs": [
    {
     "name": "stderr",
     "output_type": "stream",
     "text": [
      "2022-07-07 14:18:42.233 | DEBUG    | bps_numerical.clustering:cluster:62 - Computing correlation for (6832, 25000)\n",
      "2022-07-07 14:18:58.757 | INFO     | bps_numerical.clustering:_cluster:91 - Clustering in progress...\n",
      "2022-07-07 14:19:18.183 | DEBUG    | bps_numerical.clustering:cluster:85 - Took 19.425615310668945 seconds to form 9268 clusters...\n"
     ]
    }
   ],
   "source": [
    "cols_genes = fs.select_features(df_genes)"
   ]
  },
  {
   "cell_type": "code",
   "execution_count": 16,
   "id": "c943ea5c",
   "metadata": {},
   "outputs": [
    {
     "data": {
      "text/plain": [
       "9268"
      ]
     },
     "execution_count": 16,
     "metadata": {},
     "output_type": "execute_result"
    }
   ],
   "source": [
    "len(cols_genes)"
   ]
  },
  {
   "cell_type": "code",
   "execution_count": 17,
   "id": "03c820e4",
   "metadata": {},
   "outputs": [
    {
     "data": {
      "text/plain": [
       "['ENSMUSG00000099250',\n",
       " 'ENSMUSG00000064339',\n",
       " 'ENSMUSG00000064351',\n",
       " 'ENSMUSG00000029368',\n",
       " 'ENSMUSG00000098178',\n",
       " 'ENSMUSG00000037071',\n",
       " 'ENSMUSG00000106106',\n",
       " 'ENSMUSG00000105361',\n",
       " 'ENSMUSG00000020609',\n",
       " 'ENSMUSG00000032554']"
      ]
     },
     "execution_count": 17,
     "metadata": {},
     "output_type": "execute_result"
    }
   ],
   "source": [
    "cols_genes[:10]"
   ]
  },
  {
   "cell_type": "markdown",
   "id": "fd507d09",
   "metadata": {},
   "source": [
    "# Data Prep"
   ]
  },
  {
   "cell_type": "code",
   "execution_count": 18,
   "id": "5f15f109",
   "metadata": {},
   "outputs": [
    {
     "name": "stderr",
     "output_type": "stream",
     "text": [
      "2022-07-07 14:19:22.017 | INFO     | bps_numerical.preprocessing:merge_gene_phenotype:52 - Merging gene-phenotype dataframes...\n"
     ]
    }
   ],
   "source": [
    "df_merged = merge_gene_phenotype(\n",
    "    pd.concat([samples, df_genes[cols_genes]], axis=1),\n",
    "    CSV_PHENOTYPE,\n",
    "    \"Sample\",\n",
    ")"
   ]
  },
  {
   "cell_type": "code",
   "execution_count": 19,
   "id": "9039d9f7",
   "metadata": {},
   "outputs": [
    {
     "data": {
      "text/plain": [
       "(6832, 9281)"
      ]
     },
     "execution_count": 19,
     "metadata": {},
     "output_type": "execute_result"
    }
   ],
   "source": [
    "df_merged.shape"
   ]
  },
  {
   "cell_type": "code",
   "execution_count": 20,
   "id": "5ac6d994",
   "metadata": {},
   "outputs": [
    {
     "data": {
      "text/html": [
       "<div>\n",
       "<style scoped>\n",
       "    .dataframe tbody tr th:only-of-type {\n",
       "        vertical-align: middle;\n",
       "    }\n",
       "\n",
       "    .dataframe tbody tr th {\n",
       "        vertical-align: top;\n",
       "    }\n",
       "\n",
       "    .dataframe thead th {\n",
       "        text-align: right;\n",
       "    }\n",
       "</style>\n",
       "<table border=\"1\" class=\"dataframe\">\n",
       "  <thead>\n",
       "    <tr style=\"text-align: right;\">\n",
       "      <th></th>\n",
       "      <th>Sample</th>\n",
       "      <th>age</th>\n",
       "      <th>animalreturn</th>\n",
       "      <th>dataset</th>\n",
       "      <th>condition</th>\n",
       "      <th>duration</th>\n",
       "      <th>gender</th>\n",
       "      <th>libPrep</th>\n",
       "      <th>mission</th>\n",
       "      <th>preservation</th>\n",
       "      <th>...</th>\n",
       "      <th>ENSMUSG00000009585</th>\n",
       "      <th>ENSMUSG00000013921</th>\n",
       "      <th>ENSMUSG00000013611</th>\n",
       "      <th>ENSMUSG00000014554</th>\n",
       "      <th>ENSMUSG00000013523</th>\n",
       "      <th>ENSMUSG00000013418</th>\n",
       "      <th>ENSMUSG00000013415</th>\n",
       "      <th>ENSMUSG00000013353</th>\n",
       "      <th>ENSMUSG00000013158</th>\n",
       "      <th>ENSMUSG00000012819</th>\n",
       "    </tr>\n",
       "  </thead>\n",
       "  <tbody>\n",
       "    <tr>\n",
       "      <th>0</th>\n",
       "      <td>GLDS_242_Mmus_C57_6J_LVR_GC_C2_Rep4_G5</td>\n",
       "      <td>10</td>\n",
       "      <td>LAR</td>\n",
       "      <td>GLDS_242</td>\n",
       "      <td>GC</td>\n",
       "      <td>33</td>\n",
       "      <td>male</td>\n",
       "      <td>ribodepleted</td>\n",
       "      <td>RR9</td>\n",
       "      <td>immediate</td>\n",
       "      <td>...</td>\n",
       "      <td>0.582737</td>\n",
       "      <td>-0.595290</td>\n",
       "      <td>-1.150503</td>\n",
       "      <td>0.700040</td>\n",
       "      <td>-1.240282</td>\n",
       "      <td>-0.977355</td>\n",
       "      <td>-1.006752</td>\n",
       "      <td>-1.311184</td>\n",
       "      <td>-0.824456</td>\n",
       "      <td>-1.043170</td>\n",
       "    </tr>\n",
       "    <tr>\n",
       "      <th>1</th>\n",
       "      <td>GLDS_48_Mmus_C57_6J_LVR_FLT_C_Rep2_M26</td>\n",
       "      <td>16</td>\n",
       "      <td>ISST</td>\n",
       "      <td>GLDS_48</td>\n",
       "      <td>FLT</td>\n",
       "      <td>37</td>\n",
       "      <td>female</td>\n",
       "      <td>polyA</td>\n",
       "      <td>RR1_NASA</td>\n",
       "      <td>carcass</td>\n",
       "      <td>...</td>\n",
       "      <td>0.221626</td>\n",
       "      <td>-0.025088</td>\n",
       "      <td>-1.013243</td>\n",
       "      <td>0.856615</td>\n",
       "      <td>-1.134398</td>\n",
       "      <td>-1.024068</td>\n",
       "      <td>-0.838561</td>\n",
       "      <td>-1.241144</td>\n",
       "      <td>-0.981220</td>\n",
       "      <td>-1.151805</td>\n",
       "    </tr>\n",
       "    <tr>\n",
       "      <th>2</th>\n",
       "      <td>GLDS_168_Mmus_C57_6J_LVR_RR1_FLT_ERCC_Rep5_M30</td>\n",
       "      <td>16</td>\n",
       "      <td>ISST</td>\n",
       "      <td>GLDS_168</td>\n",
       "      <td>FLT</td>\n",
       "      <td>37</td>\n",
       "      <td>female</td>\n",
       "      <td>ribodepleted</td>\n",
       "      <td>RR1_NASA</td>\n",
       "      <td>carcass</td>\n",
       "      <td>...</td>\n",
       "      <td>0.420400</td>\n",
       "      <td>-0.474848</td>\n",
       "      <td>-1.127936</td>\n",
       "      <td>0.684060</td>\n",
       "      <td>-1.114766</td>\n",
       "      <td>-1.004149</td>\n",
       "      <td>-1.074711</td>\n",
       "      <td>-1.138751</td>\n",
       "      <td>-1.053856</td>\n",
       "      <td>-1.094534</td>\n",
       "    </tr>\n",
       "    <tr>\n",
       "      <th>3</th>\n",
       "      <td>GLDS_168_Mmus_C57_6J_LVR_RR1_FLT_noERCC_Rep2_M26</td>\n",
       "      <td>16</td>\n",
       "      <td>ISST</td>\n",
       "      <td>GLDS_168</td>\n",
       "      <td>FLT</td>\n",
       "      <td>37</td>\n",
       "      <td>female</td>\n",
       "      <td>ribodepleted</td>\n",
       "      <td>RR1_NASA</td>\n",
       "      <td>carcass</td>\n",
       "      <td>...</td>\n",
       "      <td>0.501785</td>\n",
       "      <td>-0.696546</td>\n",
       "      <td>-1.217986</td>\n",
       "      <td>0.700697</td>\n",
       "      <td>-1.137912</td>\n",
       "      <td>-1.112110</td>\n",
       "      <td>-1.107865</td>\n",
       "      <td>-1.070167</td>\n",
       "      <td>-1.217674</td>\n",
       "      <td>-1.029838</td>\n",
       "    </tr>\n",
       "    <tr>\n",
       "      <th>4</th>\n",
       "      <td>GLDS_245_Mmus_C57_6T_LVR_GC_LAR_Rep4_G5</td>\n",
       "      <td>32</td>\n",
       "      <td>LAR</td>\n",
       "      <td>GLDS_245</td>\n",
       "      <td>GC</td>\n",
       "      <td>29</td>\n",
       "      <td>female</td>\n",
       "      <td>ribodepleted</td>\n",
       "      <td>RR6</td>\n",
       "      <td>immediate</td>\n",
       "      <td>...</td>\n",
       "      <td>0.220479</td>\n",
       "      <td>-0.256057</td>\n",
       "      <td>-0.899914</td>\n",
       "      <td>0.755811</td>\n",
       "      <td>-1.138909</td>\n",
       "      <td>-0.896629</td>\n",
       "      <td>-0.961937</td>\n",
       "      <td>-1.059288</td>\n",
       "      <td>-1.152877</td>\n",
       "      <td>-1.187632</td>\n",
       "    </tr>\n",
       "  </tbody>\n",
       "</table>\n",
       "<p>5 rows × 9281 columns</p>\n",
       "</div>"
      ],
      "text/plain": [
       "                                             Sample  age animalreturn  \\\n",
       "0            GLDS_242_Mmus_C57_6J_LVR_GC_C2_Rep4_G5   10          LAR   \n",
       "1            GLDS_48_Mmus_C57_6J_LVR_FLT_C_Rep2_M26   16         ISST   \n",
       "2    GLDS_168_Mmus_C57_6J_LVR_RR1_FLT_ERCC_Rep5_M30   16         ISST   \n",
       "3  GLDS_168_Mmus_C57_6J_LVR_RR1_FLT_noERCC_Rep2_M26   16         ISST   \n",
       "4           GLDS_245_Mmus_C57_6T_LVR_GC_LAR_Rep4_G5   32          LAR   \n",
       "\n",
       "    dataset condition  duration  gender       libPrep   mission preservation  \\\n",
       "0  GLDS_242        GC        33    male  ribodepleted       RR9    immediate   \n",
       "1   GLDS_48       FLT        37  female         polyA  RR1_NASA      carcass   \n",
       "2  GLDS_168       FLT        37  female  ribodepleted  RR1_NASA      carcass   \n",
       "3  GLDS_168       FLT        37  female  ribodepleted  RR1_NASA      carcass   \n",
       "4  GLDS_245        GC        29  female  ribodepleted       RR6    immediate   \n",
       "\n",
       "   ... ENSMUSG00000009585 ENSMUSG00000013921 ENSMUSG00000013611  \\\n",
       "0  ...           0.582737          -0.595290          -1.150503   \n",
       "1  ...           0.221626          -0.025088          -1.013243   \n",
       "2  ...           0.420400          -0.474848          -1.127936   \n",
       "3  ...           0.501785          -0.696546          -1.217986   \n",
       "4  ...           0.220479          -0.256057          -0.899914   \n",
       "\n",
       "   ENSMUSG00000014554  ENSMUSG00000013523  ENSMUSG00000013418  \\\n",
       "0            0.700040           -1.240282           -0.977355   \n",
       "1            0.856615           -1.134398           -1.024068   \n",
       "2            0.684060           -1.114766           -1.004149   \n",
       "3            0.700697           -1.137912           -1.112110   \n",
       "4            0.755811           -1.138909           -0.896629   \n",
       "\n",
       "   ENSMUSG00000013415  ENSMUSG00000013353  ENSMUSG00000013158  \\\n",
       "0           -1.006752           -1.311184           -0.824456   \n",
       "1           -0.838561           -1.241144           -0.981220   \n",
       "2           -1.074711           -1.138751           -1.053856   \n",
       "3           -1.107865           -1.070167           -1.217674   \n",
       "4           -0.961937           -1.059288           -1.152877   \n",
       "\n",
       "   ENSMUSG00000012819  \n",
       "0           -1.043170  \n",
       "1           -1.151805  \n",
       "2           -1.094534  \n",
       "3           -1.029838  \n",
       "4           -1.187632  \n",
       "\n",
       "[5 rows x 9281 columns]"
      ]
     },
     "execution_count": 20,
     "metadata": {},
     "output_type": "execute_result"
    }
   ],
   "source": [
    "df_merged.head()"
   ]
  },
  {
   "cell_type": "code",
   "execution_count": 21,
   "id": "09eb44e9",
   "metadata": {},
   "outputs": [],
   "source": [
    "# cols_phenotype = [\"condition\"]\n",
    "# cols_to_use = cols_genes + cols_phenotype"
   ]
  },
  {
   "cell_type": "code",
   "execution_count": 22,
   "id": "c9b77699",
   "metadata": {},
   "outputs": [],
   "source": [
    "# df_to_use = df_merged[cols_to_use]"
   ]
  },
  {
   "cell_type": "code",
   "execution_count": 23,
   "id": "4c12d691",
   "metadata": {},
   "outputs": [],
   "source": [
    "# df_to_use[cols_phenotype].value_counts()"
   ]
  },
  {
   "cell_type": "code",
   "execution_count": 24,
   "id": "0ea41e0b",
   "metadata": {},
   "outputs": [],
   "source": [
    "# df_to_use = pd.get_dummies(df_to_use)"
   ]
  },
  {
   "cell_type": "code",
   "execution_count": 25,
   "id": "7ebcce5d",
   "metadata": {},
   "outputs": [],
   "source": [
    "# df_to_use.shape"
   ]
  },
  {
   "cell_type": "code",
   "execution_count": 26,
   "id": "9389918a",
   "metadata": {},
   "outputs": [],
   "source": [
    "# df_to_use.head()"
   ]
  },
  {
   "cell_type": "code",
   "execution_count": 27,
   "id": "a4fdfd82",
   "metadata": {},
   "outputs": [],
   "source": [
    "# labels = list(set(df_to_use.columns) - set(cols_genes) - set(cols_phenotype))\n",
    "# labels"
   ]
  },
  {
   "cell_type": "markdown",
   "id": "0bec9258",
   "metadata": {},
   "source": [
    "# Trainer"
   ]
  },
  {
   "cell_type": "code",
   "execution_count": 28,
   "id": "bdd8cdb8",
   "metadata": {},
   "outputs": [],
   "source": [
    "from loguru import logger"
   ]
  },
  {
   "cell_type": "code",
   "execution_count": 29,
   "id": "4052185d",
   "metadata": {},
   "outputs": [],
   "source": [
    "from sklearn.base import BaseEstimator\n",
    "from sklearn.model_selection import train_test_split\n",
    "from sklearn.metrics import confusion_matrix, classification_report\n",
    "import xgboost"
   ]
  },
  {
   "cell_type": "code",
   "execution_count": 30,
   "id": "03a10923",
   "metadata": {},
   "outputs": [],
   "source": [
    "from typing import List, Type, Dict, Optional, Tuple, Union\n",
    "from abc import ABC, abstractmethod"
   ]
  },
  {
   "cell_type": "code",
   "execution_count": 31,
   "id": "356e172e",
   "metadata": {},
   "outputs": [],
   "source": [
    "import time"
   ]
  },
  {
   "cell_type": "code",
   "execution_count": 32,
   "id": "1c69fea3",
   "metadata": {},
   "outputs": [],
   "source": [
    "from tqdm import tqdm"
   ]
  },
  {
   "cell_type": "code",
   "execution_count": 33,
   "id": "eaed869c",
   "metadata": {},
   "outputs": [],
   "source": [
    "class AbstractPhenotypeClassifier(ABC):\n",
    "    def __init__(\n",
    "        self,\n",
    "        cols_genes: List[str],\n",
    "        debug: bool = False\n",
    "    ) -> None:\n",
    "        self.cols_genes = list(cols_genes)\n",
    "        self.debug = debug\n",
    "    \n",
    "    @abstractmethod\n",
    "    def train(self, data: pd.DataFrame, test_size:float = 0.2, **kwargs) -> dict:\n",
    "        raise NotImplementedError()\n",
    "\n",
    "    def fit(\n",
    "        self,\n",
    "        model: Type[BaseEstimator],\n",
    "        X_train,\n",
    "        Y_train,\n",
    "        X_test,\n",
    "        Y_test,\n",
    "        **kwargs,\n",
    "    ) -> Dict[str, float]:\n",
    "        start = time.time()\n",
    "        \n",
    "        if self.debug:\n",
    "            logger.debug(f\"X_train={X_train.shape} | Y_train={Y_train.shape} | X_test={X_test.shape} | Y_test={Y_test.shape}\")\n",
    "            logger.debug(f\"Model = {model}\")\n",
    "        \n",
    "        model.fit(X_train, Y_train)\n",
    "        metrics = {\n",
    "            \"train_score\": self.model.score(X_train, Y_train),\n",
    "            \"test_score\": self.model.score(X_test, Y_test)\n",
    "        }\n",
    "        \n",
    "        end = time.time()\n",
    "        logger.debug(f\"Training took {end-start} seconds.\")\n",
    "        \n",
    "        preds = model.predict(X_test)\n",
    "        \n",
    "        metrics[\"confusion_matrix\"] = confusion_matrix(\n",
    "            np.asarray(Y_test).argmax(axis=1),\n",
    "            np.asarray(preds).argmax(axis=1)\n",
    "        )\n",
    "        metrics[\"classification_report\"] = classification_report(\n",
    "            Y_test,\n",
    "            preds,\n",
    "            target_names=kwargs.get(\"labels\"),\n",
    "            output_dict=True,\n",
    "        )\n",
    "        return metrics"
   ]
  },
  {
   "cell_type": "code",
   "execution_count": 34,
   "id": "bd895c28",
   "metadata": {},
   "outputs": [],
   "source": [
    "class SinglePhenotypeClassifier(AbstractPhenotypeClassifier):\n",
    "    \"\"\"\n",
    "        Trains only single class\n",
    "    \"\"\"\n",
    "    def __init__(\n",
    "        self, cols_genes: List[str],\n",
    "        phenotype:str,\n",
    "        model: Optional[Type[BaseEstimator]]=None,\n",
    "        debug: bool = False,\n",
    "    ) -> None:\n",
    "        super().__init__(cols_genes, debug)\n",
    "        self.phenotype = phenotype\n",
    "        self.model = model or xgboost.XGBClassifier()\n",
    "        \n",
    "    def train(self, data: pd.DataFrame, test_size:float = 0.2):\n",
    "        target_counts = data[self.phenotype].value_counts()\n",
    "        data = data[self.cols_genes + [self.phenotype]]\n",
    "        data = pd.get_dummies(data)\n",
    "        \n",
    "        labels = list(set(data.columns) - set(self.cols_genes) - set([self.phenotype]))\n",
    "        \n",
    "        if self.debug:\n",
    "            logger.debug(f\"Target phenotype stats:: {target_counts}\")\n",
    "            logger.debug(f\"n genes = {len(self.cols_genes)} || Labels -> {labels}\")\n",
    "        \n",
    "        X_train, X_test, Y_train, Y_test = train_test_split(\n",
    "            data[self.cols_genes], \n",
    "            data[labels],\n",
    "            test_size=test_size,\n",
    "        )\n",
    "        tracker = self.fit(self.model, X_train, Y_train, X_test, Y_test, labels=labels)\n",
    "        tracker[\"labels\"] = labels\n",
    "        return tracker"
   ]
  },
  {
   "cell_type": "code",
   "execution_count": 88,
   "id": "79472d6a",
   "metadata": {},
   "outputs": [],
   "source": [
    "# model = xgboost.XGBClassifier()\n",
    "clf = SinglePhenotypeClassifier(\n",
    "    cols_genes=cols_genes,\n",
    "    phenotype=\"condition\",\n",
    "#     model = model\n",
    ")"
   ]
  },
  {
   "cell_type": "code",
   "execution_count": 89,
   "id": "dac5e2f4",
   "metadata": {},
   "outputs": [
    {
     "name": "stderr",
     "output_type": "stream",
     "text": [
      "2022-07-07 14:01:50.342 | DEBUG    | __main__:fit:36 - Training took -38.919711112976074 seconds.\n"
     ]
    }
   ],
   "source": [
    "tracker_single = clf.train(df_merged)"
   ]
  },
  {
   "cell_type": "code",
   "execution_count": 90,
   "id": "b5f15f9b",
   "metadata": {},
   "outputs": [
    {
     "data": {
      "text/plain": [
       "{'train_score': 1.0,\n",
       " 'test_score': 1.0,\n",
       " 'confusion_matrix': array([[674,   0],\n",
       "        [  0, 693]]),\n",
       " 'classification_report': {'condition_FLT': {'precision': 1.0,\n",
       "   'recall': 1.0,\n",
       "   'f1-score': 1.0,\n",
       "   'support': 674},\n",
       "  'condition_GC': {'precision': 1.0,\n",
       "   'recall': 1.0,\n",
       "   'f1-score': 1.0,\n",
       "   'support': 693},\n",
       "  'micro avg': {'precision': 1.0,\n",
       "   'recall': 1.0,\n",
       "   'f1-score': 1.0,\n",
       "   'support': 1367},\n",
       "  'macro avg': {'precision': 1.0,\n",
       "   'recall': 1.0,\n",
       "   'f1-score': 1.0,\n",
       "   'support': 1367},\n",
       "  'weighted avg': {'precision': 1.0,\n",
       "   'recall': 1.0,\n",
       "   'f1-score': 1.0,\n",
       "   'support': 1367},\n",
       "  'samples avg': {'precision': 1.0,\n",
       "   'recall': 1.0,\n",
       "   'f1-score': 1.0,\n",
       "   'support': 1367}},\n",
       " 'labels': ['condition_FLT', 'condition_GC']}"
      ]
     },
     "execution_count": 90,
     "metadata": {},
     "output_type": "execute_result"
    }
   ],
   "source": [
    "tracker_single"
   ]
  },
  {
   "cell_type": "markdown",
   "id": "df3bbdb5",
   "metadata": {},
   "source": [
    "# Multiple phenotypes"
   ]
  },
  {
   "cell_type": "code",
   "execution_count": 35,
   "id": "299f3ccc",
   "metadata": {},
   "outputs": [],
   "source": [
    "class MultiPhenotypeIsolatedClassifier:\n",
    "    \"\"\"\n",
    "        Trains N different independent multi-class model.\n",
    "        Same train/test data is used for each of the model.\n",
    "    \"\"\"\n",
    "    def __init__(\n",
    "        self, cols_genes: List[str],\n",
    "        classifiers: List[SinglePhenotypeClassifier],\n",
    "        debug: bool = False,\n",
    "    ) -> None:\n",
    "        self.cols_genes = list(cols_genes)\n",
    "        self.classifiers = classifiers\n",
    "        self.debug = debug\n",
    "        \n",
    "    def train(self, data: pd.DataFrame, test_size:float = 0.2):\n",
    "        target_columns_full = list(set(data.columns) - set(self.cols_genes))\n",
    "        data_x = data[self.cols_genes]\n",
    "        data_y_full = data[target_columns_full]\n",
    "        \n",
    "        X_train, X_test, Y_train_full, Y_test_full = train_test_split(\n",
    "            data_x, data_y_full, test_size=test_size\n",
    "        )\n",
    "        \n",
    "        tracker = {}\n",
    "        for clf in tqdm(self.classifiers):\n",
    "            logger.info(f\"Training for phenotype={clf.phenotype}\")\n",
    "            tracker[clf.phenotype] = {}\n",
    "            Y_train = pd.get_dummies(Y_train_full[[clf.phenotype]])\n",
    "            Y_test = pd.get_dummies(Y_test_full[[clf.phenotype]])\n",
    "            \n",
    "            labels = list(Y_train.columns)\n",
    "            tracker[clf.phenotype][\"labels\"] = labels\n",
    "            \n",
    "            if self.debug:\n",
    "                logger.debug(f\"Target phenotype stats:: {Y_train_full[clf.phenotype].value_counts()}\")\n",
    "                logger.debug(f\"n genes = {len(self.cols_genes)} || Labels -> {labels}\")\n",
    "            metrics = clf.fit(clf.model, X_train, Y_train, X_test, Y_test, labels=labels)\n",
    "            tracker[clf.phenotype].update(metrics)\n",
    "\n",
    "        return tracker"
   ]
  },
  {
   "cell_type": "code",
   "execution_count": 69,
   "id": "224ea4d1",
   "metadata": {},
   "outputs": [],
   "source": [
    "clf_condition = SinglePhenotypeClassifier(cols_genes, \"condition\")\n",
    "clf_strain = SinglePhenotypeClassifier(cols_genes, \"strain\")\n",
    "clf_gender = SinglePhenotypeClassifier(cols_genes, \"gender\")\n",
    "clf_mission = SinglePhenotypeClassifier(cols_genes, \"mission\")\n",
    "trainer = MultiPhenotypeIsolatedClassifier(\n",
    "    cols_genes=cols_genes,\n",
    "    classifiers=[clf_condition, clf_strain, clf_gender, clf_mission],\n",
    "    debug=True,\n",
    ")"
   ]
  },
  {
   "cell_type": "code",
   "execution_count": 70,
   "id": "8f85d337",
   "metadata": {},
   "outputs": [
    {
     "name": "stderr",
     "output_type": "stream",
     "text": [
      "  0%|                                                                         | 0/4 [00:00<?, ?it/s]2022-07-07 14:43:51.944 | INFO     | __main__:train:26 - Training for phenotype=condition\n",
      "2022-07-07 14:43:51.947 | DEBUG    | __main__:train:35 - Target phenotype stats:: FLT    2786\n",
      "GC     2679\n",
      "Name: condition, dtype: int64\n",
      "2022-07-07 14:43:51.948 | DEBUG    | __main__:train:36 - n genes = 9268 || Labels -> ['condition_FLT', 'condition_GC']\n",
      "2022-07-07 14:44:31.263 | DEBUG    | __main__:fit:36 - Training took 39.31526494026184 seconds.\n",
      " 25%|████████████████▎                                                | 1/4 [00:39<01:58, 39.41s/it]2022-07-07 14:44:31.354 | INFO     | __main__:train:26 - Training for phenotype=strain\n",
      "2022-07-07 14:44:31.356 | DEBUG    | __main__:train:35 - Target phenotype stats:: C57BL6J    2292\n",
      "C57BL6T    2190\n",
      "BALBcT      983\n",
      "Name: strain, dtype: int64\n",
      "2022-07-07 14:44:31.356 | DEBUG    | __main__:train:36 - n genes = 9268 || Labels -> ['strain_BALBcT', 'strain_C57BL6J', 'strain_C57BL6T']\n",
      "2022-07-07 14:45:06.850 | DEBUG    | __main__:fit:36 - Training took 35.49343776702881 seconds.\n",
      "/Users/nishparadox/dev/uah/nasa-impact/bps-numerical/venv/lib/python3.9/site-packages/sklearn/metrics/_classification.py:1327: UndefinedMetricWarning: Precision and F-score are ill-defined and being set to 0.0 in samples with no predicted labels. Use `zero_division` parameter to control this behavior.\n",
      "  _warn_prf(average, modifier, msg_start, len(result))\n",
      " 50%|████████████████████████████████▌                                | 2/4 [01:15<01:14, 37.17s/it]2022-07-07 14:45:06.951 | INFO     | __main__:train:26 - Training for phenotype=gender\n",
      "2022-07-07 14:45:06.955 | DEBUG    | __main__:train:35 - Target phenotype stats:: female    5027\n",
      "male       438\n",
      "Name: gender, dtype: int64\n",
      "2022-07-07 14:45:06.955 | DEBUG    | __main__:train:36 - n genes = 9268 || Labels -> ['gender_female', 'gender_male']\n",
      "2022-07-07 14:45:23.966 | DEBUG    | __main__:fit:36 - Training took 17.010962963104248 seconds.\n",
      " 75%|████████████████████████████████████████████████▊                | 3/4 [01:32<00:28, 28.01s/it]2022-07-07 14:45:24.059 | INFO     | __main__:train:26 - Training for phenotype=mission\n",
      "2022-07-07 14:45:24.062 | DEBUG    | __main__:train:35 - Target phenotype stats:: RR6          1900\n",
      "RR1_NASA     1663\n",
      "RR3           983\n",
      "RR9           438\n",
      "RR1_CASIS     290\n",
      "STS_135       191\n",
      "Name: mission, dtype: int64\n",
      "2022-07-07 14:45:24.063 | DEBUG    | __main__:train:36 - n genes = 9268 || Labels -> ['mission_RR1_CASIS', 'mission_RR1_NASA', 'mission_RR3', 'mission_RR6', 'mission_RR9', 'mission_STS_135']\n",
      "2022-07-07 14:46:18.595 | DEBUG    | __main__:fit:36 - Training took 54.53205490112305 seconds.\n",
      "/Users/nishparadox/dev/uah/nasa-impact/bps-numerical/venv/lib/python3.9/site-packages/sklearn/metrics/_classification.py:1327: UndefinedMetricWarning: Precision and F-score are ill-defined and being set to 0.0 in samples with no predicted labels. Use `zero_division` parameter to control this behavior.\n",
      "  _warn_prf(average, modifier, msg_start, len(result))\n",
      "100%|█████████████████████████████████████████████████████████████████| 4/4 [02:26<00:00, 36.69s/it]\n"
     ]
    }
   ],
   "source": [
    "tracker_multi = trainer.train(df_merged)"
   ]
  },
  {
   "cell_type": "code",
   "execution_count": 71,
   "id": "a6d8eee4",
   "metadata": {},
   "outputs": [
    {
     "data": {
      "text/plain": [
       "{'condition': {'labels': ['condition_FLT', 'condition_GC'],\n",
       "  'train_score': 1.0,\n",
       "  'test_score': 0.9992684711046086,\n",
       "  'confusion_matrix': array([[690,   1],\n",
       "         [  0, 676]]),\n",
       "  'classification_report': {'condition_FLT': {'precision': 1.0,\n",
       "    'recall': 0.9985528219971056,\n",
       "    'f1-score': 0.999275887038378,\n",
       "    'support': 691},\n",
       "   'condition_GC': {'precision': 0.9985228951255539,\n",
       "    'recall': 1.0,\n",
       "    'f1-score': 0.999260901699926,\n",
       "    'support': 676},\n",
       "   'micro avg': {'precision': 0.9992684711046086,\n",
       "    'recall': 0.9992684711046086,\n",
       "    'f1-score': 0.9992684711046086,\n",
       "    'support': 1367},\n",
       "   'macro avg': {'precision': 0.999261447562777,\n",
       "    'recall': 0.9992764109985528,\n",
       "    'f1-score': 0.999268394369152,\n",
       "    'support': 1367},\n",
       "   'weighted avg': {'precision': 0.9992695516495059,\n",
       "    'recall': 0.9992684711046086,\n",
       "    'f1-score': 0.9992684765857127,\n",
       "    'support': 1367},\n",
       "   'samples avg': {'precision': 0.9992684711046086,\n",
       "    'recall': 0.9992684711046086,\n",
       "    'f1-score': 0.9992684711046086,\n",
       "    'support': 1367}}},\n",
       " 'strain': {'labels': ['strain_BALBcT', 'strain_C57BL6J', 'strain_C57BL6T'],\n",
       "  'train_score': 1.0,\n",
       "  'test_score': 0.9992684711046086,\n",
       "  'confusion_matrix': array([[237,   0,   0],\n",
       "         [  1, 574,   0],\n",
       "         [  0,   0, 555]]),\n",
       "  'classification_report': {'strain_BALBcT': {'precision': 1.0,\n",
       "    'recall': 1.0,\n",
       "    'f1-score': 1.0,\n",
       "    'support': 237},\n",
       "   'strain_C57BL6J': {'precision': 1.0,\n",
       "    'recall': 0.9982608695652174,\n",
       "    'f1-score': 0.999129677980853,\n",
       "    'support': 575},\n",
       "   'strain_C57BL6T': {'precision': 1.0,\n",
       "    'recall': 1.0,\n",
       "    'f1-score': 1.0,\n",
       "    'support': 555},\n",
       "   'micro avg': {'precision': 1.0,\n",
       "    'recall': 0.9992684711046086,\n",
       "    'f1-score': 0.999634101719722,\n",
       "    'support': 1367},\n",
       "   'macro avg': {'precision': 1.0,\n",
       "    'recall': 0.9994202898550725,\n",
       "    'f1-score': 0.9997098926602842,\n",
       "    'support': 1367},\n",
       "   'weighted avg': {'precision': 1.0,\n",
       "    'recall': 0.9992684711046086,\n",
       "    'f1-score': 0.9996339172194516,\n",
       "    'support': 1367},\n",
       "   'samples avg': {'precision': 0.9992684711046086,\n",
       "    'recall': 0.9992684711046086,\n",
       "    'f1-score': 0.9992684711046086,\n",
       "    'support': 1367}}},\n",
       " 'gender': {'labels': ['gender_female', 'gender_male'],\n",
       "  'train_score': 1.0,\n",
       "  'test_score': 0.9992684711046086,\n",
       "  'confusion_matrix': array([[1255,    1],\n",
       "         [   0,  111]]),\n",
       "  'classification_report': {'gender_female': {'precision': 1.0,\n",
       "    'recall': 0.9992038216560509,\n",
       "    'f1-score': 0.9996017522899244,\n",
       "    'support': 1256},\n",
       "   'gender_male': {'precision': 0.9910714285714286,\n",
       "    'recall': 1.0,\n",
       "    'f1-score': 0.9955156950672646,\n",
       "    'support': 111},\n",
       "   'micro avg': {'precision': 0.9992684711046086,\n",
       "    'recall': 0.9992684711046086,\n",
       "    'f1-score': 0.9992684711046086,\n",
       "    'support': 1367},\n",
       "   'macro avg': {'precision': 0.9955357142857143,\n",
       "    'recall': 0.9996019108280254,\n",
       "    'f1-score': 0.9975587236785945,\n",
       "    'support': 1367},\n",
       "   'weighted avg': {'precision': 0.9992750026126033,\n",
       "    'recall': 0.9992684711046086,\n",
       "    'f1-score': 0.9992699656390721,\n",
       "    'support': 1367},\n",
       "   'samples avg': {'precision': 0.9992684711046086,\n",
       "    'recall': 0.9992684711046086,\n",
       "    'f1-score': 0.9992684711046086,\n",
       "    'support': 1367}}},\n",
       " 'mission': {'labels': ['mission_RR1_CASIS',\n",
       "   'mission_RR1_NASA',\n",
       "   'mission_RR3',\n",
       "   'mission_RR6',\n",
       "   'mission_RR9',\n",
       "   'mission_STS_135'],\n",
       "  'train_score': 1.0,\n",
       "  'test_score': 0.9985369422092173,\n",
       "  'confusion_matrix': array([[ 76,   0,   0,   0,   0,   0],\n",
       "         [  1, 410,   0,   0,   0,   0],\n",
       "         [  0,   0, 237,   0,   0,   0],\n",
       "         [  0,   0,   0, 479,   0,   0],\n",
       "         [  0,   0,   0,   0, 111,   0],\n",
       "         [  0,   0,   0,   0,   0,  53]]),\n",
       "  'classification_report': {'mission_RR1_CASIS': {'precision': 1.0,\n",
       "    'recall': 1.0,\n",
       "    'f1-score': 1.0,\n",
       "    'support': 76},\n",
       "   'mission_RR1_NASA': {'precision': 1.0,\n",
       "    'recall': 0.9975669099756691,\n",
       "    'f1-score': 0.9987819732034106,\n",
       "    'support': 411},\n",
       "   'mission_RR3': {'precision': 1.0,\n",
       "    'recall': 1.0,\n",
       "    'f1-score': 1.0,\n",
       "    'support': 237},\n",
       "   'mission_RR6': {'precision': 1.0,\n",
       "    'recall': 1.0,\n",
       "    'f1-score': 1.0,\n",
       "    'support': 479},\n",
       "   'mission_RR9': {'precision': 0.9910714285714286,\n",
       "    'recall': 1.0,\n",
       "    'f1-score': 0.9955156950672646,\n",
       "    'support': 111},\n",
       "   'mission_STS_135': {'precision': 1.0,\n",
       "    'recall': 1.0,\n",
       "    'f1-score': 1.0,\n",
       "    'support': 53},\n",
       "   'micro avg': {'precision': 0.9992684711046086,\n",
       "    'recall': 0.9992684711046086,\n",
       "    'f1-score': 0.9992684711046086,\n",
       "    'support': 1367},\n",
       "   'macro avg': {'precision': 0.9985119047619048,\n",
       "    'recall': 0.9995944849959448,\n",
       "    'f1-score': 0.9990496113784458,\n",
       "    'support': 1367},\n",
       "   'weighted avg': {'precision': 0.9992750026126033,\n",
       "    'recall': 0.9992684711046086,\n",
       "    'f1-score': 0.999269665793027,\n",
       "    'support': 1367},\n",
       "   'samples avg': {'precision': 0.9989027066569129,\n",
       "    'recall': 0.9992684711046086,\n",
       "    'f1-score': 0.999024628139478,\n",
       "    'support': 1367}}}}"
      ]
     },
     "execution_count": 71,
     "metadata": {},
     "output_type": "execute_result"
    }
   ],
   "source": [
    "tracker_multi"
   ]
  },
  {
   "cell_type": "markdown",
   "id": "6744524f",
   "metadata": {},
   "source": [
    "# Feature Scorer"
   ]
  },
  {
   "cell_type": "code",
   "execution_count": 72,
   "id": "3df540db",
   "metadata": {},
   "outputs": [],
   "source": [
    "from abc import ABC, abstractmethod\n",
    "\n",
    "from typing import List, Tuple, Optional, Union\n",
    "from functools import partial\n",
    "\n",
    "\n",
    "class FeatureScorer(ABC):\n",
    "    @abstractmethod\n",
    "    def get_features(\n",
    "        self,\n",
    "        top_k: int=100,\n",
    "        columns: Optional[List[str]]=None,\n",
    "        **kwargs,\n",
    "    ) -> List[Tuple[str, float]]:\n",
    "        raise NotImplementedError()\n",
    "    \n",
    "    @staticmethod\n",
    "    def get_top_k_features(\n",
    "        model: Type[BaseEstimator],\n",
    "        top_k: int=25,\n",
    "        ignore_zeros: bool=False,\n",
    "    ) -> List[Tuple[str, float]]:\n",
    "        cols = list(model.feature_names_in_)\n",
    "        importances = model.feature_importances_\n",
    "        indices = np.argsort(-importances)[:top_k]\n",
    "        cols = np.array(cols)[indices].tolist()\n",
    "        features = zip(cols, importances[indices].tolist())\n",
    "        if ignore_zeros:\n",
    "            features = filter(lambda f: f[1]>0, features)\n",
    "        return list(features)\n",
    "\n",
    "class PhenotypeFeatureScorer(FeatureScorer):\n",
    "    \n",
    "    def __init__(\n",
    "        self,\n",
    "        *classifiers: Tuple[Union[Type[AbstractPhenotypeClassifier], Type[BaseEstimator]]]):\n",
    "        clfs = []\n",
    "        for clf in classifiers:\n",
    "            if isinstance(clf, BaseEstimator):\n",
    "                clf = [clf]\n",
    "            elif isinstance(clf, SinglePhenotypeClassifier):\n",
    "                clf = [clf.model]\n",
    "            elif isinstance(clf, MultiPhenotypeIsolatedClassifier):\n",
    "                clf = list(map(lambda m: m.model, clf.classifiers))\n",
    "            clfs.extend(clf)\n",
    "\n",
    "        self.models = clfs\n",
    "    \n",
    "    def get_features(\n",
    "        self,\n",
    "        top_k: int = 100,\n",
    "        columns: Optional[List[str]]=None,\n",
    "        **kwargs,\n",
    "    ) -> List[Tuple[str, float]]:\n",
    "        ignore_zeros = kwargs.get(\"ignore_zeros\", False)\n",
    "        if len(self.models) == 1:\n",
    "            return self.get_top_k_features(\n",
    "                self.models[0],\n",
    "                top_k=top_k,\n",
    "                ignore_zeros=ignore_zeros,\n",
    "            )\n",
    "        _get_top_k = partial(self.get_top_k_features, top_k=top_k, ignore_zeros=ignore_zeros)\n",
    "        features = list(map(lambda model: _get_top_k(model=model), self.models))\n",
    "        return self._get_common_features(*features)\n",
    "    \n",
    " \n",
    "    def _get_common_features(self, *features_list: List[List[Tuple[str, float]]]) -> List[Tuple[str, float]]:\n",
    "        \"\"\"\n",
    "            Get common features across multiple feature list.\n",
    "\n",
    "            Score is computed as an average between all the common feature scores.\n",
    "        \"\"\"\n",
    "        if len(features_list) == 1:\n",
    "            return features_list[0]\n",
    "\n",
    "        _mapify = lambda fts: dict(fts)\n",
    "\n",
    "        features_first = _mapify(features_list[0])\n",
    "        common = set(features_first.keys())\n",
    "        scoremap = features_first.copy()\n",
    "\n",
    "        for features in features_list[1:]:\n",
    "            fmap = _mapify(features)\n",
    "            common = common.intersection(fmap.keys())\n",
    "            scoremap = dict(map(lambda c: (c, (scoremap[c] + fmap[c]) ), common ))\n",
    "\n",
    "        scoremap = {name: score/len(features_list) for name, score in scoremap.items()}\n",
    "        return sorted(list(scoremap.items()), key=lambda x: x[1], reverse=True)"
   ]
  },
  {
   "cell_type": "code",
   "execution_count": 73,
   "id": "5dbe08ac",
   "metadata": {},
   "outputs": [
    {
     "name": "stdout",
     "output_type": "stream",
     "text": [
      "condition 182\n",
      "strain 104\n",
      "gender 12\n",
      "mission 119\n"
     ]
    }
   ],
   "source": [
    "for clf in trainer.classifiers:\n",
    "    print(clf.phenotype, len(PhenotypeFeatureScorer(clf).get_features(top_k=500, ignore_zeros=True)))"
   ]
  },
  {
   "cell_type": "code",
   "execution_count": 45,
   "id": "58331b4f",
   "metadata": {},
   "outputs": [
    {
     "data": {
      "text/plain": [
       "282"
      ]
     },
     "execution_count": 45,
     "metadata": {},
     "output_type": "execute_result"
    }
   ],
   "source": [
    "len(PhenotypeFeatureScorer(trainer).get_features(top_k=500, ignore_zeros=False))"
   ]
  },
  {
   "cell_type": "code",
   "execution_count": 43,
   "id": "222a564c",
   "metadata": {},
   "outputs": [
    {
     "data": {
      "text/plain": [
       "0"
      ]
     },
     "execution_count": 43,
     "metadata": {},
     "output_type": "execute_result"
    }
   ],
   "source": [
    "# if we ignore 0-score features\n",
    "len(PhenotypeFeatureScorer(*trainer.classifiers).get_features(top_k=500, ignore_zeros=True))"
   ]
  },
  {
   "cell_type": "code",
   "execution_count": 86,
   "id": "3cc48ad5",
   "metadata": {},
   "outputs": [],
   "source": [
    "import itertools\n",
    "\n",
    "def compute_permuted_scores(*classifiers, ignore_zeros: bool = True):\n",
    "    def _powerset(items):\n",
    "        for sl in itertools.product(*[[[], [i]] for i in items]):\n",
    "            yield {j for i in sl for j in i}\n",
    "    \n",
    "    res = {}\n",
    "    for objs in _powerset(classifiers):\n",
    "        if len(objs) < 2:\n",
    "            continue\n",
    "        labels = tuple(map(lambda clf: clf.phenotype, objs))\n",
    "        res[labels] = PhenotypeFeatureScorer(*objs).get_features(top_k=500, ignore_zeros=True)\n",
    "    return res"
   ]
  },
  {
   "cell_type": "code",
   "execution_count": 88,
   "id": "abdf0348",
   "metadata": {},
   "outputs": [
    {
     "data": {
      "text/plain": [
       "{('gender', 'mission'): [('ENSMUSG00000078672', 0.5097561348229647),\n",
       "  ('ENSMUSG00000073842', 0.003827331180218607),\n",
       "  ('ENSMUSG00000092008', 0.002961077232612297),\n",
       "  ('ENSMUSG00000075463', 0.0021061137231299654),\n",
       "  ('ENSMUSG00000030968', 0.0016032622079364955),\n",
       "  ('ENSMUSG00000093979', 0.0012342767586233094),\n",
       "  ('ENSMUSG00000052131', 0.0009593949034751859),\n",
       "  ('ENSMUSG00000048330', 0.0007530915318056941)],\n",
       " ('mission', 'strain'): [('ENSMUSG00000094915', 0.13335344940423965),\n",
       "  ('ENSMUSG00000091957', 0.116585873067379),\n",
       "  ('ENSMUSG00000076934', 0.10559757443115814),\n",
       "  ('ENSMUSG00000091648', 0.03633647575043142),\n",
       "  ('ENSMUSG00000118012', 0.0348936275113374),\n",
       "  ('ENSMUSG00000027487', 0.028520523926545138),\n",
       "  ('ENSMUSG00000117255', 0.021796025335788727),\n",
       "  ('ENSMUSG00000038539', 0.020280574157368392),\n",
       "  ('ENSMUSG00000033581', 0.017825580231146887),\n",
       "  ('ENSMUSG00000113948', 0.014643841423094273),\n",
       "  ('ENSMUSG00000064339', 0.008885968351023621),\n",
       "  ('ENSMUSG00000110524', 0.00848858361132443),\n",
       "  ('ENSMUSG00000101939', 0.008073773235082626),\n",
       "  ('ENSMUSG00000106106', 0.007936097215861082),\n",
       "  ('ENSMUSG00000078880', 0.004222577030304819),\n",
       "  ('ENSMUSG00000064360', 0.0027754936018027365),\n",
       "  ('ENSMUSG00000106391', 0.00256978117977269),\n",
       "  ('ENSMUSG00000117767', 0.0023752962006255984),\n",
       "  ('ENSMUSG00000101249', 0.0019337969715707004),\n",
       "  ('ENSMUSG00000029369', 0.0009462166708544828),\n",
       "  ('ENSMUSG00000113662', 0.0008036685321712866),\n",
       "  ('ENSMUSG00000117780', 0.0007911998982308432),\n",
       "  ('ENSMUSG00000020609', 0.0007873846043366939),\n",
       "  ('ENSMUSG00000071177', 0.00042658498568926007),\n",
       "  ('ENSMUSG00000029368', 0.0003199659004167188),\n",
       "  ('ENSMUSG00000096674', 0.0002595990081317723),\n",
       "  ('ENSMUSG00000078686', 0.00014693909179186448),\n",
       "  ('ENSMUSG00000112237', 0.00013314302850631066)],\n",
       " ('gender', 'strain'): [],\n",
       " ('gender', 'mission', 'strain'): [],\n",
       " ('mission', 'condition'): [('ENSMUSG00000050248', 0.05258168687578291),\n",
       "  ('ENSMUSG00000075015', 0.009030493543832563),\n",
       "  ('ENSMUSG00000064339', 0.008887268996659259),\n",
       "  ('ENSMUSG00000002985', 0.004107410361029906),\n",
       "  ('ENSMUSG00000078686', 0.0026168109325226396),\n",
       "  ('ENSMUSG00000099250', 0.0013968163402751088),\n",
       "  ('ENSMUSG00000113662', 0.0001192233175970614)],\n",
       " ('gender', 'condition'): [],\n",
       " ('gender', 'mission', 'condition'): [],\n",
       " ('strain', 'condition'): [('ENSMUSG00000113575', 0.09754254552535713),\n",
       "  ('ENSMUSG00000096688', 0.020466724410653114),\n",
       "  ('ENSMUSG00000078686', 0.0026357800743426196),\n",
       "  ('ENSMUSG00000025993', 0.0017445258963562082),\n",
       "  ('ENSMUSG00000113662', 0.0008576948166592047),\n",
       "  ('ENSMUSG00000105361', 0.0008362563894479536),\n",
       "  ('ENSMUSG00000064339', 1.8142432054446544e-05)],\n",
       " ('strain',\n",
       "  'mission',\n",
       "  'condition'): [('ENSMUSG00000064339',\n",
       "   0.0059304599265791085), ('ENSMUSG00000078686', 0.0017998433662190412), ('ENSMUSG00000113662',\n",
       "   0.0005935288888091842)],\n",
       " ('gender', 'strain', 'condition'): [],\n",
       " ('gender', 'strain', 'mission', 'condition'): []}"
      ]
     },
     "execution_count": 88,
     "metadata": {},
     "output_type": "execute_result"
    }
   ],
   "source": [
    "compute_permuted_scores(*trainer.classifiers)"
   ]
  },
  {
   "cell_type": "markdown",
   "id": "2d4d9d85",
   "metadata": {},
   "source": [
    "# Plot Top features"
   ]
  },
  {
   "cell_type": "code",
   "execution_count": 91,
   "id": "24105dc8",
   "metadata": {},
   "outputs": [],
   "source": [
    "def plot_features(features: List[Tuple[str, float]], view_slicer:int = 75):\n",
    "    df_top_k = pd.DataFrame(features[:view_slicer], columns=[\"gene\", \"importance\"])\n",
    "    fig = px.bar(\n",
    "        df_top_k,\n",
    "        x=\"importance\",\n",
    "        y=\"gene\",\n",
    "        title=f\"{view_slicer} features\",\n",
    "        orientation=\"h\",\n",
    "        height=1600,\n",
    "        width=1000,\n",
    "    #     text_auto=True,\n",
    "    )\n",
    "    # fig.update_traces(width=3)\n",
    "    fig.update_layout(yaxis = dict(tickfont = dict(size=7)))\n",
    "    fig.show()"
   ]
  },
  {
   "cell_type": "code",
   "execution_count": 92,
   "id": "45e363e9",
   "metadata": {},
   "outputs": [
    {
     "data": {
      "application/vnd.plotly.v1+json": {
       "config": {
        "plotlyServerURL": "https://plot.ly"
       },
       "data": [
        {
         "alignmentgroup": "True",
         "hovertemplate": "importance=%{x}<br>gene=%{y}<extra></extra>",
         "legendgroup": "",
         "marker": {
          "color": "#636efa",
          "pattern": {
           "shape": ""
          }
         },
         "name": "",
         "offsetgroup": "",
         "orientation": "h",
         "showlegend": false,
         "textposition": "auto",
         "type": "bar",
         "x": [
          0.13335344940423965,
          0.116585873067379,
          0.10559757443115814,
          0.03633647575043142,
          0.0348936275113374,
          0.028520523926545138,
          0.021796025335788727,
          0.020280574157368392,
          0.017825580231146887,
          0.014643841423094273,
          0.008885968351023621,
          0.00848858361132443,
          0.008073773235082626,
          0.007936097215861082,
          0.004222577030304819,
          0.0027754936018027365,
          0.00256978117977269,
          0.0023752962006255984,
          0.0019337969715707004,
          0.0009462166708544828,
          0.0008036685321712866,
          0.0007911998982308432,
          0.0007873846043366939,
          0.00042658498568926007,
          0.0003199659004167188,
          0.0002595990081317723,
          0.00014693909179186448,
          0.00013314302850631066
         ],
         "xaxis": "x",
         "y": [
          "ENSMUSG00000094915",
          "ENSMUSG00000091957",
          "ENSMUSG00000076934",
          "ENSMUSG00000091648",
          "ENSMUSG00000118012",
          "ENSMUSG00000027487",
          "ENSMUSG00000117255",
          "ENSMUSG00000038539",
          "ENSMUSG00000033581",
          "ENSMUSG00000113948",
          "ENSMUSG00000064339",
          "ENSMUSG00000110524",
          "ENSMUSG00000101939",
          "ENSMUSG00000106106",
          "ENSMUSG00000078880",
          "ENSMUSG00000064360",
          "ENSMUSG00000106391",
          "ENSMUSG00000117767",
          "ENSMUSG00000101249",
          "ENSMUSG00000029369",
          "ENSMUSG00000113662",
          "ENSMUSG00000117780",
          "ENSMUSG00000020609",
          "ENSMUSG00000071177",
          "ENSMUSG00000029368",
          "ENSMUSG00000096674",
          "ENSMUSG00000078686",
          "ENSMUSG00000112237"
         ],
         "yaxis": "y"
        }
       ],
       "layout": {
        "barmode": "relative",
        "height": 1600,
        "legend": {
         "tracegroupgap": 0
        },
        "template": {
         "data": {
          "bar": [
           {
            "error_x": {
             "color": "#2a3f5f"
            },
            "error_y": {
             "color": "#2a3f5f"
            },
            "marker": {
             "line": {
              "color": "#E5ECF6",
              "width": 0.5
             },
             "pattern": {
              "fillmode": "overlay",
              "size": 10,
              "solidity": 0.2
             }
            },
            "type": "bar"
           }
          ],
          "barpolar": [
           {
            "marker": {
             "line": {
              "color": "#E5ECF6",
              "width": 0.5
             },
             "pattern": {
              "fillmode": "overlay",
              "size": 10,
              "solidity": 0.2
             }
            },
            "type": "barpolar"
           }
          ],
          "carpet": [
           {
            "aaxis": {
             "endlinecolor": "#2a3f5f",
             "gridcolor": "white",
             "linecolor": "white",
             "minorgridcolor": "white",
             "startlinecolor": "#2a3f5f"
            },
            "baxis": {
             "endlinecolor": "#2a3f5f",
             "gridcolor": "white",
             "linecolor": "white",
             "minorgridcolor": "white",
             "startlinecolor": "#2a3f5f"
            },
            "type": "carpet"
           }
          ],
          "choropleth": [
           {
            "colorbar": {
             "outlinewidth": 0,
             "ticks": ""
            },
            "type": "choropleth"
           }
          ],
          "contour": [
           {
            "colorbar": {
             "outlinewidth": 0,
             "ticks": ""
            },
            "colorscale": [
             [
              0,
              "#0d0887"
             ],
             [
              0.1111111111111111,
              "#46039f"
             ],
             [
              0.2222222222222222,
              "#7201a8"
             ],
             [
              0.3333333333333333,
              "#9c179e"
             ],
             [
              0.4444444444444444,
              "#bd3786"
             ],
             [
              0.5555555555555556,
              "#d8576b"
             ],
             [
              0.6666666666666666,
              "#ed7953"
             ],
             [
              0.7777777777777778,
              "#fb9f3a"
             ],
             [
              0.8888888888888888,
              "#fdca26"
             ],
             [
              1,
              "#f0f921"
             ]
            ],
            "type": "contour"
           }
          ],
          "contourcarpet": [
           {
            "colorbar": {
             "outlinewidth": 0,
             "ticks": ""
            },
            "type": "contourcarpet"
           }
          ],
          "heatmap": [
           {
            "colorbar": {
             "outlinewidth": 0,
             "ticks": ""
            },
            "colorscale": [
             [
              0,
              "#0d0887"
             ],
             [
              0.1111111111111111,
              "#46039f"
             ],
             [
              0.2222222222222222,
              "#7201a8"
             ],
             [
              0.3333333333333333,
              "#9c179e"
             ],
             [
              0.4444444444444444,
              "#bd3786"
             ],
             [
              0.5555555555555556,
              "#d8576b"
             ],
             [
              0.6666666666666666,
              "#ed7953"
             ],
             [
              0.7777777777777778,
              "#fb9f3a"
             ],
             [
              0.8888888888888888,
              "#fdca26"
             ],
             [
              1,
              "#f0f921"
             ]
            ],
            "type": "heatmap"
           }
          ],
          "heatmapgl": [
           {
            "colorbar": {
             "outlinewidth": 0,
             "ticks": ""
            },
            "colorscale": [
             [
              0,
              "#0d0887"
             ],
             [
              0.1111111111111111,
              "#46039f"
             ],
             [
              0.2222222222222222,
              "#7201a8"
             ],
             [
              0.3333333333333333,
              "#9c179e"
             ],
             [
              0.4444444444444444,
              "#bd3786"
             ],
             [
              0.5555555555555556,
              "#d8576b"
             ],
             [
              0.6666666666666666,
              "#ed7953"
             ],
             [
              0.7777777777777778,
              "#fb9f3a"
             ],
             [
              0.8888888888888888,
              "#fdca26"
             ],
             [
              1,
              "#f0f921"
             ]
            ],
            "type": "heatmapgl"
           }
          ],
          "histogram": [
           {
            "marker": {
             "pattern": {
              "fillmode": "overlay",
              "size": 10,
              "solidity": 0.2
             }
            },
            "type": "histogram"
           }
          ],
          "histogram2d": [
           {
            "colorbar": {
             "outlinewidth": 0,
             "ticks": ""
            },
            "colorscale": [
             [
              0,
              "#0d0887"
             ],
             [
              0.1111111111111111,
              "#46039f"
             ],
             [
              0.2222222222222222,
              "#7201a8"
             ],
             [
              0.3333333333333333,
              "#9c179e"
             ],
             [
              0.4444444444444444,
              "#bd3786"
             ],
             [
              0.5555555555555556,
              "#d8576b"
             ],
             [
              0.6666666666666666,
              "#ed7953"
             ],
             [
              0.7777777777777778,
              "#fb9f3a"
             ],
             [
              0.8888888888888888,
              "#fdca26"
             ],
             [
              1,
              "#f0f921"
             ]
            ],
            "type": "histogram2d"
           }
          ],
          "histogram2dcontour": [
           {
            "colorbar": {
             "outlinewidth": 0,
             "ticks": ""
            },
            "colorscale": [
             [
              0,
              "#0d0887"
             ],
             [
              0.1111111111111111,
              "#46039f"
             ],
             [
              0.2222222222222222,
              "#7201a8"
             ],
             [
              0.3333333333333333,
              "#9c179e"
             ],
             [
              0.4444444444444444,
              "#bd3786"
             ],
             [
              0.5555555555555556,
              "#d8576b"
             ],
             [
              0.6666666666666666,
              "#ed7953"
             ],
             [
              0.7777777777777778,
              "#fb9f3a"
             ],
             [
              0.8888888888888888,
              "#fdca26"
             ],
             [
              1,
              "#f0f921"
             ]
            ],
            "type": "histogram2dcontour"
           }
          ],
          "mesh3d": [
           {
            "colorbar": {
             "outlinewidth": 0,
             "ticks": ""
            },
            "type": "mesh3d"
           }
          ],
          "parcoords": [
           {
            "line": {
             "colorbar": {
              "outlinewidth": 0,
              "ticks": ""
             }
            },
            "type": "parcoords"
           }
          ],
          "pie": [
           {
            "automargin": true,
            "type": "pie"
           }
          ],
          "scatter": [
           {
            "fillpattern": {
             "fillmode": "overlay",
             "size": 10,
             "solidity": 0.2
            },
            "type": "scatter"
           }
          ],
          "scatter3d": [
           {
            "line": {
             "colorbar": {
              "outlinewidth": 0,
              "ticks": ""
             }
            },
            "marker": {
             "colorbar": {
              "outlinewidth": 0,
              "ticks": ""
             }
            },
            "type": "scatter3d"
           }
          ],
          "scattercarpet": [
           {
            "marker": {
             "colorbar": {
              "outlinewidth": 0,
              "ticks": ""
             }
            },
            "type": "scattercarpet"
           }
          ],
          "scattergeo": [
           {
            "marker": {
             "colorbar": {
              "outlinewidth": 0,
              "ticks": ""
             }
            },
            "type": "scattergeo"
           }
          ],
          "scattergl": [
           {
            "marker": {
             "colorbar": {
              "outlinewidth": 0,
              "ticks": ""
             }
            },
            "type": "scattergl"
           }
          ],
          "scattermapbox": [
           {
            "marker": {
             "colorbar": {
              "outlinewidth": 0,
              "ticks": ""
             }
            },
            "type": "scattermapbox"
           }
          ],
          "scatterpolar": [
           {
            "marker": {
             "colorbar": {
              "outlinewidth": 0,
              "ticks": ""
             }
            },
            "type": "scatterpolar"
           }
          ],
          "scatterpolargl": [
           {
            "marker": {
             "colorbar": {
              "outlinewidth": 0,
              "ticks": ""
             }
            },
            "type": "scatterpolargl"
           }
          ],
          "scatterternary": [
           {
            "marker": {
             "colorbar": {
              "outlinewidth": 0,
              "ticks": ""
             }
            },
            "type": "scatterternary"
           }
          ],
          "surface": [
           {
            "colorbar": {
             "outlinewidth": 0,
             "ticks": ""
            },
            "colorscale": [
             [
              0,
              "#0d0887"
             ],
             [
              0.1111111111111111,
              "#46039f"
             ],
             [
              0.2222222222222222,
              "#7201a8"
             ],
             [
              0.3333333333333333,
              "#9c179e"
             ],
             [
              0.4444444444444444,
              "#bd3786"
             ],
             [
              0.5555555555555556,
              "#d8576b"
             ],
             [
              0.6666666666666666,
              "#ed7953"
             ],
             [
              0.7777777777777778,
              "#fb9f3a"
             ],
             [
              0.8888888888888888,
              "#fdca26"
             ],
             [
              1,
              "#f0f921"
             ]
            ],
            "type": "surface"
           }
          ],
          "table": [
           {
            "cells": {
             "fill": {
              "color": "#EBF0F8"
             },
             "line": {
              "color": "white"
             }
            },
            "header": {
             "fill": {
              "color": "#C8D4E3"
             },
             "line": {
              "color": "white"
             }
            },
            "type": "table"
           }
          ]
         },
         "layout": {
          "annotationdefaults": {
           "arrowcolor": "#2a3f5f",
           "arrowhead": 0,
           "arrowwidth": 1
          },
          "autotypenumbers": "strict",
          "coloraxis": {
           "colorbar": {
            "outlinewidth": 0,
            "ticks": ""
           }
          },
          "colorscale": {
           "diverging": [
            [
             0,
             "#8e0152"
            ],
            [
             0.1,
             "#c51b7d"
            ],
            [
             0.2,
             "#de77ae"
            ],
            [
             0.3,
             "#f1b6da"
            ],
            [
             0.4,
             "#fde0ef"
            ],
            [
             0.5,
             "#f7f7f7"
            ],
            [
             0.6,
             "#e6f5d0"
            ],
            [
             0.7,
             "#b8e186"
            ],
            [
             0.8,
             "#7fbc41"
            ],
            [
             0.9,
             "#4d9221"
            ],
            [
             1,
             "#276419"
            ]
           ],
           "sequential": [
            [
             0,
             "#0d0887"
            ],
            [
             0.1111111111111111,
             "#46039f"
            ],
            [
             0.2222222222222222,
             "#7201a8"
            ],
            [
             0.3333333333333333,
             "#9c179e"
            ],
            [
             0.4444444444444444,
             "#bd3786"
            ],
            [
             0.5555555555555556,
             "#d8576b"
            ],
            [
             0.6666666666666666,
             "#ed7953"
            ],
            [
             0.7777777777777778,
             "#fb9f3a"
            ],
            [
             0.8888888888888888,
             "#fdca26"
            ],
            [
             1,
             "#f0f921"
            ]
           ],
           "sequentialminus": [
            [
             0,
             "#0d0887"
            ],
            [
             0.1111111111111111,
             "#46039f"
            ],
            [
             0.2222222222222222,
             "#7201a8"
            ],
            [
             0.3333333333333333,
             "#9c179e"
            ],
            [
             0.4444444444444444,
             "#bd3786"
            ],
            [
             0.5555555555555556,
             "#d8576b"
            ],
            [
             0.6666666666666666,
             "#ed7953"
            ],
            [
             0.7777777777777778,
             "#fb9f3a"
            ],
            [
             0.8888888888888888,
             "#fdca26"
            ],
            [
             1,
             "#f0f921"
            ]
           ]
          },
          "colorway": [
           "#636efa",
           "#EF553B",
           "#00cc96",
           "#ab63fa",
           "#FFA15A",
           "#19d3f3",
           "#FF6692",
           "#B6E880",
           "#FF97FF",
           "#FECB52"
          ],
          "font": {
           "color": "#2a3f5f"
          },
          "geo": {
           "bgcolor": "white",
           "lakecolor": "white",
           "landcolor": "#E5ECF6",
           "showlakes": true,
           "showland": true,
           "subunitcolor": "white"
          },
          "hoverlabel": {
           "align": "left"
          },
          "hovermode": "closest",
          "mapbox": {
           "style": "light"
          },
          "paper_bgcolor": "white",
          "plot_bgcolor": "#E5ECF6",
          "polar": {
           "angularaxis": {
            "gridcolor": "white",
            "linecolor": "white",
            "ticks": ""
           },
           "bgcolor": "#E5ECF6",
           "radialaxis": {
            "gridcolor": "white",
            "linecolor": "white",
            "ticks": ""
           }
          },
          "scene": {
           "xaxis": {
            "backgroundcolor": "#E5ECF6",
            "gridcolor": "white",
            "gridwidth": 2,
            "linecolor": "white",
            "showbackground": true,
            "ticks": "",
            "zerolinecolor": "white"
           },
           "yaxis": {
            "backgroundcolor": "#E5ECF6",
            "gridcolor": "white",
            "gridwidth": 2,
            "linecolor": "white",
            "showbackground": true,
            "ticks": "",
            "zerolinecolor": "white"
           },
           "zaxis": {
            "backgroundcolor": "#E5ECF6",
            "gridcolor": "white",
            "gridwidth": 2,
            "linecolor": "white",
            "showbackground": true,
            "ticks": "",
            "zerolinecolor": "white"
           }
          },
          "shapedefaults": {
           "line": {
            "color": "#2a3f5f"
           }
          },
          "ternary": {
           "aaxis": {
            "gridcolor": "white",
            "linecolor": "white",
            "ticks": ""
           },
           "baxis": {
            "gridcolor": "white",
            "linecolor": "white",
            "ticks": ""
           },
           "bgcolor": "#E5ECF6",
           "caxis": {
            "gridcolor": "white",
            "linecolor": "white",
            "ticks": ""
           }
          },
          "title": {
           "x": 0.05
          },
          "xaxis": {
           "automargin": true,
           "gridcolor": "white",
           "linecolor": "white",
           "ticks": "",
           "title": {
            "standoff": 15
           },
           "zerolinecolor": "white",
           "zerolinewidth": 2
          },
          "yaxis": {
           "automargin": true,
           "gridcolor": "white",
           "linecolor": "white",
           "ticks": "",
           "title": {
            "standoff": 15
           },
           "zerolinecolor": "white",
           "zerolinewidth": 2
          }
         }
        },
        "title": {
         "text": "75 features"
        },
        "width": 1000,
        "xaxis": {
         "anchor": "y",
         "domain": [
          0,
          1
         ],
         "title": {
          "text": "importance"
         }
        },
        "yaxis": {
         "anchor": "x",
         "domain": [
          0,
          1
         ],
         "tickfont": {
          "size": 7
         },
         "title": {
          "text": "gene"
         }
        }
       }
      },
      "text/html": [
       "<div>                            <div id=\"6f019c4d-23fb-43b5-962a-2d4271fb3a1a\" class=\"plotly-graph-div\" style=\"height:1600px; width:1000px;\"></div>            <script type=\"text/javascript\">                require([\"plotly\"], function(Plotly) {                    window.PLOTLYENV=window.PLOTLYENV || {};                                    if (document.getElementById(\"6f019c4d-23fb-43b5-962a-2d4271fb3a1a\")) {                    Plotly.newPlot(                        \"6f019c4d-23fb-43b5-962a-2d4271fb3a1a\",                        [{\"alignmentgroup\":\"True\",\"hovertemplate\":\"importance=%{x}<br>gene=%{y}<extra></extra>\",\"legendgroup\":\"\",\"marker\":{\"color\":\"#636efa\",\"pattern\":{\"shape\":\"\"}},\"name\":\"\",\"offsetgroup\":\"\",\"orientation\":\"h\",\"showlegend\":false,\"textposition\":\"auto\",\"x\":[0.13335344940423965,0.116585873067379,0.10559757443115814,0.03633647575043142,0.0348936275113374,0.028520523926545138,0.021796025335788727,0.020280574157368392,0.017825580231146887,0.014643841423094273,0.008885968351023621,0.00848858361132443,0.008073773235082626,0.007936097215861082,0.004222577030304819,0.0027754936018027365,0.00256978117977269,0.0023752962006255984,0.0019337969715707004,0.0009462166708544828,0.0008036685321712866,0.0007911998982308432,0.0007873846043366939,0.00042658498568926007,0.0003199659004167188,0.0002595990081317723,0.00014693909179186448,0.00013314302850631066],\"xaxis\":\"x\",\"y\":[\"ENSMUSG00000094915\",\"ENSMUSG00000091957\",\"ENSMUSG00000076934\",\"ENSMUSG00000091648\",\"ENSMUSG00000118012\",\"ENSMUSG00000027487\",\"ENSMUSG00000117255\",\"ENSMUSG00000038539\",\"ENSMUSG00000033581\",\"ENSMUSG00000113948\",\"ENSMUSG00000064339\",\"ENSMUSG00000110524\",\"ENSMUSG00000101939\",\"ENSMUSG00000106106\",\"ENSMUSG00000078880\",\"ENSMUSG00000064360\",\"ENSMUSG00000106391\",\"ENSMUSG00000117767\",\"ENSMUSG00000101249\",\"ENSMUSG00000029369\",\"ENSMUSG00000113662\",\"ENSMUSG00000117780\",\"ENSMUSG00000020609\",\"ENSMUSG00000071177\",\"ENSMUSG00000029368\",\"ENSMUSG00000096674\",\"ENSMUSG00000078686\",\"ENSMUSG00000112237\"],\"yaxis\":\"y\",\"type\":\"bar\"}],                        {\"template\":{\"data\":{\"histogram2dcontour\":[{\"type\":\"histogram2dcontour\",\"colorbar\":{\"outlinewidth\":0,\"ticks\":\"\"},\"colorscale\":[[0.0,\"#0d0887\"],[0.1111111111111111,\"#46039f\"],[0.2222222222222222,\"#7201a8\"],[0.3333333333333333,\"#9c179e\"],[0.4444444444444444,\"#bd3786\"],[0.5555555555555556,\"#d8576b\"],[0.6666666666666666,\"#ed7953\"],[0.7777777777777778,\"#fb9f3a\"],[0.8888888888888888,\"#fdca26\"],[1.0,\"#f0f921\"]]}],\"choropleth\":[{\"type\":\"choropleth\",\"colorbar\":{\"outlinewidth\":0,\"ticks\":\"\"}}],\"histogram2d\":[{\"type\":\"histogram2d\",\"colorbar\":{\"outlinewidth\":0,\"ticks\":\"\"},\"colorscale\":[[0.0,\"#0d0887\"],[0.1111111111111111,\"#46039f\"],[0.2222222222222222,\"#7201a8\"],[0.3333333333333333,\"#9c179e\"],[0.4444444444444444,\"#bd3786\"],[0.5555555555555556,\"#d8576b\"],[0.6666666666666666,\"#ed7953\"],[0.7777777777777778,\"#fb9f3a\"],[0.8888888888888888,\"#fdca26\"],[1.0,\"#f0f921\"]]}],\"heatmap\":[{\"type\":\"heatmap\",\"colorbar\":{\"outlinewidth\":0,\"ticks\":\"\"},\"colorscale\":[[0.0,\"#0d0887\"],[0.1111111111111111,\"#46039f\"],[0.2222222222222222,\"#7201a8\"],[0.3333333333333333,\"#9c179e\"],[0.4444444444444444,\"#bd3786\"],[0.5555555555555556,\"#d8576b\"],[0.6666666666666666,\"#ed7953\"],[0.7777777777777778,\"#fb9f3a\"],[0.8888888888888888,\"#fdca26\"],[1.0,\"#f0f921\"]]}],\"heatmapgl\":[{\"type\":\"heatmapgl\",\"colorbar\":{\"outlinewidth\":0,\"ticks\":\"\"},\"colorscale\":[[0.0,\"#0d0887\"],[0.1111111111111111,\"#46039f\"],[0.2222222222222222,\"#7201a8\"],[0.3333333333333333,\"#9c179e\"],[0.4444444444444444,\"#bd3786\"],[0.5555555555555556,\"#d8576b\"],[0.6666666666666666,\"#ed7953\"],[0.7777777777777778,\"#fb9f3a\"],[0.8888888888888888,\"#fdca26\"],[1.0,\"#f0f921\"]]}],\"contourcarpet\":[{\"type\":\"contourcarpet\",\"colorbar\":{\"outlinewidth\":0,\"ticks\":\"\"}}],\"contour\":[{\"type\":\"contour\",\"colorbar\":{\"outlinewidth\":0,\"ticks\":\"\"},\"colorscale\":[[0.0,\"#0d0887\"],[0.1111111111111111,\"#46039f\"],[0.2222222222222222,\"#7201a8\"],[0.3333333333333333,\"#9c179e\"],[0.4444444444444444,\"#bd3786\"],[0.5555555555555556,\"#d8576b\"],[0.6666666666666666,\"#ed7953\"],[0.7777777777777778,\"#fb9f3a\"],[0.8888888888888888,\"#fdca26\"],[1.0,\"#f0f921\"]]}],\"surface\":[{\"type\":\"surface\",\"colorbar\":{\"outlinewidth\":0,\"ticks\":\"\"},\"colorscale\":[[0.0,\"#0d0887\"],[0.1111111111111111,\"#46039f\"],[0.2222222222222222,\"#7201a8\"],[0.3333333333333333,\"#9c179e\"],[0.4444444444444444,\"#bd3786\"],[0.5555555555555556,\"#d8576b\"],[0.6666666666666666,\"#ed7953\"],[0.7777777777777778,\"#fb9f3a\"],[0.8888888888888888,\"#fdca26\"],[1.0,\"#f0f921\"]]}],\"mesh3d\":[{\"type\":\"mesh3d\",\"colorbar\":{\"outlinewidth\":0,\"ticks\":\"\"}}],\"scatter\":[{\"fillpattern\":{\"fillmode\":\"overlay\",\"size\":10,\"solidity\":0.2},\"type\":\"scatter\"}],\"parcoords\":[{\"type\":\"parcoords\",\"line\":{\"colorbar\":{\"outlinewidth\":0,\"ticks\":\"\"}}}],\"scatterpolargl\":[{\"type\":\"scatterpolargl\",\"marker\":{\"colorbar\":{\"outlinewidth\":0,\"ticks\":\"\"}}}],\"bar\":[{\"error_x\":{\"color\":\"#2a3f5f\"},\"error_y\":{\"color\":\"#2a3f5f\"},\"marker\":{\"line\":{\"color\":\"#E5ECF6\",\"width\":0.5},\"pattern\":{\"fillmode\":\"overlay\",\"size\":10,\"solidity\":0.2}},\"type\":\"bar\"}],\"scattergeo\":[{\"type\":\"scattergeo\",\"marker\":{\"colorbar\":{\"outlinewidth\":0,\"ticks\":\"\"}}}],\"scatterpolar\":[{\"type\":\"scatterpolar\",\"marker\":{\"colorbar\":{\"outlinewidth\":0,\"ticks\":\"\"}}}],\"histogram\":[{\"marker\":{\"pattern\":{\"fillmode\":\"overlay\",\"size\":10,\"solidity\":0.2}},\"type\":\"histogram\"}],\"scattergl\":[{\"type\":\"scattergl\",\"marker\":{\"colorbar\":{\"outlinewidth\":0,\"ticks\":\"\"}}}],\"scatter3d\":[{\"type\":\"scatter3d\",\"line\":{\"colorbar\":{\"outlinewidth\":0,\"ticks\":\"\"}},\"marker\":{\"colorbar\":{\"outlinewidth\":0,\"ticks\":\"\"}}}],\"scattermapbox\":[{\"type\":\"scattermapbox\",\"marker\":{\"colorbar\":{\"outlinewidth\":0,\"ticks\":\"\"}}}],\"scatterternary\":[{\"type\":\"scatterternary\",\"marker\":{\"colorbar\":{\"outlinewidth\":0,\"ticks\":\"\"}}}],\"scattercarpet\":[{\"type\":\"scattercarpet\",\"marker\":{\"colorbar\":{\"outlinewidth\":0,\"ticks\":\"\"}}}],\"carpet\":[{\"aaxis\":{\"endlinecolor\":\"#2a3f5f\",\"gridcolor\":\"white\",\"linecolor\":\"white\",\"minorgridcolor\":\"white\",\"startlinecolor\":\"#2a3f5f\"},\"baxis\":{\"endlinecolor\":\"#2a3f5f\",\"gridcolor\":\"white\",\"linecolor\":\"white\",\"minorgridcolor\":\"white\",\"startlinecolor\":\"#2a3f5f\"},\"type\":\"carpet\"}],\"table\":[{\"cells\":{\"fill\":{\"color\":\"#EBF0F8\"},\"line\":{\"color\":\"white\"}},\"header\":{\"fill\":{\"color\":\"#C8D4E3\"},\"line\":{\"color\":\"white\"}},\"type\":\"table\"}],\"barpolar\":[{\"marker\":{\"line\":{\"color\":\"#E5ECF6\",\"width\":0.5},\"pattern\":{\"fillmode\":\"overlay\",\"size\":10,\"solidity\":0.2}},\"type\":\"barpolar\"}],\"pie\":[{\"automargin\":true,\"type\":\"pie\"}]},\"layout\":{\"autotypenumbers\":\"strict\",\"colorway\":[\"#636efa\",\"#EF553B\",\"#00cc96\",\"#ab63fa\",\"#FFA15A\",\"#19d3f3\",\"#FF6692\",\"#B6E880\",\"#FF97FF\",\"#FECB52\"],\"font\":{\"color\":\"#2a3f5f\"},\"hovermode\":\"closest\",\"hoverlabel\":{\"align\":\"left\"},\"paper_bgcolor\":\"white\",\"plot_bgcolor\":\"#E5ECF6\",\"polar\":{\"bgcolor\":\"#E5ECF6\",\"angularaxis\":{\"gridcolor\":\"white\",\"linecolor\":\"white\",\"ticks\":\"\"},\"radialaxis\":{\"gridcolor\":\"white\",\"linecolor\":\"white\",\"ticks\":\"\"}},\"ternary\":{\"bgcolor\":\"#E5ECF6\",\"aaxis\":{\"gridcolor\":\"white\",\"linecolor\":\"white\",\"ticks\":\"\"},\"baxis\":{\"gridcolor\":\"white\",\"linecolor\":\"white\",\"ticks\":\"\"},\"caxis\":{\"gridcolor\":\"white\",\"linecolor\":\"white\",\"ticks\":\"\"}},\"coloraxis\":{\"colorbar\":{\"outlinewidth\":0,\"ticks\":\"\"}},\"colorscale\":{\"sequential\":[[0.0,\"#0d0887\"],[0.1111111111111111,\"#46039f\"],[0.2222222222222222,\"#7201a8\"],[0.3333333333333333,\"#9c179e\"],[0.4444444444444444,\"#bd3786\"],[0.5555555555555556,\"#d8576b\"],[0.6666666666666666,\"#ed7953\"],[0.7777777777777778,\"#fb9f3a\"],[0.8888888888888888,\"#fdca26\"],[1.0,\"#f0f921\"]],\"sequentialminus\":[[0.0,\"#0d0887\"],[0.1111111111111111,\"#46039f\"],[0.2222222222222222,\"#7201a8\"],[0.3333333333333333,\"#9c179e\"],[0.4444444444444444,\"#bd3786\"],[0.5555555555555556,\"#d8576b\"],[0.6666666666666666,\"#ed7953\"],[0.7777777777777778,\"#fb9f3a\"],[0.8888888888888888,\"#fdca26\"],[1.0,\"#f0f921\"]],\"diverging\":[[0,\"#8e0152\"],[0.1,\"#c51b7d\"],[0.2,\"#de77ae\"],[0.3,\"#f1b6da\"],[0.4,\"#fde0ef\"],[0.5,\"#f7f7f7\"],[0.6,\"#e6f5d0\"],[0.7,\"#b8e186\"],[0.8,\"#7fbc41\"],[0.9,\"#4d9221\"],[1,\"#276419\"]]},\"xaxis\":{\"gridcolor\":\"white\",\"linecolor\":\"white\",\"ticks\":\"\",\"title\":{\"standoff\":15},\"zerolinecolor\":\"white\",\"automargin\":true,\"zerolinewidth\":2},\"yaxis\":{\"gridcolor\":\"white\",\"linecolor\":\"white\",\"ticks\":\"\",\"title\":{\"standoff\":15},\"zerolinecolor\":\"white\",\"automargin\":true,\"zerolinewidth\":2},\"scene\":{\"xaxis\":{\"backgroundcolor\":\"#E5ECF6\",\"gridcolor\":\"white\",\"linecolor\":\"white\",\"showbackground\":true,\"ticks\":\"\",\"zerolinecolor\":\"white\",\"gridwidth\":2},\"yaxis\":{\"backgroundcolor\":\"#E5ECF6\",\"gridcolor\":\"white\",\"linecolor\":\"white\",\"showbackground\":true,\"ticks\":\"\",\"zerolinecolor\":\"white\",\"gridwidth\":2},\"zaxis\":{\"backgroundcolor\":\"#E5ECF6\",\"gridcolor\":\"white\",\"linecolor\":\"white\",\"showbackground\":true,\"ticks\":\"\",\"zerolinecolor\":\"white\",\"gridwidth\":2}},\"shapedefaults\":{\"line\":{\"color\":\"#2a3f5f\"}},\"annotationdefaults\":{\"arrowcolor\":\"#2a3f5f\",\"arrowhead\":0,\"arrowwidth\":1},\"geo\":{\"bgcolor\":\"white\",\"landcolor\":\"#E5ECF6\",\"subunitcolor\":\"white\",\"showland\":true,\"showlakes\":true,\"lakecolor\":\"white\"},\"title\":{\"x\":0.05},\"mapbox\":{\"style\":\"light\"}}},\"xaxis\":{\"anchor\":\"y\",\"domain\":[0.0,1.0],\"title\":{\"text\":\"importance\"}},\"yaxis\":{\"anchor\":\"x\",\"domain\":[0.0,1.0],\"title\":{\"text\":\"gene\"},\"tickfont\":{\"size\":7}},\"legend\":{\"tracegroupgap\":0},\"title\":{\"text\":\"75 features\"},\"barmode\":\"relative\",\"height\":1600,\"width\":1000},                        {\"responsive\": true}                    ).then(function(){\n",
       "                            \n",
       "var gd = document.getElementById('6f019c4d-23fb-43b5-962a-2d4271fb3a1a');\n",
       "var x = new MutationObserver(function (mutations, observer) {{\n",
       "        var display = window.getComputedStyle(gd).display;\n",
       "        if (!display || display === 'none') {{\n",
       "            console.log([gd, 'removed!']);\n",
       "            Plotly.purge(gd);\n",
       "            observer.disconnect();\n",
       "        }}\n",
       "}});\n",
       "\n",
       "// Listen for the removal of the full notebook cells\n",
       "var notebookContainer = gd.closest('#notebook-container');\n",
       "if (notebookContainer) {{\n",
       "    x.observe(notebookContainer, {childList: true});\n",
       "}}\n",
       "\n",
       "// Listen for the clearing of the current output cell\n",
       "var outputEl = gd.closest('.output');\n",
       "if (outputEl) {{\n",
       "    x.observe(outputEl, {childList: true});\n",
       "}}\n",
       "\n",
       "                        })                };                });            </script>        </div>"
      ]
     },
     "metadata": {},
     "output_type": "display_data"
    }
   ],
   "source": [
    "plot_features(\n",
    "    PhenotypeFeatureScorer(clf_mission, clf_strain).get_features(top_k=500, ignore_zeros=True)\n",
    ")"
   ]
  },
  {
   "cell_type": "code",
   "execution_count": null,
   "id": "9ec47f4a",
   "metadata": {},
   "outputs": [],
   "source": []
  }
 ],
 "metadata": {
  "kernelspec": {
   "display_name": "Python 3 (ipykernel)",
   "language": "python",
   "name": "python3"
  },
  "language_info": {
   "codemirror_mode": {
    "name": "ipython",
    "version": 3
   },
   "file_extension": ".py",
   "mimetype": "text/x-python",
   "name": "python",
   "nbconvert_exporter": "python",
   "pygments_lexer": "ipython3",
   "version": "3.9.11"
  }
 },
 "nbformat": 4,
 "nbformat_minor": 5
}
