{
 "cells": [
  {
   "cell_type": "code",
   "execution_count": 1,
   "id": "bc9e4454",
   "metadata": {},
   "outputs": [],
   "source": [
    "%reload_ext autoreload\n",
    "%autoreload 2"
   ]
  },
  {
   "cell_type": "code",
   "execution_count": 2,
   "id": "617429cb",
   "metadata": {},
   "outputs": [],
   "source": [
    "import numpy as np\n",
    "import pandas as pd\n",
    "import matplotlib.pyplot as plt\n",
    "import seaborn as sns\n",
    "import plotly.express as px\n",
    "\n",
    "import random\n",
    "\n",
    "%matplotlib inline"
   ]
  },
  {
   "cell_type": "code",
   "execution_count": 3,
   "id": "2d21a78a",
   "metadata": {},
   "outputs": [],
   "source": [
    "import sys\n",
    "\n",
    "sys.path.append(\"./\")\n",
    "sys.path.append(\"../code/\")\n",
    "sys.path.append(\"./code/\")\n",
    "\n",
    "import time"
   ]
  },
  {
   "cell_type": "code",
   "execution_count": 4,
   "id": "1115a527",
   "metadata": {},
   "outputs": [],
   "source": [
    "from typing import List, Tuple, Union"
   ]
  },
  {
   "cell_type": "code",
   "execution_count": 5,
   "id": "41452519",
   "metadata": {},
   "outputs": [],
   "source": [
    "from loguru import logger"
   ]
  },
  {
   "cell_type": "markdown",
   "id": "cb58ab98",
   "metadata": {},
   "source": [
    "# Data Loader"
   ]
  },
  {
   "cell_type": "code",
   "execution_count": 6,
   "id": "8656fa35",
   "metadata": {},
   "outputs": [],
   "source": [
    "from bps_numerical.preprocessing import merge_gene_phenotype, standardize_gene_data"
   ]
  },
  {
   "cell_type": "code",
   "execution_count": 7,
   "id": "427c905a",
   "metadata": {},
   "outputs": [],
   "source": [
    "CSV_GENE = \"/Users/nishparadox/dev/uah/nasa-impact/gene-experiments/data/OneDrive_1_3-21-2022/gen.csv\"\n",
    "\n",
    "CSV_PHENOTYPE = \"/Users/nishparadox/dev/uah/nasa-impact/gene-experiments/data/OneDrive_1_3-21-2022/meta.csv\""
   ]
  },
  {
   "cell_type": "code",
   "execution_count": 8,
   "id": "c0c53f72",
   "metadata": {},
   "outputs": [],
   "source": [
    "# df_merged = merge_gene_phenotype(standardize_gene_data(CSV_GENE), CSV_PHENOTYPE)"
   ]
  },
  {
   "cell_type": "code",
   "execution_count": 9,
   "id": "27063b15",
   "metadata": {},
   "outputs": [
    {
     "name": "stderr",
     "output_type": "stream",
     "text": [
      "2022-07-20 12:37:24.161 | INFO     | bps_numerical.preprocessing:standardize_gene_data:27 - Standardizing gene data into proper format.\n"
     ]
    }
   ],
   "source": [
    "df_genes = standardize_gene_data(CSV_GENE)"
   ]
  },
  {
   "cell_type": "code",
   "execution_count": 10,
   "id": "a71bcd0d",
   "metadata": {},
   "outputs": [
    {
     "data": {
      "text/html": [
       "<div>\n",
       "<style scoped>\n",
       "    .dataframe tbody tr th:only-of-type {\n",
       "        vertical-align: middle;\n",
       "    }\n",
       "\n",
       "    .dataframe tbody tr th {\n",
       "        vertical-align: top;\n",
       "    }\n",
       "\n",
       "    .dataframe thead th {\n",
       "        text-align: right;\n",
       "    }\n",
       "</style>\n",
       "<table border=\"1\" class=\"dataframe\">\n",
       "  <thead>\n",
       "    <tr style=\"text-align: right;\">\n",
       "      <th></th>\n",
       "      <th>Sample</th>\n",
       "      <th>ENSMUSG00000099250</th>\n",
       "      <th>ENSMUSG00000064339</th>\n",
       "      <th>ENSMUSG00000099021</th>\n",
       "      <th>ENSMUSG00000064351</th>\n",
       "      <th>ENSMUSG00000065037</th>\n",
       "      <th>ENSMUSG00000064337</th>\n",
       "      <th>ENSMUSG00000100862</th>\n",
       "      <th>ENSMUSG00000029368</th>\n",
       "      <th>ENSMUSG00000064370</th>\n",
       "      <th>...</th>\n",
       "      <th>ENSMUSG00000013367</th>\n",
       "      <th>ENSMUSG00000008153</th>\n",
       "      <th>ENSMUSG00000013083</th>\n",
       "      <th>ENSMUSG00000013155</th>\n",
       "      <th>ENSMUSG00000012819</th>\n",
       "      <th>ENSMUSG00000010307</th>\n",
       "      <th>ENSMUSG00000011837</th>\n",
       "      <th>ENSMUSG00000012889</th>\n",
       "      <th>ENSMUSG00000001642</th>\n",
       "      <th>ENSMUSG00000006019</th>\n",
       "    </tr>\n",
       "  </thead>\n",
       "  <tbody>\n",
       "    <tr>\n",
       "      <th>1</th>\n",
       "      <td>GLDS_242_Mmus_C57_6J_LVR_GC_C2_Rep4_G5</td>\n",
       "      <td>4.565105</td>\n",
       "      <td>4.486067</td>\n",
       "      <td>4.22359</td>\n",
       "      <td>4.137298</td>\n",
       "      <td>3.773993</td>\n",
       "      <td>3.86423</td>\n",
       "      <td>3.093246</td>\n",
       "      <td>4.149449</td>\n",
       "      <td>3.38502</td>\n",
       "      <td>...</td>\n",
       "      <td>-0.748711</td>\n",
       "      <td>0.514245</td>\n",
       "      <td>-0.834259</td>\n",
       "      <td>-0.637977</td>\n",
       "      <td>-1.04317</td>\n",
       "      <td>0.360869</td>\n",
       "      <td>0.374517</td>\n",
       "      <td>-0.665341</td>\n",
       "      <td>0.748225</td>\n",
       "      <td>0.347033</td>\n",
       "    </tr>\n",
       "    <tr>\n",
       "      <th>2</th>\n",
       "      <td>GLDS_48_Mmus_C57_6J_LVR_FLT_C_Rep2_M26</td>\n",
       "      <td>0.563454</td>\n",
       "      <td>3.140386</td>\n",
       "      <td>0.778641</td>\n",
       "      <td>4.384875</td>\n",
       "      <td>0.745577</td>\n",
       "      <td>3.01786</td>\n",
       "      <td>4.037345</td>\n",
       "      <td>4.180711</td>\n",
       "      <td>4.089054</td>\n",
       "      <td>...</td>\n",
       "      <td>-0.15882</td>\n",
       "      <td>0.151228</td>\n",
       "      <td>-1.032761</td>\n",
       "      <td>-0.42141</td>\n",
       "      <td>-1.151805</td>\n",
       "      <td>0.205813</td>\n",
       "      <td>0.746601</td>\n",
       "      <td>-0.813002</td>\n",
       "      <td>0.670417</td>\n",
       "      <td>0.730899</td>\n",
       "    </tr>\n",
       "    <tr>\n",
       "      <th>3</th>\n",
       "      <td>GLDS_168_Mmus_C57_6J_LVR_RR1_FLT_ERCC_Rep5_M30</td>\n",
       "      <td>3.968279</td>\n",
       "      <td>3.490494</td>\n",
       "      <td>3.984012</td>\n",
       "      <td>3.721062</td>\n",
       "      <td>3.526439</td>\n",
       "      <td>2.489441</td>\n",
       "      <td>2.644076</td>\n",
       "      <td>4.093958</td>\n",
       "      <td>2.904823</td>\n",
       "      <td>...</td>\n",
       "      <td>-0.599768</td>\n",
       "      <td>-0.157375</td>\n",
       "      <td>-1.130212</td>\n",
       "      <td>-0.677432</td>\n",
       "      <td>-1.094534</td>\n",
       "      <td>0.10989</td>\n",
       "      <td>0.389537</td>\n",
       "      <td>-0.571371</td>\n",
       "      <td>0.592057</td>\n",
       "      <td>0.711531</td>\n",
       "    </tr>\n",
       "    <tr>\n",
       "      <th>4</th>\n",
       "      <td>GLDS_168_Mmus_C57_6J_LVR_RR1_FLT_noERCC_Rep2_M26</td>\n",
       "      <td>3.980689</td>\n",
       "      <td>3.333291</td>\n",
       "      <td>3.988481</td>\n",
       "      <td>3.494274</td>\n",
       "      <td>3.49009</td>\n",
       "      <td>2.370999</td>\n",
       "      <td>2.394222</td>\n",
       "      <td>4.108144</td>\n",
       "      <td>2.68952</td>\n",
       "      <td>...</td>\n",
       "      <td>-0.739483</td>\n",
       "      <td>-0.103737</td>\n",
       "      <td>-1.071226</td>\n",
       "      <td>-0.535766</td>\n",
       "      <td>-1.029838</td>\n",
       "      <td>0.178408</td>\n",
       "      <td>0.361334</td>\n",
       "      <td>-0.453689</td>\n",
       "      <td>0.657613</td>\n",
       "      <td>0.623739</td>\n",
       "    </tr>\n",
       "    <tr>\n",
       "      <th>5</th>\n",
       "      <td>GLDS_245_Mmus_C57_6T_LVR_GC_LAR_Rep4_G5</td>\n",
       "      <td>4.991286</td>\n",
       "      <td>4.222969</td>\n",
       "      <td>4.533385</td>\n",
       "      <td>3.712087</td>\n",
       "      <td>4.184306</td>\n",
       "      <td>3.324107</td>\n",
       "      <td>2.698993</td>\n",
       "      <td>4.135948</td>\n",
       "      <td>2.888685</td>\n",
       "      <td>...</td>\n",
       "      <td>-0.592125</td>\n",
       "      <td>0.2066</td>\n",
       "      <td>-1.019552</td>\n",
       "      <td>-0.606019</td>\n",
       "      <td>-1.187632</td>\n",
       "      <td>0.356565</td>\n",
       "      <td>0.547004</td>\n",
       "      <td>-0.900965</td>\n",
       "      <td>0.880465</td>\n",
       "      <td>0.414951</td>\n",
       "    </tr>\n",
       "  </tbody>\n",
       "</table>\n",
       "<p>5 rows × 25001 columns</p>\n",
       "</div>"
      ],
      "text/plain": [
       "                                             Sample ENSMUSG00000099250  \\\n",
       "1            GLDS_242_Mmus_C57_6J_LVR_GC_C2_Rep4_G5           4.565105   \n",
       "2            GLDS_48_Mmus_C57_6J_LVR_FLT_C_Rep2_M26           0.563454   \n",
       "3    GLDS_168_Mmus_C57_6J_LVR_RR1_FLT_ERCC_Rep5_M30           3.968279   \n",
       "4  GLDS_168_Mmus_C57_6J_LVR_RR1_FLT_noERCC_Rep2_M26           3.980689   \n",
       "5           GLDS_245_Mmus_C57_6T_LVR_GC_LAR_Rep4_G5           4.991286   \n",
       "\n",
       "  ENSMUSG00000064339 ENSMUSG00000099021 ENSMUSG00000064351 ENSMUSG00000065037  \\\n",
       "1           4.486067            4.22359           4.137298           3.773993   \n",
       "2           3.140386           0.778641           4.384875           0.745577   \n",
       "3           3.490494           3.984012           3.721062           3.526439   \n",
       "4           3.333291           3.988481           3.494274            3.49009   \n",
       "5           4.222969           4.533385           3.712087           4.184306   \n",
       "\n",
       "  ENSMUSG00000064337 ENSMUSG00000100862 ENSMUSG00000029368 ENSMUSG00000064370  \\\n",
       "1            3.86423           3.093246           4.149449            3.38502   \n",
       "2            3.01786           4.037345           4.180711           4.089054   \n",
       "3           2.489441           2.644076           4.093958           2.904823   \n",
       "4           2.370999           2.394222           4.108144            2.68952   \n",
       "5           3.324107           2.698993           4.135948           2.888685   \n",
       "\n",
       "   ... ENSMUSG00000013367 ENSMUSG00000008153 ENSMUSG00000013083  \\\n",
       "1  ...          -0.748711           0.514245          -0.834259   \n",
       "2  ...           -0.15882           0.151228          -1.032761   \n",
       "3  ...          -0.599768          -0.157375          -1.130212   \n",
       "4  ...          -0.739483          -0.103737          -1.071226   \n",
       "5  ...          -0.592125             0.2066          -1.019552   \n",
       "\n",
       "  ENSMUSG00000013155 ENSMUSG00000012819 ENSMUSG00000010307 ENSMUSG00000011837  \\\n",
       "1          -0.637977           -1.04317           0.360869           0.374517   \n",
       "2           -0.42141          -1.151805           0.205813           0.746601   \n",
       "3          -0.677432          -1.094534            0.10989           0.389537   \n",
       "4          -0.535766          -1.029838           0.178408           0.361334   \n",
       "5          -0.606019          -1.187632           0.356565           0.547004   \n",
       "\n",
       "  ENSMUSG00000012889 ENSMUSG00000001642 ENSMUSG00000006019  \n",
       "1          -0.665341           0.748225           0.347033  \n",
       "2          -0.813002           0.670417           0.730899  \n",
       "3          -0.571371           0.592057           0.711531  \n",
       "4          -0.453689           0.657613           0.623739  \n",
       "5          -0.900965           0.880465           0.414951  \n",
       "\n",
       "[5 rows x 25001 columns]"
      ]
     },
     "execution_count": 10,
     "metadata": {},
     "output_type": "execute_result"
    }
   ],
   "source": [
    "df_genes.head()"
   ]
  },
  {
   "cell_type": "code",
   "execution_count": 11,
   "id": "c26f9391",
   "metadata": {},
   "outputs": [],
   "source": [
    "samples = df_genes.pop(\"Sample\")"
   ]
  },
  {
   "cell_type": "code",
   "execution_count": 12,
   "id": "3954bef2",
   "metadata": {},
   "outputs": [],
   "source": [
    "df_genes = df_genes.astype(float)"
   ]
  },
  {
   "cell_type": "code",
   "execution_count": 13,
   "id": "00e743a7",
   "metadata": {},
   "outputs": [
    {
     "data": {
      "text/plain": [
       "dtype('float64')"
      ]
     },
     "execution_count": 13,
     "metadata": {},
     "output_type": "execute_result"
    }
   ],
   "source": [
    "df_genes.iloc[0].dtype"
   ]
  },
  {
   "cell_type": "markdown",
   "id": "1e3bfc3a",
   "metadata": {},
   "source": [
    "# Feature Selection"
   ]
  },
  {
   "cell_type": "code",
   "execution_count": 14,
   "id": "b90d52a4",
   "metadata": {},
   "outputs": [],
   "source": [
    "from bps_numerical.clustering import CorrelationClusterer\n",
    "from bps_numerical.feature_selection import FirstFeatureSelector, KRandomizedFeatureSelector"
   ]
  },
  {
   "cell_type": "code",
   "execution_count": 15,
   "id": "c3a58e7f",
   "metadata": {},
   "outputs": [],
   "source": [
    "clusterer = CorrelationClusterer(\n",
    "    list(df_genes.columns),\n",
    "    cutoff_threshold=0.3,\n",
    "    debug=False\n",
    ")"
   ]
  },
  {
   "cell_type": "code",
   "execution_count": 16,
   "id": "b16e03e7",
   "metadata": {},
   "outputs": [],
   "source": [
    "fs = FirstFeatureSelector(clusterer=clusterer)\n",
    "fs = KRandomizedFeatureSelector(clusterer=clusterer, k_features=2)"
   ]
  },
  {
   "cell_type": "code",
   "execution_count": 17,
   "id": "4bccff0b",
   "metadata": {},
   "outputs": [
    {
     "name": "stderr",
     "output_type": "stream",
     "text": [
      "2022-07-20 12:48:04.509 | DEBUG    | bps_numerical.clustering:cluster:62 - Computing correlation for (6832, 25000)\n",
      "2022-07-20 12:48:21.400 | INFO     | bps_numerical.clustering:_cluster:111 - Clustering in progress...\n",
      "2022-07-20 12:48:41.035 | DEBUG    | bps_numerical.clustering:cluster:82 - Took 19.635257959365845 seconds to form 9268 clusters...\n"
     ]
    }
   ],
   "source": [
    "cols_genes = fs.select_features(df_genes)"
   ]
  },
  {
   "cell_type": "code",
   "execution_count": 18,
   "id": "0c7b45e5",
   "metadata": {},
   "outputs": [],
   "source": [
    "# cols_genes = list(df_genes.columns)"
   ]
  },
  {
   "cell_type": "code",
   "execution_count": 19,
   "id": "c943ea5c",
   "metadata": {},
   "outputs": [
    {
     "data": {
      "text/plain": [
       "11216"
      ]
     },
     "execution_count": 19,
     "metadata": {},
     "output_type": "execute_result"
    }
   ],
   "source": [
    "len(cols_genes)"
   ]
  },
  {
   "cell_type": "code",
   "execution_count": 20,
   "id": "03c820e4",
   "metadata": {},
   "outputs": [
    {
     "data": {
      "text/plain": [
       "['ENSMUSG00000055320',\n",
       " 'ENSMUSG00000115200',\n",
       " 'ENSMUSG00000049717',\n",
       " 'ENSMUSG00000025007',\n",
       " 'ENSMUSG00000016458',\n",
       " 'ENSMUSG00000020340',\n",
       " 'ENSMUSG00000044177',\n",
       " 'ENSMUSG00000111380',\n",
       " 'ENSMUSG00000087400',\n",
       " 'ENSMUSG00000087543']"
      ]
     },
     "execution_count": 20,
     "metadata": {},
     "output_type": "execute_result"
    }
   ],
   "source": [
    "cols_genes[:10]"
   ]
  },
  {
   "cell_type": "code",
   "execution_count": 21,
   "id": "d79e8f66",
   "metadata": {},
   "outputs": [],
   "source": [
    "# len(df_genes.columns)"
   ]
  },
  {
   "cell_type": "markdown",
   "id": "fd507d09",
   "metadata": {},
   "source": [
    "# Data Prep"
   ]
  },
  {
   "cell_type": "code",
   "execution_count": 22,
   "id": "5f15f109",
   "metadata": {},
   "outputs": [
    {
     "name": "stderr",
     "output_type": "stream",
     "text": [
      "2022-07-20 12:49:11.103 | INFO     | bps_numerical.preprocessing:merge_gene_phenotype:52 - Merging gene-phenotype dataframes...\n"
     ]
    }
   ],
   "source": [
    "df_merged = merge_gene_phenotype(\n",
    "    pd.concat([samples, df_genes[cols_genes]], axis=1),\n",
    "    CSV_PHENOTYPE,\n",
    "    \"Sample\",\n",
    ")"
   ]
  },
  {
   "cell_type": "code",
   "execution_count": 23,
   "id": "9039d9f7",
   "metadata": {},
   "outputs": [
    {
     "data": {
      "text/plain": [
       "(6832, 11229)"
      ]
     },
     "execution_count": 23,
     "metadata": {},
     "output_type": "execute_result"
    }
   ],
   "source": [
    "df_merged.shape"
   ]
  },
  {
   "cell_type": "code",
   "execution_count": 24,
   "id": "5ac6d994",
   "metadata": {},
   "outputs": [
    {
     "data": {
      "text/html": [
       "<div>\n",
       "<style scoped>\n",
       "    .dataframe tbody tr th:only-of-type {\n",
       "        vertical-align: middle;\n",
       "    }\n",
       "\n",
       "    .dataframe tbody tr th {\n",
       "        vertical-align: top;\n",
       "    }\n",
       "\n",
       "    .dataframe thead th {\n",
       "        text-align: right;\n",
       "    }\n",
       "</style>\n",
       "<table border=\"1\" class=\"dataframe\">\n",
       "  <thead>\n",
       "    <tr style=\"text-align: right;\">\n",
       "      <th></th>\n",
       "      <th>Sample</th>\n",
       "      <th>age</th>\n",
       "      <th>animalreturn</th>\n",
       "      <th>dataset</th>\n",
       "      <th>condition</th>\n",
       "      <th>duration</th>\n",
       "      <th>gender</th>\n",
       "      <th>libPrep</th>\n",
       "      <th>mission</th>\n",
       "      <th>preservation</th>\n",
       "      <th>...</th>\n",
       "      <th>ENSMUSG00000107841</th>\n",
       "      <th>ENSMUSG00000067722</th>\n",
       "      <th>ENSMUSG00000027859</th>\n",
       "      <th>ENSMUSG00000089990</th>\n",
       "      <th>ENSMUSG00000084067</th>\n",
       "      <th>ENSMUSG00000094551</th>\n",
       "      <th>ENSMUSG00000065770</th>\n",
       "      <th>ENSMUSG00000037259</th>\n",
       "      <th>ENSMUSG00000029372</th>\n",
       "      <th>ENSMUSG00000104927</th>\n",
       "    </tr>\n",
       "  </thead>\n",
       "  <tbody>\n",
       "    <tr>\n",
       "      <th>0</th>\n",
       "      <td>GLDS_242_Mmus_C57_6J_LVR_GC_C2_Rep4_G5</td>\n",
       "      <td>10</td>\n",
       "      <td>LAR</td>\n",
       "      <td>GLDS_242</td>\n",
       "      <td>GC</td>\n",
       "      <td>33</td>\n",
       "      <td>male</td>\n",
       "      <td>ribodepleted</td>\n",
       "      <td>RR9</td>\n",
       "      <td>immediate</td>\n",
       "      <td>...</td>\n",
       "      <td>-0.848108</td>\n",
       "      <td>1.024172</td>\n",
       "      <td>0.365140</td>\n",
       "      <td>-1.123242</td>\n",
       "      <td>-1.214940</td>\n",
       "      <td>-1.272680</td>\n",
       "      <td>-1.362091</td>\n",
       "      <td>-0.775916</td>\n",
       "      <td>0.017438</td>\n",
       "      <td>-1.180251</td>\n",
       "    </tr>\n",
       "    <tr>\n",
       "      <th>1</th>\n",
       "      <td>GLDS_48_Mmus_C57_6J_LVR_FLT_C_Rep2_M26</td>\n",
       "      <td>16</td>\n",
       "      <td>ISST</td>\n",
       "      <td>GLDS_48</td>\n",
       "      <td>FLT</td>\n",
       "      <td>37</td>\n",
       "      <td>female</td>\n",
       "      <td>polyA</td>\n",
       "      <td>RR1_NASA</td>\n",
       "      <td>carcass</td>\n",
       "      <td>...</td>\n",
       "      <td>-0.864303</td>\n",
       "      <td>1.180727</td>\n",
       "      <td>0.386947</td>\n",
       "      <td>-1.130186</td>\n",
       "      <td>-1.011914</td>\n",
       "      <td>-0.641275</td>\n",
       "      <td>-1.319513</td>\n",
       "      <td>-0.139219</td>\n",
       "      <td>-0.026540</td>\n",
       "      <td>-0.846743</td>\n",
       "    </tr>\n",
       "    <tr>\n",
       "      <th>2</th>\n",
       "      <td>GLDS_168_Mmus_C57_6J_LVR_RR1_FLT_ERCC_Rep5_M30</td>\n",
       "      <td>16</td>\n",
       "      <td>ISST</td>\n",
       "      <td>GLDS_168</td>\n",
       "      <td>FLT</td>\n",
       "      <td>37</td>\n",
       "      <td>female</td>\n",
       "      <td>ribodepleted</td>\n",
       "      <td>RR1_NASA</td>\n",
       "      <td>carcass</td>\n",
       "      <td>...</td>\n",
       "      <td>-0.942326</td>\n",
       "      <td>0.928198</td>\n",
       "      <td>0.125523</td>\n",
       "      <td>-1.180625</td>\n",
       "      <td>-1.196364</td>\n",
       "      <td>-0.819959</td>\n",
       "      <td>-1.256005</td>\n",
       "      <td>-0.166665</td>\n",
       "      <td>-0.271712</td>\n",
       "      <td>-1.008163</td>\n",
       "    </tr>\n",
       "    <tr>\n",
       "      <th>3</th>\n",
       "      <td>GLDS_168_Mmus_C57_6J_LVR_RR1_FLT_noERCC_Rep2_M26</td>\n",
       "      <td>16</td>\n",
       "      <td>ISST</td>\n",
       "      <td>GLDS_168</td>\n",
       "      <td>FLT</td>\n",
       "      <td>37</td>\n",
       "      <td>female</td>\n",
       "      <td>ribodepleted</td>\n",
       "      <td>RR1_NASA</td>\n",
       "      <td>carcass</td>\n",
       "      <td>...</td>\n",
       "      <td>-0.719939</td>\n",
       "      <td>0.936706</td>\n",
       "      <td>-0.024223</td>\n",
       "      <td>-1.120430</td>\n",
       "      <td>-1.059349</td>\n",
       "      <td>-1.076152</td>\n",
       "      <td>-1.302438</td>\n",
       "      <td>-0.267983</td>\n",
       "      <td>-0.243608</td>\n",
       "      <td>-0.997188</td>\n",
       "    </tr>\n",
       "    <tr>\n",
       "      <th>4</th>\n",
       "      <td>GLDS_245_Mmus_C57_6T_LVR_GC_LAR_Rep4_G5</td>\n",
       "      <td>32</td>\n",
       "      <td>LAR</td>\n",
       "      <td>GLDS_245</td>\n",
       "      <td>GC</td>\n",
       "      <td>29</td>\n",
       "      <td>female</td>\n",
       "      <td>ribodepleted</td>\n",
       "      <td>RR6</td>\n",
       "      <td>immediate</td>\n",
       "      <td>...</td>\n",
       "      <td>-0.917089</td>\n",
       "      <td>0.844935</td>\n",
       "      <td>0.531730</td>\n",
       "      <td>-0.961090</td>\n",
       "      <td>-1.200634</td>\n",
       "      <td>-1.096963</td>\n",
       "      <td>-1.215244</td>\n",
       "      <td>-0.178179</td>\n",
       "      <td>-0.029066</td>\n",
       "      <td>-0.969156</td>\n",
       "    </tr>\n",
       "  </tbody>\n",
       "</table>\n",
       "<p>5 rows × 11229 columns</p>\n",
       "</div>"
      ],
      "text/plain": [
       "                                             Sample  age animalreturn  \\\n",
       "0            GLDS_242_Mmus_C57_6J_LVR_GC_C2_Rep4_G5   10          LAR   \n",
       "1            GLDS_48_Mmus_C57_6J_LVR_FLT_C_Rep2_M26   16         ISST   \n",
       "2    GLDS_168_Mmus_C57_6J_LVR_RR1_FLT_ERCC_Rep5_M30   16         ISST   \n",
       "3  GLDS_168_Mmus_C57_6J_LVR_RR1_FLT_noERCC_Rep2_M26   16         ISST   \n",
       "4           GLDS_245_Mmus_C57_6T_LVR_GC_LAR_Rep4_G5   32          LAR   \n",
       "\n",
       "    dataset condition  duration  gender       libPrep   mission preservation  \\\n",
       "0  GLDS_242        GC        33    male  ribodepleted       RR9    immediate   \n",
       "1   GLDS_48       FLT        37  female         polyA  RR1_NASA      carcass   \n",
       "2  GLDS_168       FLT        37  female  ribodepleted  RR1_NASA      carcass   \n",
       "3  GLDS_168       FLT        37  female  ribodepleted  RR1_NASA      carcass   \n",
       "4  GLDS_245        GC        29  female  ribodepleted       RR6    immediate   \n",
       "\n",
       "   ... ENSMUSG00000107841 ENSMUSG00000067722 ENSMUSG00000027859  \\\n",
       "0  ...          -0.848108           1.024172           0.365140   \n",
       "1  ...          -0.864303           1.180727           0.386947   \n",
       "2  ...          -0.942326           0.928198           0.125523   \n",
       "3  ...          -0.719939           0.936706          -0.024223   \n",
       "4  ...          -0.917089           0.844935           0.531730   \n",
       "\n",
       "   ENSMUSG00000089990  ENSMUSG00000084067  ENSMUSG00000094551  \\\n",
       "0           -1.123242           -1.214940           -1.272680   \n",
       "1           -1.130186           -1.011914           -0.641275   \n",
       "2           -1.180625           -1.196364           -0.819959   \n",
       "3           -1.120430           -1.059349           -1.076152   \n",
       "4           -0.961090           -1.200634           -1.096963   \n",
       "\n",
       "   ENSMUSG00000065770  ENSMUSG00000037259  ENSMUSG00000029372  \\\n",
       "0           -1.362091           -0.775916            0.017438   \n",
       "1           -1.319513           -0.139219           -0.026540   \n",
       "2           -1.256005           -0.166665           -0.271712   \n",
       "3           -1.302438           -0.267983           -0.243608   \n",
       "4           -1.215244           -0.178179           -0.029066   \n",
       "\n",
       "   ENSMUSG00000104927  \n",
       "0           -1.180251  \n",
       "1           -0.846743  \n",
       "2           -1.008163  \n",
       "3           -0.997188  \n",
       "4           -0.969156  \n",
       "\n",
       "[5 rows x 11229 columns]"
      ]
     },
     "execution_count": 24,
     "metadata": {},
     "output_type": "execute_result"
    }
   ],
   "source": [
    "df_merged.head()"
   ]
  },
  {
   "cell_type": "code",
   "execution_count": 25,
   "id": "8042fdc4",
   "metadata": {},
   "outputs": [
    {
     "data": {
      "text/plain": [
       "11216"
      ]
     },
     "execution_count": 25,
     "metadata": {},
     "output_type": "execute_result"
    }
   ],
   "source": [
    "len(cols_genes)"
   ]
  },
  {
   "cell_type": "markdown",
   "id": "5adedeb5",
   "metadata": {},
   "source": [
    "# Bulk Trainer\n",
    "\n",
    "Here we train in bulk and then unify feature sets. These features are then used in the downstream classification."
   ]
  },
  {
   "cell_type": "code",
   "execution_count": 27,
   "id": "10e4668c",
   "metadata": {},
   "outputs": [],
   "source": [
    "from bps_numerical.classification import (\n",
    "    SinglePhenotypeClassifier,\n",
    "    MultiPhenotypeIsolatedClassifier\n",
    ")\n",
    "from bps_numerical.classification.classifiers import BulkTrainer\n",
    "from bps_numerical.classification.feature_scorers import PhenotypeFeatureScorer, UnifiedFeatureScorer"
   ]
  },
  {
   "cell_type": "code",
   "execution_count": 29,
   "id": "aba171dc",
   "metadata": {},
   "outputs": [],
   "source": [
    "clf_condition = SinglePhenotypeClassifier(cols_genes, \"condition\")\n",
    "clf_strain = SinglePhenotypeClassifier(cols_genes, \"strain\")\n",
    "clf_gender = SinglePhenotypeClassifier(cols_genes, \"gender\")\n",
    "clf_mission = SinglePhenotypeClassifier(cols_genes, \"mission\")\n",
    "clf_animal_return = SinglePhenotypeClassifier(cols_genes, \"animalreturn\")\n",
    "\n",
    "multi_trainer = MultiPhenotypeIsolatedClassifier(\n",
    "    cols_genes=cols_genes,\n",
    "    classifiers=[\n",
    "        clf_condition,\n",
    "        clf_strain,\n",
    "    ],\n",
    "    debug=True,\n",
    ")\n",
    "\n",
    "bulk_trainer = BulkTrainer(\n",
    "    cols_genes=cols_genes,\n",
    "    classifiers=[multi_trainer],\n",
    "    n_runs=5,\n",
    ")"
   ]
  },
  {
   "cell_type": "code",
   "execution_count": 30,
   "id": "6934f547",
   "metadata": {},
   "outputs": [
    {
     "name": "stderr",
     "output_type": "stream",
     "text": [
      "  0%|                                                                                                                                                                  | 0/5 [00:00<?, ?it/s]\n",
      "  0%|                                                                                                                                                                  | 0/2 [00:00<?, ?it/s]\u001b[A2022-07-20 12:49:36.802 | INFO     | bps_numerical.classification.classifiers:train:321 - Training for phenotype=condition\n",
      "2022-07-20 12:49:36.805 | DEBUG    | bps_numerical.classification.classifiers:train:330 - Target phenotype stats:: FLT    2757\n",
      "GC     2708\n",
      "Name: condition, dtype: int64\n",
      "2022-07-20 12:49:36.806 | DEBUG    | bps_numerical.classification.classifiers:train:333 - n genes = 11216 || Labels -> ['condition_FLT', 'condition_GC']\n",
      "2022-07-20 12:50:22.655 | DEBUG    | bps_numerical.classification.classifiers:fit:72 - Training took 45.8493447303772 seconds.\n",
      "\n",
      " 50%|█████████████████████████████████████████████████████████████████████████████                                                                             | 1/2 [00:45<00:45, 45.97s/it]\u001b[A2022-07-20 12:50:22.773 | INFO     | bps_numerical.classification.classifiers:train:321 - Training for phenotype=strain\n",
      "2022-07-20 12:50:22.776 | DEBUG    | bps_numerical.classification.classifiers:train:330 - Target phenotype stats:: C57BL6J    2299\n",
      "C57BL6T    2182\n",
      "BALBcT      984\n",
      "Name: strain, dtype: int64\n",
      "2022-07-20 12:50:22.776 | DEBUG    | bps_numerical.classification.classifiers:train:333 - n genes = 11216 || Labels -> ['strain_BALBcT', 'strain_C57BL6J', 'strain_C57BL6T']\n",
      "2022-07-20 12:51:02.296 | DEBUG    | bps_numerical.classification.classifiers:fit:72 - Training took 39.519360065460205 seconds.\n",
      "\n",
      "100%|██████████████████████████████████████████████████████████████████████████████████████████████████████████████████████████████████████████████████████████| 2/2 [01:25<00:00, 42.80s/it]\u001b[A\n",
      " 20%|██████████████████████████████▊                                                                                                                           | 1/5 [01:25<05:43, 85.82s/it]\n",
      "  0%|                                                                                                                                                                  | 0/2 [00:00<?, ?it/s]\u001b[A2022-07-20 12:51:02.610 | INFO     | bps_numerical.classification.classifiers:train:321 - Training for phenotype=condition\n",
      "2022-07-20 12:51:02.612 | DEBUG    | bps_numerical.classification.classifiers:train:330 - Target phenotype stats:: FLT    2796\n",
      "GC     2669\n",
      "Name: condition, dtype: int64\n",
      "2022-07-20 12:51:02.612 | DEBUG    | bps_numerical.classification.classifiers:train:333 - n genes = 11216 || Labels -> ['condition_FLT', 'condition_GC']\n",
      "2022-07-20 12:51:47.726 | DEBUG    | bps_numerical.classification.classifiers:fit:72 - Training took 45.11280703544617 seconds.\n",
      "\n",
      " 50%|█████████████████████████████████████████████████████████████████████████████                                                                             | 1/2 [00:45<00:45, 45.23s/it]\u001b[A2022-07-20 12:51:47.839 | INFO     | bps_numerical.classification.classifiers:train:321 - Training for phenotype=strain\n",
      "2022-07-20 12:51:47.842 | DEBUG    | bps_numerical.classification.classifiers:train:330 - Target phenotype stats:: C57BL6J    2275\n",
      "C57BL6T    2216\n",
      "BALBcT      974\n",
      "Name: strain, dtype: int64\n",
      "2022-07-20 12:51:47.842 | DEBUG    | bps_numerical.classification.classifiers:train:333 - n genes = 11216 || Labels -> ['strain_BALBcT', 'strain_C57BL6J', 'strain_C57BL6T']\n",
      "2022-07-20 12:52:27.665 | DEBUG    | bps_numerical.classification.classifiers:fit:72 - Training took 39.82245683670044 seconds.\n",
      "\n",
      "100%|██████████████████████████████████████████████████████████████████████████████████████████████████████████████████████████████████████████████████████████| 2/2 [01:25<00:00, 42.59s/it]\u001b[A\n",
      " 40%|█████████████████████████████████████████████████████████████▌                                                                                            | 2/5 [02:51<04:16, 85.56s/it]\n",
      "  0%|                                                                                                                                                                  | 0/2 [00:00<?, ?it/s]\u001b[A2022-07-20 12:52:27.985 | INFO     | bps_numerical.classification.classifiers:train:321 - Training for phenotype=condition\n",
      "2022-07-20 12:52:27.987 | DEBUG    | bps_numerical.classification.classifiers:train:330 - Target phenotype stats:: FLT    2781\n",
      "GC     2684\n",
      "Name: condition, dtype: int64\n",
      "2022-07-20 12:52:27.987 | DEBUG    | bps_numerical.classification.classifiers:train:333 - n genes = 11216 || Labels -> ['condition_FLT', 'condition_GC']\n",
      "2022-07-20 12:53:13.612 | DEBUG    | bps_numerical.classification.classifiers:fit:72 - Training took 45.624109983444214 seconds.\n",
      "\n",
      " 50%|█████████████████████████████████████████████████████████████████████████████                                                                             | 1/2 [00:45<00:45, 45.74s/it]\u001b[A2022-07-20 12:53:13.722 | INFO     | bps_numerical.classification.classifiers:train:321 - Training for phenotype=strain\n",
      "2022-07-20 12:53:13.724 | DEBUG    | bps_numerical.classification.classifiers:train:330 - Target phenotype stats:: C57BL6J    2320\n",
      "C57BL6T    2187\n",
      "BALBcT      958\n",
      "Name: strain, dtype: int64\n",
      "2022-07-20 12:53:13.725 | DEBUG    | bps_numerical.classification.classifiers:train:333 - n genes = 11216 || Labels -> ['strain_BALBcT', 'strain_C57BL6J', 'strain_C57BL6T']\n",
      "2022-07-20 12:53:53.500 | DEBUG    | bps_numerical.classification.classifiers:fit:72 - Training took 39.77464723587036 seconds.\n",
      "/Users/nishparadox/dev/uah/nasa-impact/bps-numerical/venv/lib/python3.9/site-packages/sklearn/metrics/_classification.py:1327: UndefinedMetricWarning: Precision and F-score are ill-defined and being set to 0.0 in samples with no predicted labels. Use `zero_division` parameter to control this behavior.\n",
      "  _warn_prf(average, modifier, msg_start, len(result))\n",
      "\n",
      "100%|██████████████████████████████████████████████████████████████████████████████████████████████████████████████████████████████████████████████████████████| 2/2 [01:25<00:00, 42.82s/it]\u001b[A\n",
      " 60%|████████████████████████████████████████████████████████████████████████████████████████████▍                                                             | 3/5 [04:17<02:51, 85.69s/it]\n",
      "  0%|                                                                                                                                                                  | 0/2 [00:00<?, ?it/s]\u001b[A2022-07-20 12:53:53.822 | INFO     | bps_numerical.classification.classifiers:train:321 - Training for phenotype=condition\n",
      "2022-07-20 12:53:53.825 | DEBUG    | bps_numerical.classification.classifiers:train:330 - Target phenotype stats:: FLT    2798\n",
      "GC     2667\n",
      "Name: condition, dtype: int64\n",
      "2022-07-20 12:53:53.825 | DEBUG    | bps_numerical.classification.classifiers:train:333 - n genes = 11216 || Labels -> ['condition_FLT', 'condition_GC']\n",
      "2022-07-20 12:54:39.397 | DEBUG    | bps_numerical.classification.classifiers:fit:72 - Training took 45.571484088897705 seconds.\n",
      "\n",
      " 50%|█████████████████████████████████████████████████████████████████████████████                                                                             | 1/2 [00:45<00:45, 45.69s/it]\u001b[A2022-07-20 12:54:39.508 | INFO     | bps_numerical.classification.classifiers:train:321 - Training for phenotype=strain\n",
      "2022-07-20 12:54:39.511 | DEBUG    | bps_numerical.classification.classifiers:train:330 - Target phenotype stats:: C57BL6J    2293\n",
      "C57BL6T    2191\n",
      "BALBcT      981\n",
      "Name: strain, dtype: int64\n",
      "2022-07-20 12:54:39.511 | DEBUG    | bps_numerical.classification.classifiers:train:333 - n genes = 11216 || Labels -> ['strain_BALBcT', 'strain_C57BL6J', 'strain_C57BL6T']\n",
      "2022-07-20 12:55:20.803 | DEBUG    | bps_numerical.classification.classifiers:fit:72 - Training took 41.29176378250122 seconds.\n",
      "/Users/nishparadox/dev/uah/nasa-impact/bps-numerical/venv/lib/python3.9/site-packages/sklearn/metrics/_classification.py:1327: UndefinedMetricWarning: Precision and F-score are ill-defined and being set to 0.0 in samples with no predicted labels. Use `zero_division` parameter to control this behavior.\n",
      "  _warn_prf(average, modifier, msg_start, len(result))\n",
      "\n"
     ]
    },
    {
     "name": "stderr",
     "output_type": "stream",
     "text": [
      "100%|██████████████████████████████████████████████████████████████████████████████████████████████████████████████████████████████████████████████████████████| 2/2 [01:27<00:00, 43.55s/it]\u001b[A\n",
      " 80%|███████████████████████████████████████████████████████████████████████████████████████████████████████████████████████████▏                              | 4/5 [05:44<01:26, 86.32s/it]\n",
      "  0%|                                                                                                                                                                  | 0/2 [00:00<?, ?it/s]\u001b[A2022-07-20 12:55:21.138 | INFO     | bps_numerical.classification.classifiers:train:321 - Training for phenotype=condition\n",
      "2022-07-20 12:55:21.141 | DEBUG    | bps_numerical.classification.classifiers:train:330 - Target phenotype stats:: FLT    2777\n",
      "GC     2688\n",
      "Name: condition, dtype: int64\n",
      "2022-07-20 12:55:21.141 | DEBUG    | bps_numerical.classification.classifiers:train:333 - n genes = 11216 || Labels -> ['condition_FLT', 'condition_GC']\n",
      "2022-07-20 12:56:09.410 | DEBUG    | bps_numerical.classification.classifiers:fit:72 - Training took 48.26797914505005 seconds.\n",
      "\n",
      " 50%|█████████████████████████████████████████████████████████████████████████████                                                                             | 1/2 [00:48<00:48, 48.38s/it]\u001b[A2022-07-20 12:56:09.522 | INFO     | bps_numerical.classification.classifiers:train:321 - Training for phenotype=strain\n",
      "2022-07-20 12:56:09.525 | DEBUG    | bps_numerical.classification.classifiers:train:330 - Target phenotype stats:: C57BL6J    2301\n",
      "C57BL6T    2187\n",
      "BALBcT      977\n",
      "Name: strain, dtype: int64\n",
      "2022-07-20 12:56:09.526 | DEBUG    | bps_numerical.classification.classifiers:train:333 - n genes = 11216 || Labels -> ['strain_BALBcT', 'strain_C57BL6J', 'strain_C57BL6T']\n",
      "2022-07-20 12:56:51.705 | DEBUG    | bps_numerical.classification.classifiers:fit:72 - Training took 42.179051876068115 seconds.\n",
      "\n",
      "100%|██████████████████████████████████████████████████████████████████████████████████████████████████████████████████████████████████████████████████████████| 2/2 [01:30<00:00, 45.34s/it]\u001b[A\n",
      "100%|██████████████████████████████████████████████████████████████████████████████████████████████████████████████████████████████████████████████████████████| 5/5 [07:15<00:00, 87.05s/it]\n"
     ]
    }
   ],
   "source": [
    "results_bulk = bulk_trainer.train(df_merged)"
   ]
  },
  {
   "cell_type": "code",
   "execution_count": 32,
   "id": "26dfb368",
   "metadata": {},
   "outputs": [
    {
     "data": {
      "text/plain": [
       "5"
      ]
     },
     "execution_count": 32,
     "metadata": {},
     "output_type": "execute_result"
    }
   ],
   "source": [
    "len(results_bulk)"
   ]
  },
  {
   "cell_type": "code",
   "execution_count": 34,
   "id": "091260da",
   "metadata": {},
   "outputs": [
    {
     "data": {
      "text/plain": [
       "[[{'condition': {'labels': ['condition_FLT', 'condition_GC'],\n",
       "    'train_score': 1.0,\n",
       "    'test_score': 0.9992684711046086,\n",
       "    'confusion_matrix': array([[720,   0],\n",
       "           [  1, 646]]),\n",
       "    'classification_report': {'condition_FLT': {'precision': 0.9986130374479889,\n",
       "      'recall': 1.0,\n",
       "      'f1-score': 0.9993060374739764,\n",
       "      'support': 720},\n",
       "     'condition_GC': {'precision': 1.0,\n",
       "      'recall': 0.9984544049459042,\n",
       "      'f1-score': 0.9992266047950503,\n",
       "      'support': 647},\n",
       "     'micro avg': {'precision': 0.9992684711046086,\n",
       "      'recall': 0.9992684711046086,\n",
       "      'f1-score': 0.9992684711046086,\n",
       "      'support': 1367},\n",
       "     'macro avg': {'precision': 0.9993065187239945,\n",
       "      'recall': 0.999227202472952,\n",
       "      'f1-score': 0.9992663211345134,\n",
       "      'support': 1367},\n",
       "     'weighted avg': {'precision': 0.9992694857077923,\n",
       "      'recall': 0.9992684711046086,\n",
       "      'f1-score': 0.9992684420509588,\n",
       "      'support': 1367},\n",
       "     'samples avg': {'precision': 0.9992684711046086,\n",
       "      'recall': 0.9992684711046086,\n",
       "      'f1-score': 0.9992684711046086,\n",
       "      'support': 1367}}},\n",
       "   'strain': {'labels': ['strain_BALBcT', 'strain_C57BL6J', 'strain_C57BL6T'],\n",
       "    'train_score': 1.0,\n",
       "    'test_score': 1.0,\n",
       "    'confusion_matrix': array([[236,   0,   0],\n",
       "           [  0, 568,   0],\n",
       "           [  0,   0, 563]]),\n",
       "    'classification_report': {'strain_BALBcT': {'precision': 1.0,\n",
       "      'recall': 1.0,\n",
       "      'f1-score': 1.0,\n",
       "      'support': 236},\n",
       "     'strain_C57BL6J': {'precision': 1.0,\n",
       "      'recall': 1.0,\n",
       "      'f1-score': 1.0,\n",
       "      'support': 568},\n",
       "     'strain_C57BL6T': {'precision': 1.0,\n",
       "      'recall': 1.0,\n",
       "      'f1-score': 1.0,\n",
       "      'support': 563},\n",
       "     'micro avg': {'precision': 1.0,\n",
       "      'recall': 1.0,\n",
       "      'f1-score': 1.0,\n",
       "      'support': 1367},\n",
       "     'macro avg': {'precision': 1.0,\n",
       "      'recall': 1.0,\n",
       "      'f1-score': 1.0,\n",
       "      'support': 1367},\n",
       "     'weighted avg': {'precision': 1.0,\n",
       "      'recall': 1.0,\n",
       "      'f1-score': 1.0,\n",
       "      'support': 1367},\n",
       "     'samples avg': {'precision': 1.0,\n",
       "      'recall': 1.0,\n",
       "      'f1-score': 1.0,\n",
       "      'support': 1367}}}}],\n",
       " [{'condition': {'labels': ['condition_FLT', 'condition_GC'],\n",
       "    'train_score': 1.0,\n",
       "    'test_score': 1.0,\n",
       "    'confusion_matrix': array([[681,   0],\n",
       "           [  0, 686]]),\n",
       "    'classification_report': {'condition_FLT': {'precision': 1.0,\n",
       "      'recall': 1.0,\n",
       "      'f1-score': 1.0,\n",
       "      'support': 681},\n",
       "     'condition_GC': {'precision': 1.0,\n",
       "      'recall': 1.0,\n",
       "      'f1-score': 1.0,\n",
       "      'support': 686},\n",
       "     'micro avg': {'precision': 1.0,\n",
       "      'recall': 1.0,\n",
       "      'f1-score': 1.0,\n",
       "      'support': 1367},\n",
       "     'macro avg': {'precision': 1.0,\n",
       "      'recall': 1.0,\n",
       "      'f1-score': 1.0,\n",
       "      'support': 1367},\n",
       "     'weighted avg': {'precision': 1.0,\n",
       "      'recall': 1.0,\n",
       "      'f1-score': 1.0,\n",
       "      'support': 1367},\n",
       "     'samples avg': {'precision': 1.0,\n",
       "      'recall': 1.0,\n",
       "      'f1-score': 1.0,\n",
       "      'support': 1367}}},\n",
       "   'strain': {'labels': ['strain_BALBcT', 'strain_C57BL6J', 'strain_C57BL6T'],\n",
       "    'train_score': 1.0,\n",
       "    'test_score': 1.0,\n",
       "    'confusion_matrix': array([[246,   0,   0],\n",
       "           [  0, 592,   0],\n",
       "           [  0,   0, 529]]),\n",
       "    'classification_report': {'strain_BALBcT': {'precision': 1.0,\n",
       "      'recall': 1.0,\n",
       "      'f1-score': 1.0,\n",
       "      'support': 246},\n",
       "     'strain_C57BL6J': {'precision': 1.0,\n",
       "      'recall': 1.0,\n",
       "      'f1-score': 1.0,\n",
       "      'support': 592},\n",
       "     'strain_C57BL6T': {'precision': 1.0,\n",
       "      'recall': 1.0,\n",
       "      'f1-score': 1.0,\n",
       "      'support': 529},\n",
       "     'micro avg': {'precision': 1.0,\n",
       "      'recall': 1.0,\n",
       "      'f1-score': 1.0,\n",
       "      'support': 1367},\n",
       "     'macro avg': {'precision': 1.0,\n",
       "      'recall': 1.0,\n",
       "      'f1-score': 1.0,\n",
       "      'support': 1367},\n",
       "     'weighted avg': {'precision': 1.0,\n",
       "      'recall': 1.0,\n",
       "      'f1-score': 1.0,\n",
       "      'support': 1367},\n",
       "     'samples avg': {'precision': 1.0,\n",
       "      'recall': 1.0,\n",
       "      'f1-score': 1.0,\n",
       "      'support': 1367}}}}],\n",
       " [{'condition': {'labels': ['condition_FLT', 'condition_GC'],\n",
       "    'train_score': 1.0,\n",
       "    'test_score': 1.0,\n",
       "    'confusion_matrix': array([[696,   0],\n",
       "           [  0, 671]]),\n",
       "    'classification_report': {'condition_FLT': {'precision': 1.0,\n",
       "      'recall': 1.0,\n",
       "      'f1-score': 1.0,\n",
       "      'support': 696},\n",
       "     'condition_GC': {'precision': 1.0,\n",
       "      'recall': 1.0,\n",
       "      'f1-score': 1.0,\n",
       "      'support': 671},\n",
       "     'micro avg': {'precision': 1.0,\n",
       "      'recall': 1.0,\n",
       "      'f1-score': 1.0,\n",
       "      'support': 1367},\n",
       "     'macro avg': {'precision': 1.0,\n",
       "      'recall': 1.0,\n",
       "      'f1-score': 1.0,\n",
       "      'support': 1367},\n",
       "     'weighted avg': {'precision': 1.0,\n",
       "      'recall': 1.0,\n",
       "      'f1-score': 1.0,\n",
       "      'support': 1367},\n",
       "     'samples avg': {'precision': 1.0,\n",
       "      'recall': 1.0,\n",
       "      'f1-score': 1.0,\n",
       "      'support': 1367}}},\n",
       "   'strain': {'labels': ['strain_BALBcT', 'strain_C57BL6J', 'strain_C57BL6T'],\n",
       "    'train_score': 1.0,\n",
       "    'test_score': 0.9992684711046086,\n",
       "    'confusion_matrix': array([[262,   0,   0],\n",
       "           [  0, 547,   0],\n",
       "           [  1,   0, 557]]),\n",
       "    'classification_report': {'strain_BALBcT': {'precision': 1.0,\n",
       "      'recall': 1.0,\n",
       "      'f1-score': 1.0,\n",
       "      'support': 262},\n",
       "     'strain_C57BL6J': {'precision': 1.0,\n",
       "      'recall': 1.0,\n",
       "      'f1-score': 1.0,\n",
       "      'support': 547},\n",
       "     'strain_C57BL6T': {'precision': 1.0,\n",
       "      'recall': 0.9982078853046595,\n",
       "      'f1-score': 0.9991031390134528,\n",
       "      'support': 558},\n",
       "     'micro avg': {'precision': 1.0,\n",
       "      'recall': 0.9992684711046086,\n",
       "      'f1-score': 0.999634101719722,\n",
       "      'support': 1367},\n",
       "     'macro avg': {'precision': 1.0,\n",
       "      'recall': 0.9994026284348866,\n",
       "      'f1-score': 0.9997010463378176,\n",
       "      'support': 1367},\n",
       "     'weighted avg': {'precision': 1.0,\n",
       "      'recall': 0.9992684711046086,\n",
       "      'f1-score': 0.999633907512441,\n",
       "      'support': 1367},\n",
       "     'samples avg': {'precision': 0.9992684711046086,\n",
       "      'recall': 0.9992684711046086,\n",
       "      'f1-score': 0.9992684711046086,\n",
       "      'support': 1367}}}}],\n",
       " [{'condition': {'labels': ['condition_FLT', 'condition_GC'],\n",
       "    'train_score': 1.0,\n",
       "    'test_score': 0.9992684711046086,\n",
       "    'confusion_matrix': array([[678,   1],\n",
       "           [  0, 688]]),\n",
       "    'classification_report': {'condition_FLT': {'precision': 1.0,\n",
       "      'recall': 0.9985272459499264,\n",
       "      'f1-score': 0.9992630803242447,\n",
       "      'support': 679},\n",
       "     'condition_GC': {'precision': 0.9985486211901307,\n",
       "      'recall': 1.0,\n",
       "      'f1-score': 0.9992737835875091,\n",
       "      'support': 688},\n",
       "     'micro avg': {'precision': 0.9992684711046086,\n",
       "      'recall': 0.9992684711046086,\n",
       "      'f1-score': 0.9992684711046086,\n",
       "      'support': 1367},\n",
       "     'macro avg': {'precision': 0.9992743105950653,\n",
       "      'recall': 0.9992636229749632,\n",
       "      'f1-score': 0.9992684319558769,\n",
       "      'support': 1367},\n",
       "     'weighted avg': {'precision': 0.9992695328301462,\n",
       "      'recall': 0.9992684711046086,\n",
       "      'f1-score': 0.9992684671897354,\n",
       "      'support': 1367},\n",
       "     'samples avg': {'precision': 0.9992684711046086,\n",
       "      'recall': 0.9992684711046086,\n",
       "      'f1-score': 0.9992684711046086,\n",
       "      'support': 1367}}},\n",
       "   'strain': {'labels': ['strain_BALBcT', 'strain_C57BL6J', 'strain_C57BL6T'],\n",
       "    'train_score': 1.0,\n",
       "    'test_score': 0.9978054133138259,\n",
       "    'confusion_matrix': array([[239,   0,   0],\n",
       "           [  0, 574,   0],\n",
       "           [  3,   0, 551]]),\n",
       "    'classification_report': {'strain_BALBcT': {'precision': 1.0,\n",
       "      'recall': 1.0,\n",
       "      'f1-score': 1.0,\n",
       "      'support': 239},\n",
       "     'strain_C57BL6J': {'precision': 1.0,\n",
       "      'recall': 1.0,\n",
       "      'f1-score': 1.0,\n",
       "      'support': 574},\n",
       "     'strain_C57BL6T': {'precision': 1.0,\n",
       "      'recall': 0.9945848375451264,\n",
       "      'f1-score': 0.9972850678733033,\n",
       "      'support': 554},\n",
       "     'micro avg': {'precision': 1.0,\n",
       "      'recall': 0.9978054133138259,\n",
       "      'f1-score': 0.9989015012815818,\n",
       "      'support': 1367},\n",
       "     'macro avg': {'precision': 1.0,\n",
       "      'recall': 0.9981949458483754,\n",
       "      'f1-score': 0.9990950226244344,\n",
       "      'support': 1367},\n",
       "     'weighted avg': {'precision': 1.0,\n",
       "      'recall': 0.9978054133138259,\n",
       "      'f1-score': 0.9988997275799634,\n",
       "      'support': 1367},\n",
       "     'samples avg': {'precision': 0.9978054133138259,\n",
       "      'recall': 0.9978054133138259,\n",
       "      'f1-score': 0.9978054133138259,\n",
       "      'support': 1367}}}}],\n",
       " [{'condition': {'labels': ['condition_FLT', 'condition_GC'],\n",
       "    'train_score': 1.0,\n",
       "    'test_score': 1.0,\n",
       "    'confusion_matrix': array([[700,   0],\n",
       "           [  0, 667]]),\n",
       "    'classification_report': {'condition_FLT': {'precision': 1.0,\n",
       "      'recall': 1.0,\n",
       "      'f1-score': 1.0,\n",
       "      'support': 700},\n",
       "     'condition_GC': {'precision': 1.0,\n",
       "      'recall': 1.0,\n",
       "      'f1-score': 1.0,\n",
       "      'support': 667},\n",
       "     'micro avg': {'precision': 1.0,\n",
       "      'recall': 1.0,\n",
       "      'f1-score': 1.0,\n",
       "      'support': 1367},\n",
       "     'macro avg': {'precision': 1.0,\n",
       "      'recall': 1.0,\n",
       "      'f1-score': 1.0,\n",
       "      'support': 1367},\n",
       "     'weighted avg': {'precision': 1.0,\n",
       "      'recall': 1.0,\n",
       "      'f1-score': 1.0,\n",
       "      'support': 1367},\n",
       "     'samples avg': {'precision': 1.0,\n",
       "      'recall': 1.0,\n",
       "      'f1-score': 1.0,\n",
       "      'support': 1367}}},\n",
       "   'strain': {'labels': ['strain_BALBcT', 'strain_C57BL6J', 'strain_C57BL6T'],\n",
       "    'train_score': 1.0,\n",
       "    'test_score': 1.0,\n",
       "    'confusion_matrix': array([[243,   0,   0],\n",
       "           [  0, 566,   0],\n",
       "           [  0,   0, 558]]),\n",
       "    'classification_report': {'strain_BALBcT': {'precision': 1.0,\n",
       "      'recall': 1.0,\n",
       "      'f1-score': 1.0,\n",
       "      'support': 243},\n",
       "     'strain_C57BL6J': {'precision': 1.0,\n",
       "      'recall': 1.0,\n",
       "      'f1-score': 1.0,\n",
       "      'support': 566},\n",
       "     'strain_C57BL6T': {'precision': 1.0,\n",
       "      'recall': 1.0,\n",
       "      'f1-score': 1.0,\n",
       "      'support': 558},\n",
       "     'micro avg': {'precision': 1.0,\n",
       "      'recall': 1.0,\n",
       "      'f1-score': 1.0,\n",
       "      'support': 1367},\n",
       "     'macro avg': {'precision': 1.0,\n",
       "      'recall': 1.0,\n",
       "      'f1-score': 1.0,\n",
       "      'support': 1367},\n",
       "     'weighted avg': {'precision': 1.0,\n",
       "      'recall': 1.0,\n",
       "      'f1-score': 1.0,\n",
       "      'support': 1367},\n",
       "     'samples avg': {'precision': 1.0,\n",
       "      'recall': 1.0,\n",
       "      'f1-score': 1.0,\n",
       "      'support': 1367}}}}]]"
      ]
     },
     "execution_count": 34,
     "metadata": {},
     "output_type": "execute_result"
    }
   ],
   "source": [
    "results_bulk"
   ]
  },
  {
   "cell_type": "code",
   "execution_count": 35,
   "id": "d0a146a8",
   "metadata": {},
   "outputs": [
    {
     "data": {
      "text/plain": [
       "(bps_numerical.classification.classifiers.MultiPhenotypeIsolatedClassifier,\n",
       " <bps_numerical.classification.classifiers.MultiPhenotypeIsolatedClassifier at 0x300e02400>)"
      ]
     },
     "execution_count": 35,
     "metadata": {},
     "output_type": "execute_result"
    }
   ],
   "source": [
    "type(bulk_trainer.classifiers[0][0]), bulk_trainer.classifiers[0][0]"
   ]
  },
  {
   "cell_type": "code",
   "execution_count": 42,
   "id": "42fe18c1",
   "metadata": {},
   "outputs": [
    {
     "data": {
      "text/plain": [
       "[('ENSMUSG00000115767', 0.012971930438652635),\n",
       " ('ENSMUSG00000085148', 0.005460385931655765),\n",
       " ('ENSMUSG00000020340', 0.00026181925568380393)]"
      ]
     },
     "execution_count": 42,
     "metadata": {},
     "output_type": "execute_result"
    }
   ],
   "source": [
    "PhenotypeFeatureScorer(\n",
    "    bulk_trainer.classifiers[1][0]\n",
    ").get_features(\n",
    "    top_k=500,\n",
    "    ignore_zeros=True,\n",
    "    normalize=True\n",
    ")"
   ]
  },
  {
   "cell_type": "code",
   "execution_count": 66,
   "id": "4ed6e184",
   "metadata": {},
   "outputs": [
    {
     "data": {
      "text/plain": [
       "[('ENSMUSG00000020340', 0.0008434034116362454),\n",
       " ('ENSMUSG00000028540', 0.007964181946590543),\n",
       " ('ENSMUSG00000028864', 0.015690930653363466),\n",
       " ('ENSMUSG00000049717', 0.008011775091290474),\n",
       " ('ENSMUSG00000055320', 0.0017011471863952465),\n",
       " ('ENSMUSG00000085148', 0.005460385931655765),\n",
       " ('ENSMUSG00000095280', 0.0091994924005121),\n",
       " ('ENSMUSG00000095771', 0.0037970044650137424),\n",
       " ('ENSMUSG00000098013', 0.02343968825880438),\n",
       " ('ENSMUSG00000105361', 0.009157964228506899),\n",
       " ('ENSMUSG00000114479', 0.0052322885021567345),\n",
       " ('ENSMUSG00000115200', 0.007245425600558519),\n",
       " ('ENSMUSG00000115767', 0.024832588736899197)]"
      ]
     },
     "execution_count": 66,
     "metadata": {},
     "output_type": "execute_result"
    }
   ],
   "source": [
    "feature_scores = UnifiedFeatureScorer(bulk_trainer, debug=False).get_features(top_k=500)\n",
    "feature_scores"
   ]
  },
  {
   "cell_type": "code",
   "execution_count": 67,
   "id": "673c1e50",
   "metadata": {},
   "outputs": [],
   "source": [
    "# PhenotypeFeatureScorer(bulk_trainer, debug=True).get_features(\n",
    "#     top_k=500,\n",
    "#     ignore_zeros=True,\n",
    "#     normalize=True\n",
    "# )"
   ]
  },
  {
   "cell_type": "code",
   "execution_count": 68,
   "id": "cde645d8",
   "metadata": {},
   "outputs": [],
   "source": [
    "cols_genes_subset, _ = zip(*feature_scores)"
   ]
  },
  {
   "cell_type": "code",
   "execution_count": 75,
   "id": "34f04afa",
   "metadata": {},
   "outputs": [
    {
     "data": {
      "text/plain": [
       "('ENSMUSG00000020340',\n",
       " 'ENSMUSG00000028540',\n",
       " 'ENSMUSG00000028864',\n",
       " 'ENSMUSG00000049717',\n",
       " 'ENSMUSG00000055320',\n",
       " 'ENSMUSG00000085148',\n",
       " 'ENSMUSG00000095280',\n",
       " 'ENSMUSG00000095771',\n",
       " 'ENSMUSG00000098013',\n",
       " 'ENSMUSG00000105361',\n",
       " 'ENSMUSG00000114479',\n",
       " 'ENSMUSG00000115200',\n",
       " 'ENSMUSG00000115767')"
      ]
     },
     "execution_count": 75,
     "metadata": {},
     "output_type": "execute_result"
    }
   ],
   "source": [
    "cols_genes_subset"
   ]
  },
  {
   "cell_type": "markdown",
   "id": "7c5349d2",
   "metadata": {},
   "source": [
    "# Ranker\n",
    "\n",
    "To further narrow down the gene space, we could train N different isolated classifiers for a specific\n",
    "phenotype and then use those genes for training only that phenotype later."
   ]
  },
  {
   "cell_type": "code",
   "execution_count": null,
   "id": "2ba9ab2f",
   "metadata": {},
   "outputs": [],
   "source": [
    "from bps_numerical.classification.feature_scorers import GeneRanker"
   ]
  },
  {
   "cell_type": "code",
   "execution_count": null,
   "id": "8191a5a1",
   "metadata": {},
   "outputs": [],
   "source": [
    "ranker = GeneRanker(\n",
    "    cols_genes, \n",
    "    phenotype=\"condition\",\n",
    "    n_runs = 5,\n",
    "    debug=True,\n",
    ")"
   ]
  },
  {
   "cell_type": "code",
   "execution_count": null,
   "id": "d2040066",
   "metadata": {
    "scrolled": false
   },
   "outputs": [],
   "source": [
    "features = ranker.get_features(df_merged, test_size=0.2, top_k=500, ignore_zeros=True, normalize=True)"
   ]
  },
  {
   "cell_type": "code",
   "execution_count": null,
   "id": "6ed89d81",
   "metadata": {},
   "outputs": [],
   "source": [
    "len(features)"
   ]
  },
  {
   "cell_type": "code",
   "execution_count": null,
   "id": "2740c8ab",
   "metadata": {},
   "outputs": [],
   "source": [
    "fts, _ = zip(*features)\n",
    "fts"
   ]
  },
  {
   "cell_type": "markdown",
   "id": "0bec9258",
   "metadata": {},
   "source": [
    "# Trainer"
   ]
  },
  {
   "cell_type": "code",
   "execution_count": null,
   "id": "79472d6a",
   "metadata": {},
   "outputs": [],
   "source": [
    "# single phenotype\n",
    "\n",
    "# model = xgboost.XGBClassifier()\n",
    "clf = SinglePhenotypeClassifier(\n",
    "    cols_genes=cols_genes,\n",
    "    phenotype=\"condition\",\n",
    "#     model = model\n",
    ")"
   ]
  },
  {
   "cell_type": "code",
   "execution_count": null,
   "id": "dac5e2f4",
   "metadata": {},
   "outputs": [],
   "source": [
    "# tracker_single = clf.train(df_merged)"
   ]
  },
  {
   "cell_type": "code",
   "execution_count": null,
   "id": "b5f15f9b",
   "metadata": {},
   "outputs": [],
   "source": [
    "# tracker_single"
   ]
  },
  {
   "cell_type": "markdown",
   "id": "df3bbdb5",
   "metadata": {},
   "source": [
    "# Multiple phenotypes"
   ]
  },
  {
   "cell_type": "code",
   "execution_count": null,
   "id": "224ea4d1",
   "metadata": {},
   "outputs": [],
   "source": [
    "clf_condition = SinglePhenotypeClassifier(cols_genes, \"condition\")\n",
    "clf_strain = SinglePhenotypeClassifier(cols_genes, \"strain\")\n",
    "# clf_gender = SinglePhenotypeClassifier(cols_genes, \"gender\")\n",
    "# clf_mission = SinglePhenotypeClassifier(cols_genes, \"mission\")\n",
    "# clf_animal_return = SinglePhenotypeClassifier(cols_genes, \"animalreturn\")\n",
    "trainer = MultiPhenotypeIsolatedClassifier(\n",
    "    cols_genes=cols_genes_subset,\n",
    "    classifiers=[\n",
    "        clf_condition,\n",
    "        clf_strain,\n",
    "    ],\n",
    "    debug=True,\n",
    ")"
   ]
  },
  {
   "cell_type": "code",
   "execution_count": null,
   "id": "8f85d337",
   "metadata": {},
   "outputs": [],
   "source": [
    "tracker_multi = trainer.train(df_merged)"
   ]
  },
  {
   "cell_type": "code",
   "execution_count": null,
   "id": "a6d8eee4",
   "metadata": {},
   "outputs": [],
   "source": [
    "tracker_multi"
   ]
  },
  {
   "cell_type": "code",
   "execution_count": null,
   "id": "18041a87",
   "metadata": {},
   "outputs": [],
   "source": [
    "tracker_multi[\"condition\"]"
   ]
  },
  {
   "cell_type": "markdown",
   "id": "6744524f",
   "metadata": {},
   "source": [
    "# Feature Scorer"
   ]
  },
  {
   "cell_type": "code",
   "execution_count": null,
   "id": "aa87c786",
   "metadata": {},
   "outputs": [],
   "source": [
    "from bps_numerical.classification.feature_scorers import PhenotypeFeatureScorer"
   ]
  },
  {
   "cell_type": "code",
   "execution_count": null,
   "id": "5dbe08ac",
   "metadata": {},
   "outputs": [],
   "source": [
    "for clf in trainer.classifiers:\n",
    "    print(clf.phenotype, len(PhenotypeFeatureScorer(clf).get_features(top_k=500, ignore_zeros=True)))"
   ]
  },
  {
   "cell_type": "code",
   "execution_count": null,
   "id": "8c78a6b3",
   "metadata": {
    "scrolled": false
   },
   "outputs": [],
   "source": [
    "PhenotypeFeatureScorer(clf).get_features(top_k=500, ignore_zeros=True, normalize=True)"
   ]
  },
  {
   "cell_type": "code",
   "execution_count": null,
   "id": "58331b4f",
   "metadata": {},
   "outputs": [],
   "source": [
    "len(PhenotypeFeatureScorer(trainer).get_features(top_k=500, ignore_zeros=False))"
   ]
  },
  {
   "cell_type": "code",
   "execution_count": null,
   "id": "222a564c",
   "metadata": {},
   "outputs": [],
   "source": [
    "# if we ignore 0-score features\n",
    "len(PhenotypeFeatureScorer(*trainer.classifiers).get_features(top_k=500, ignore_zeros=True))"
   ]
  },
  {
   "cell_type": "code",
   "execution_count": null,
   "id": "950ab8e1",
   "metadata": {},
   "outputs": [],
   "source": [
    "list(map(lambda f: f[0], PhenotypeFeatureScorer(clf_condition, clf_strain).get_features(top_k=500, ignore_zeros=True, normalize=True)))"
   ]
  },
  {
   "cell_type": "markdown",
   "id": "c31a8eb4",
   "metadata": {},
   "source": [
    "### permutation"
   ]
  },
  {
   "cell_type": "code",
   "execution_count": null,
   "id": "173001d4",
   "metadata": {},
   "outputs": [],
   "source": [
    "import itertools"
   ]
  },
  {
   "cell_type": "code",
   "execution_count": null,
   "id": "3cc48ad5",
   "metadata": {},
   "outputs": [],
   "source": [
    "def compute_permuted_scores(*classifiers, ignore_zeros: bool = True, top_k: int = 500):\n",
    "    def _powerset(items):\n",
    "        for sl in itertools.product(*[[[], [i]] for i in items]):\n",
    "            yield {j for i in sl for j in i}\n",
    "    \n",
    "    res = {}\n",
    "    for objs in _powerset(classifiers):\n",
    "        if len(objs) < 2:\n",
    "            continue\n",
    "        labels = tuple(map(lambda clf: clf.phenotype, objs))\n",
    "        res[labels] = PhenotypeFeatureScorer(*objs).get_features(top_k=top_k, ignore_zeros=ignore_zeros, normalize=True)\n",
    "    return res"
   ]
  },
  {
   "cell_type": "code",
   "execution_count": null,
   "id": "abdf0348",
   "metadata": {},
   "outputs": [],
   "source": [
    "permuted_ =  compute_permuted_scores(*trainer.classifiers, top_k=1000, ignore_zeros=True)"
   ]
  },
  {
   "cell_type": "code",
   "execution_count": null,
   "id": "2f6e8af2",
   "metadata": {},
   "outputs": [],
   "source": [
    "dict(map(lambda p: (p[0], (len(p[1]), p[1])), permuted_.items()))"
   ]
  },
  {
   "cell_type": "code",
   "execution_count": null,
   "id": "df5db177",
   "metadata": {},
   "outputs": [],
   "source": [
    "dict(map(lambda p: (p[0], len(p[1])), permuted_.items()))"
   ]
  },
  {
   "cell_type": "code",
   "execution_count": null,
   "id": "3380bccc",
   "metadata": {},
   "outputs": [],
   "source": []
  },
  {
   "cell_type": "markdown",
   "id": "2d4d9d85",
   "metadata": {},
   "source": [
    "# Plot Top features"
   ]
  },
  {
   "cell_type": "code",
   "execution_count": null,
   "id": "24105dc8",
   "metadata": {},
   "outputs": [],
   "source": [
    "def plot_features(features: List[Tuple[str, float]], view_slicer:int = 75):\n",
    "    df_top_k = pd.DataFrame(features[:view_slicer], columns=[\"gene\", \"importance\"])\n",
    "    fig = px.bar(\n",
    "        df_top_k,\n",
    "        x=\"importance\",\n",
    "        y=\"gene\",\n",
    "        title=f\"{view_slicer} features\",\n",
    "        orientation=\"h\",\n",
    "        height=1600,\n",
    "        width=1000,\n",
    "    #     text_auto=True,\n",
    "    )\n",
    "    # fig.update_traces(width=3)\n",
    "    fig.update_layout(yaxis = dict(tickfont = dict(size=7)))\n",
    "    fig.show()"
   ]
  },
  {
   "cell_type": "code",
   "execution_count": null,
   "id": "45e363e9",
   "metadata": {},
   "outputs": [],
   "source": [
    "plot_features(\n",
    "    PhenotypeFeatureScorer(clf_mission, clf_strain).get_features(top_k=500, ignore_zeros=True, normalize=True)\n",
    ")"
   ]
  },
  {
   "cell_type": "markdown",
   "id": "f3eeb454",
   "metadata": {},
   "source": [
    "# Ranking"
   ]
  },
  {
   "cell_type": "code",
   "execution_count": null,
   "id": "cf3ec147",
   "metadata": {},
   "outputs": [],
   "source": [
    "from typing import List, Tuple\n",
    "from tqdm import tqdm\n",
    "from pprint import pprint"
   ]
  },
  {
   "cell_type": "code",
   "execution_count": null,
   "id": "14dd5dbc",
   "metadata": {},
   "outputs": [],
   "source": [
    "from bps_numerical.classification import SinglePhenotypeClassifier, MultiPhenotypeIsolatedClassifier"
   ]
  },
  {
   "cell_type": "code",
   "execution_count": null,
   "id": "28efaf76",
   "metadata": {},
   "outputs": [],
   "source": [
    "from bps_numerical.classification.feature_scorers import PhenotypeFeatureScorer"
   ]
  },
  {
   "cell_type": "code",
   "execution_count": null,
   "id": "c936f9bc",
   "metadata": {},
   "outputs": [],
   "source": [
    "class GeneRanker:\n",
    "    def __init__(\n",
    "        self,\n",
    "        cols_genes: List[str],\n",
    "        phenotype: str,\n",
    "        n_runs: int = 3,\n",
    "        debug: bool = False\n",
    "    ) -> None:\n",
    "\n",
    "        self.classifiers=[\n",
    "            SinglePhenotypeClassifier(cols_genes=cols_genes, phenotype=phenotype, debug=debug)\n",
    "            for _ in range(n_runs)\n",
    "        ]\n",
    "        self.results = []\n",
    "        self.debug = debug\n",
    "        self.phenotype = phenotype\n",
    "    \n",
    "    def get_features(self, data: pd.DataFrame, test_size: float = 0.2, **kwargs) -> dict:\n",
    "        self.results = [clf.train(data, test_size) for clf in self.classifiers]\n",
    "        \n",
    "        ignore_zeros = kwargs.get(\"ignore_zeros\", True)\n",
    "        normalize = kwargs.get(\"normalize\", True)\n",
    "        top_k = kwargs.get(\"top_k\", 500)\n",
    "\n",
    "        if self.debug:\n",
    "            pprint(self.results)\n",
    "            self._debug_plot_hist(**kwargs)\n",
    "                \n",
    "        \n",
    "        return PhenotypeFeatureScorer(*self.classifiers).get_features(\n",
    "            top_k=top_k,\n",
    "            ignore_zeros=ignore_zeros,\n",
    "            normalize=normalize\n",
    "        )\n",
    "    \n",
    "    def _debug_plot_hist(self, **kwargs):\n",
    "        if not self.debug:\n",
    "            return\n",
    "        ignore_zeros = kwargs.get(\"ignore_zeros\", True)\n",
    "        normalize = kwargs.get(\"normalize\", True)\n",
    "        top_k = kwargs.get(\"top_k\", 500)\n",
    "        nfeatures = []\n",
    "        for clf in self.classifiers:\n",
    "            features = PhenotypeFeatureScorer(clf).get_features(\n",
    "                top_k=top_k,\n",
    "                ignore_zeros=ignore_zeros,\n",
    "                normalize=normalize\n",
    "            )\n",
    "            nfeatures.append(len(features))\n",
    "            logger.debug(f\"{clf.phenotype} | {len(features)}\")\n",
    "\n",
    "        _df_counter = pd.DataFrame(enumerate(nfeatures), columns=[\"run\", \"n_feature\"])\n",
    "        fig = px.bar(\n",
    "            _df_counter,\n",
    "            x=\"run\",\n",
    "            y=\"n_feature\",\n",
    "            title=f\"run vs n_feature for {self.phenotype}\",\n",
    "            text_auto=True,\n",
    "        )\n",
    "        fig.update_layout(yaxis = dict(tickfont = dict(size=kwargs.get(\"debug_font_size\", 7))))\n",
    "        fig.show()"
   ]
  },
  {
   "cell_type": "code",
   "execution_count": null,
   "id": "2b136deb",
   "metadata": {},
   "outputs": [],
   "source": [
    "ranker = GeneRanker(\n",
    "    cols_genes, \n",
    "    phenotype=\"condition\",\n",
    "    n_runs = 5,\n",
    "    debug=True,\n",
    ")"
   ]
  },
  {
   "cell_type": "code",
   "execution_count": null,
   "id": "88b825e6",
   "metadata": {
    "scrolled": false
   },
   "outputs": [],
   "source": [
    "results = ranker.rank_genes(df_merged)"
   ]
  },
  {
   "cell_type": "code",
   "execution_count": null,
   "id": "f1e9fba9",
   "metadata": {},
   "outputs": [],
   "source": [
    "# for clf in ranker.classifiers:\n",
    "#     print(clf.phenotype, len(PhenotypeFeatureScorer(clf).get_features(top_k=500, ignore_zeros=True)))"
   ]
  },
  {
   "cell_type": "code",
   "execution_count": null,
   "id": "989379d0",
   "metadata": {},
   "outputs": [],
   "source": [
    "# PhenotypeFeatureScorer(*ranker.classifiers).get_features(top_k=500, ignore_zeros=True, normalize=True)"
   ]
  },
  {
   "cell_type": "code",
   "execution_count": null,
   "id": "7297b146",
   "metadata": {},
   "outputs": [],
   "source": []
  },
  {
   "cell_type": "code",
   "execution_count": null,
   "id": "d4c4a543",
   "metadata": {},
   "outputs": [],
   "source": []
  },
  {
   "cell_type": "code",
   "execution_count": null,
   "id": "a77680ba",
   "metadata": {},
   "outputs": [],
   "source": []
  }
 ],
 "metadata": {
  "kernelspec": {
   "display_name": "Python 3 (ipykernel)",
   "language": "python",
   "name": "python3"
  },
  "language_info": {
   "codemirror_mode": {
    "name": "ipython",
    "version": 3
   },
   "file_extension": ".py",
   "mimetype": "text/x-python",
   "name": "python",
   "nbconvert_exporter": "python",
   "pygments_lexer": "ipython3",
   "version": "3.9.11"
  }
 },
 "nbformat": 4,
 "nbformat_minor": 5
}
