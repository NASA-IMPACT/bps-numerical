{
 "cells": [
  {
   "cell_type": "code",
   "execution_count": null,
   "id": "bc9e4454",
   "metadata": {},
   "outputs": [],
   "source": [
    "%reload_ext autoreload\n",
    "%autoreload 2"
   ]
  },
  {
   "cell_type": "code",
   "execution_count": null,
   "id": "617429cb",
   "metadata": {},
   "outputs": [],
   "source": [
    "import numpy as np\n",
    "import pandas as pd\n",
    "import matplotlib.pyplot as plt\n",
    "import seaborn as sns\n",
    "import plotly.express as px\n",
    "\n",
    "import random\n",
    "\n",
    "%matplotlib inline"
   ]
  },
  {
   "cell_type": "code",
   "execution_count": null,
   "id": "2d21a78a",
   "metadata": {},
   "outputs": [],
   "source": [
    "import sys\n",
    "\n",
    "sys.path.append(\"./\")\n",
    "sys.path.append(\"../code/\")\n",
    "sys.path.append(\"./code/\")\n",
    "\n",
    "import time"
   ]
  },
  {
   "cell_type": "code",
   "execution_count": null,
   "id": "1115a527",
   "metadata": {},
   "outputs": [],
   "source": [
    "from typing import List, Tuple, Union"
   ]
  },
  {
   "cell_type": "code",
   "execution_count": null,
   "id": "41452519",
   "metadata": {},
   "outputs": [],
   "source": [
    "from loguru import logger"
   ]
  },
  {
   "cell_type": "markdown",
   "id": "cb58ab98",
   "metadata": {},
   "source": [
    "# Data Loader"
   ]
  },
  {
   "cell_type": "code",
   "execution_count": null,
   "id": "8656fa35",
   "metadata": {},
   "outputs": [],
   "source": [
    "from bps_numerical.preprocessing import merge_gene_phenotype, standardize_gene_data"
   ]
  },
  {
   "cell_type": "code",
   "execution_count": null,
   "id": "427c905a",
   "metadata": {},
   "outputs": [],
   "source": [
    "CSV_GENE = \"/Users/nishparadox/dev/uah/nasa-impact/gene-experiments/data/OneDrive_1_3-21-2022/gen.csv\"\n",
    "\n",
    "CSV_PHENOTYPE = \"/Users/nishparadox/dev/uah/nasa-impact/gene-experiments/data/OneDrive_1_3-21-2022/meta.csv\""
   ]
  },
  {
   "cell_type": "code",
   "execution_count": null,
   "id": "c0c53f72",
   "metadata": {},
   "outputs": [],
   "source": [
    "# df_merged = merge_gene_phenotype(standardize_gene_data(CSV_GENE), CSV_PHENOTYPE)"
   ]
  },
  {
   "cell_type": "code",
   "execution_count": null,
   "id": "27063b15",
   "metadata": {},
   "outputs": [],
   "source": [
    "df_genes = standardize_gene_data(CSV_GENE)"
   ]
  },
  {
   "cell_type": "code",
   "execution_count": null,
   "id": "a71bcd0d",
   "metadata": {},
   "outputs": [],
   "source": [
    "df_genes.head()"
   ]
  },
  {
   "cell_type": "code",
   "execution_count": null,
   "id": "c26f9391",
   "metadata": {},
   "outputs": [],
   "source": [
    "samples = df_genes.pop(\"Sample\")"
   ]
  },
  {
   "cell_type": "code",
   "execution_count": null,
   "id": "3954bef2",
   "metadata": {},
   "outputs": [],
   "source": [
    "df_genes = df_genes.astype(float)"
   ]
  },
  {
   "cell_type": "code",
   "execution_count": null,
   "id": "00e743a7",
   "metadata": {},
   "outputs": [],
   "source": [
    "df_genes.iloc[0].dtype"
   ]
  },
  {
   "cell_type": "markdown",
   "id": "1e3bfc3a",
   "metadata": {},
   "source": [
    "# Feature Selection"
   ]
  },
  {
   "cell_type": "code",
   "execution_count": null,
   "id": "b90d52a4",
   "metadata": {},
   "outputs": [],
   "source": [
    "from bps_numerical.clustering import CorrelationClusterer\n",
    "from bps_numerical.feature_selection import FirstFeatureSelector, KRandomizedFeatureSelector"
   ]
  },
  {
   "cell_type": "code",
   "execution_count": null,
   "id": "c3a58e7f",
   "metadata": {},
   "outputs": [],
   "source": [
    "clusterer = CorrelationClusterer(\n",
    "    list(df_genes.columns),\n",
    "    cutoff_threshold=0.3,\n",
    "    debug=False\n",
    ")"
   ]
  },
  {
   "cell_type": "code",
   "execution_count": null,
   "id": "b16e03e7",
   "metadata": {},
   "outputs": [],
   "source": [
    "fs = FirstFeatureSelector(clusterer=clusterer)\n",
    "# fs = KRandomizedFeatureSelector(clusterer=clusterer, k_features=2)"
   ]
  },
  {
   "cell_type": "code",
   "execution_count": null,
   "id": "4bccff0b",
   "metadata": {},
   "outputs": [],
   "source": [
    "cols_genes = fs.select_features(df_genes)"
   ]
  },
  {
   "cell_type": "code",
   "execution_count": null,
   "id": "0c7b45e5",
   "metadata": {},
   "outputs": [],
   "source": [
    "# cols_genes = list(df_genes.columns)"
   ]
  },
  {
   "cell_type": "code",
   "execution_count": null,
   "id": "c943ea5c",
   "metadata": {},
   "outputs": [],
   "source": [
    "len(cols_genes)"
   ]
  },
  {
   "cell_type": "code",
   "execution_count": null,
   "id": "03c820e4",
   "metadata": {},
   "outputs": [],
   "source": [
    "cols_genes[:10]"
   ]
  },
  {
   "cell_type": "code",
   "execution_count": null,
   "id": "d79e8f66",
   "metadata": {},
   "outputs": [],
   "source": [
    "# len(df_genes.columns)"
   ]
  },
  {
   "cell_type": "markdown",
   "id": "fd507d09",
   "metadata": {},
   "source": [
    "# Data Prep"
   ]
  },
  {
   "cell_type": "code",
   "execution_count": null,
   "id": "5f15f109",
   "metadata": {},
   "outputs": [],
   "source": [
    "df_merged = merge_gene_phenotype(\n",
    "    pd.concat([samples, df_genes[cols_genes]], axis=1),\n",
    "    CSV_PHENOTYPE,\n",
    "    \"Sample\",\n",
    ")"
   ]
  },
  {
   "cell_type": "code",
   "execution_count": null,
   "id": "9039d9f7",
   "metadata": {},
   "outputs": [],
   "source": [
    "df_merged.shape"
   ]
  },
  {
   "cell_type": "code",
   "execution_count": null,
   "id": "5ac6d994",
   "metadata": {},
   "outputs": [],
   "source": [
    "df_merged.head()"
   ]
  },
  {
   "cell_type": "code",
   "execution_count": null,
   "id": "8042fdc4",
   "metadata": {},
   "outputs": [],
   "source": [
    "len(cols_genes)"
   ]
  },
  {
   "cell_type": "markdown",
   "id": "7c5349d2",
   "metadata": {},
   "source": [
    "# Ranker\n",
    "\n",
    "To further narrow down the gene space, we could train N different isolated classifiers for a specific\n",
    "phenotype and then use those genes for training only that phenotype later."
   ]
  },
  {
   "cell_type": "code",
   "execution_count": null,
   "id": "2ba9ab2f",
   "metadata": {},
   "outputs": [],
   "source": [
    "from bps_numerical.classification.feature_scorers import GeneRanker"
   ]
  },
  {
   "cell_type": "code",
   "execution_count": null,
   "id": "8191a5a1",
   "metadata": {},
   "outputs": [],
   "source": [
    "ranker = GeneRanker(\n",
    "    cols_genes, \n",
    "    phenotype=\"condition\",\n",
    "    n_runs = 5,\n",
    "    debug=True,\n",
    ")"
   ]
  },
  {
   "cell_type": "code",
   "execution_count": null,
   "id": "d2040066",
   "metadata": {
    "scrolled": false
   },
   "outputs": [],
   "source": [
    "features = ranker.get_features(df_merged, test_size=0.2, top_k=500, ignore_zeros=True, normalize=True)"
   ]
  },
  {
   "cell_type": "code",
   "execution_count": null,
   "id": "6ed89d81",
   "metadata": {},
   "outputs": [],
   "source": [
    "len(features)"
   ]
  },
  {
   "cell_type": "code",
   "execution_count": null,
   "id": "2740c8ab",
   "metadata": {},
   "outputs": [],
   "source": [
    "fts, _ = zip(*features)\n",
    "fts"
   ]
  },
  {
   "cell_type": "markdown",
   "id": "0bec9258",
   "metadata": {},
   "source": [
    "# Trainer"
   ]
  },
  {
   "cell_type": "code",
   "execution_count": null,
   "id": "eb90d65e",
   "metadata": {},
   "outputs": [],
   "source": [
    "from bps_numerical.classification import SinglePhenotypeClassifier, MultiPhenotypeIsolatedClassifier"
   ]
  },
  {
   "cell_type": "code",
   "execution_count": null,
   "id": "79472d6a",
   "metadata": {},
   "outputs": [],
   "source": [
    "# single phenotype\n",
    "\n",
    "# model = xgboost.XGBClassifier()\n",
    "clf = SinglePhenotypeClassifier(\n",
    "    cols_genes=cols_genes,\n",
    "    phenotype=\"condition\",\n",
    "#     model = model\n",
    ")"
   ]
  },
  {
   "cell_type": "code",
   "execution_count": null,
   "id": "dac5e2f4",
   "metadata": {},
   "outputs": [],
   "source": [
    "# tracker_single = clf.train(df_merged)"
   ]
  },
  {
   "cell_type": "code",
   "execution_count": null,
   "id": "b5f15f9b",
   "metadata": {},
   "outputs": [],
   "source": [
    "# tracker_single"
   ]
  },
  {
   "cell_type": "markdown",
   "id": "df3bbdb5",
   "metadata": {},
   "source": [
    "# Multiple phenotypes"
   ]
  },
  {
   "cell_type": "code",
   "execution_count": null,
   "id": "224ea4d1",
   "metadata": {},
   "outputs": [],
   "source": [
    "clf_condition = SinglePhenotypeClassifier(cols_genes, \"condition\")\n",
    "clf_strain = SinglePhenotypeClassifier(cols_genes, \"strain\")\n",
    "clf_gender = SinglePhenotypeClassifier(cols_genes, \"gender\")\n",
    "clf_mission = SinglePhenotypeClassifier(cols_genes, \"mission\")\n",
    "clf_animal_return = SinglePhenotypeClassifier(cols_genes, \"animalreturn\")\n",
    "trainer = MultiPhenotypeIsolatedClassifier(\n",
    "    cols_genes=cols_genes,\n",
    "    classifiers=[\n",
    "        clf_condition,\n",
    "        clf_strain,\n",
    "        clf_gender,\n",
    "        clf_mission,\n",
    "        clf_animal_return\n",
    "    ],\n",
    "    debug=True,\n",
    ")"
   ]
  },
  {
   "cell_type": "code",
   "execution_count": null,
   "id": "8f85d337",
   "metadata": {},
   "outputs": [],
   "source": [
    "tracker_multi = trainer.train(df_merged)"
   ]
  },
  {
   "cell_type": "code",
   "execution_count": null,
   "id": "a6d8eee4",
   "metadata": {},
   "outputs": [],
   "source": [
    "tracker_multi"
   ]
  },
  {
   "cell_type": "code",
   "execution_count": null,
   "id": "18041a87",
   "metadata": {},
   "outputs": [],
   "source": [
    "tracker_multi[\"animalreturn\"]"
   ]
  },
  {
   "cell_type": "markdown",
   "id": "6744524f",
   "metadata": {},
   "source": [
    "# Feature Scorer"
   ]
  },
  {
   "cell_type": "code",
   "execution_count": null,
   "id": "aa87c786",
   "metadata": {},
   "outputs": [],
   "source": [
    "from bps_numerical.classification.feature_scorers import PhenotypeFeatureScorer"
   ]
  },
  {
   "cell_type": "code",
   "execution_count": null,
   "id": "5dbe08ac",
   "metadata": {},
   "outputs": [],
   "source": [
    "for clf in trainer.classifiers:\n",
    "    print(clf.phenotype, len(PhenotypeFeatureScorer(clf).get_features(top_k=500, ignore_zeros=True)))"
   ]
  },
  {
   "cell_type": "code",
   "execution_count": null,
   "id": "8c78a6b3",
   "metadata": {
    "scrolled": false
   },
   "outputs": [],
   "source": [
    "PhenotypeFeatureScorer(clf).get_features(top_k=500, ignore_zeros=True, normalize=True)"
   ]
  },
  {
   "cell_type": "code",
   "execution_count": null,
   "id": "58331b4f",
   "metadata": {},
   "outputs": [],
   "source": [
    "len(PhenotypeFeatureScorer(trainer).get_features(top_k=500, ignore_zeros=False))"
   ]
  },
  {
   "cell_type": "code",
   "execution_count": null,
   "id": "222a564c",
   "metadata": {},
   "outputs": [],
   "source": [
    "# if we ignore 0-score features\n",
    "len(PhenotypeFeatureScorer(*trainer.classifiers).get_features(top_k=500, ignore_zeros=True))"
   ]
  },
  {
   "cell_type": "code",
   "execution_count": null,
   "id": "950ab8e1",
   "metadata": {},
   "outputs": [],
   "source": [
    "list(map(lambda f: f[0], PhenotypeFeatureScorer(clf_condition, clf_strain).get_features(top_k=500, ignore_zeros=True, normalize=True)))"
   ]
  },
  {
   "cell_type": "markdown",
   "id": "c31a8eb4",
   "metadata": {},
   "source": [
    "### permutation"
   ]
  },
  {
   "cell_type": "code",
   "execution_count": null,
   "id": "173001d4",
   "metadata": {},
   "outputs": [],
   "source": [
    "import itertools"
   ]
  },
  {
   "cell_type": "code",
   "execution_count": null,
   "id": "3cc48ad5",
   "metadata": {},
   "outputs": [],
   "source": [
    "def compute_permuted_scores(*classifiers, ignore_zeros: bool = True, top_k: int = 500):\n",
    "    def _powerset(items):\n",
    "        for sl in itertools.product(*[[[], [i]] for i in items]):\n",
    "            yield {j for i in sl for j in i}\n",
    "    \n",
    "    res = {}\n",
    "    for objs in _powerset(classifiers):\n",
    "        if len(objs) < 2:\n",
    "            continue\n",
    "        labels = tuple(map(lambda clf: clf.phenotype, objs))\n",
    "        res[labels] = PhenotypeFeatureScorer(*objs).get_features(top_k=top_k, ignore_zeros=True, normalize=True)\n",
    "    return res"
   ]
  },
  {
   "cell_type": "code",
   "execution_count": null,
   "id": "abdf0348",
   "metadata": {},
   "outputs": [],
   "source": [
    "permuted_ =  compute_permuted_scores(*trainer.classifiers, top_k=1000)"
   ]
  },
  {
   "cell_type": "code",
   "execution_count": null,
   "id": "2f6e8af2",
   "metadata": {},
   "outputs": [],
   "source": [
    "dict(map(lambda p: (p[0], (len(p[1]), p[1])), permuted_.items()))"
   ]
  },
  {
   "cell_type": "code",
   "execution_count": null,
   "id": "df5db177",
   "metadata": {},
   "outputs": [],
   "source": [
    "dict(map(lambda p: (p[0], len(p[1])), permuted_.items()))"
   ]
  },
  {
   "cell_type": "markdown",
   "id": "2d4d9d85",
   "metadata": {},
   "source": [
    "# Plot Top features"
   ]
  },
  {
   "cell_type": "code",
   "execution_count": null,
   "id": "24105dc8",
   "metadata": {},
   "outputs": [],
   "source": [
    "def plot_features(features: List[Tuple[str, float]], view_slicer:int = 75):\n",
    "    df_top_k = pd.DataFrame(features[:view_slicer], columns=[\"gene\", \"importance\"])\n",
    "    fig = px.bar(\n",
    "        df_top_k,\n",
    "        x=\"importance\",\n",
    "        y=\"gene\",\n",
    "        title=f\"{view_slicer} features\",\n",
    "        orientation=\"h\",\n",
    "        height=1600,\n",
    "        width=1000,\n",
    "    #     text_auto=True,\n",
    "    )\n",
    "    # fig.update_traces(width=3)\n",
    "    fig.update_layout(yaxis = dict(tickfont = dict(size=7)))\n",
    "    fig.show()"
   ]
  },
  {
   "cell_type": "code",
   "execution_count": null,
   "id": "45e363e9",
   "metadata": {},
   "outputs": [],
   "source": [
    "plot_features(\n",
    "    PhenotypeFeatureScorer(clf_mission, clf_strain).get_features(top_k=500, ignore_zeros=True, normalize=True)\n",
    ")"
   ]
  },
  {
   "cell_type": "code",
   "execution_count": null,
   "id": "7297b146",
   "metadata": {},
   "outputs": [],
   "source": []
  },
  {
   "cell_type": "code",
   "execution_count": null,
   "id": "d4c4a543",
   "metadata": {},
   "outputs": [],
   "source": []
  },
  {
   "cell_type": "code",
   "execution_count": null,
   "id": "a77680ba",
   "metadata": {},
   "outputs": [],
   "source": []
  }
 ],
 "metadata": {
  "kernelspec": {
   "display_name": "Python 3 (ipykernel)",
   "language": "python",
   "name": "python3"
  },
  "language_info": {
   "codemirror_mode": {
    "name": "ipython",
    "version": 3
   },
   "file_extension": ".py",
   "mimetype": "text/x-python",
   "name": "python",
   "nbconvert_exporter": "python",
   "pygments_lexer": "ipython3",
   "version": "3.9.11"
  }
 },
 "nbformat": 4,
 "nbformat_minor": 5
}
